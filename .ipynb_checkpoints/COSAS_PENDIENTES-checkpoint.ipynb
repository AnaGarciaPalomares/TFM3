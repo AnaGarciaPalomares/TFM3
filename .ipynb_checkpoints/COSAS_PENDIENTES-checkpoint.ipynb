{
 "cells": [
  {
   "cell_type": "markdown",
   "id": "6d1eb1bb",
   "metadata": {},
   "source": [
    "# COSAS A TENER ENCUENTA EN ADELANTE"
   ]
  },
  {
   "cell_type": "markdown",
   "id": "a44108bd",
   "metadata": {},
   "source": [
    "### PERFIL DEL SINIESTRO"
   ]
  },
  {
   "cell_type": "markdown",
   "id": "a57a4c8e",
   "metadata": {},
   "source": [
    "### 1. Rangos de edad\n",
    "Hay que reagrupar, en funcion del perfil de riesgo"
   ]
  },
  {
   "cell_type": "markdown",
   "id": "ac351d3b",
   "metadata": {},
   "source": [
    "### 2. 'tipo_persona' == 'Conductor'\n",
    "Si solo queremos saber el perfil de la persona siniestrada"
   ]
  },
  {
   "cell_type": "code",
   "execution_count": 1,
   "id": "f298d079",
   "metadata": {},
   "outputs": [
    {
     "ename": "NameError",
     "evalue": "name 'aa' is not defined",
     "output_type": "error",
     "traceback": [
      "\u001b[0;31m---------------------------------------------------------------------------\u001b[0m",
      "\u001b[0;31mNameError\u001b[0m                                 Traceback (most recent call last)",
      "\u001b[0;32m/tmp/ipykernel_3666/3063557346.py\u001b[0m in \u001b[0;36m<module>\u001b[0;34m\u001b[0m\n\u001b[0;32m----> 1\u001b[0;31m \u001b[0min_2008\u001b[0m \u001b[0;34m=\u001b[0m \u001b[0maa\u001b[0m\u001b[0;34m[\u001b[0m\u001b[0;34m'tipo_persona'\u001b[0m\u001b[0;34m]\u001b[0m \u001b[0;34m==\u001b[0m \u001b[0;34m'Conductor'\u001b[0m\u001b[0;34m\u001b[0m\u001b[0;34m\u001b[0m\u001b[0m\n\u001b[0m\u001b[1;32m      2\u001b[0m \u001b[0mplanets_2008\u001b[0m \u001b[0;34m=\u001b[0m \u001b[0maa\u001b[0m\u001b[0;34m[\u001b[0m\u001b[0min_2008\u001b[0m\u001b[0;34m]\u001b[0m\u001b[0;34m\u001b[0m\u001b[0;34m\u001b[0m\u001b[0m\n\u001b[1;32m      3\u001b[0m \u001b[0mplanets_2008\u001b[0m\u001b[0;34m.\u001b[0m\u001b[0mrango_edad\u001b[0m\u001b[0;34m.\u001b[0m\u001b[0mvalue_counts\u001b[0m\u001b[0;34m(\u001b[0m\u001b[0;34m)\u001b[0m\u001b[0;34m\u001b[0m\u001b[0;34m\u001b[0m\u001b[0m\n",
      "\u001b[0;31mNameError\u001b[0m: name 'aa' is not defined"
     ]
    }
   ],
   "source": [
    "in_2008 = aa['tipo_persona'] == 'Conductor'\n",
    "planets_2008 = aa[in_2008]\n",
    "planets_2008.rango_edad.value_counts()"
   ]
  },
  {
   "cell_type": "code",
   "execution_count": null,
   "id": "0c2ecbc1",
   "metadata": {},
   "outputs": [],
   "source": []
  },
  {
   "cell_type": "code",
   "execution_count": null,
   "id": "e5e16d85",
   "metadata": {},
   "outputs": [],
   "source": []
  },
  {
   "cell_type": "code",
   "execution_count": null,
   "id": "cf85e4c0",
   "metadata": {},
   "outputs": [],
   "source": []
  },
  {
   "cell_type": "code",
   "execution_count": null,
   "id": "b3ba341a",
   "metadata": {},
   "outputs": [],
   "source": []
  },
  {
   "cell_type": "code",
   "execution_count": null,
   "id": "51cf1471",
   "metadata": {},
   "outputs": [],
   "source": [
    "#aplicar filtro a fecha\n",
    "filtered_df = aa.loc[(aa['fecha_datetime'] == '2019-01-04')]"
   ]
  }
 ],
 "metadata": {
  "kernelspec": {
   "display_name": "Python 3 (ipykernel)",
   "language": "python",
   "name": "python3"
  },
  "language_info": {
   "codemirror_mode": {
    "name": "ipython",
    "version": 3
   },
   "file_extension": ".py",
   "mimetype": "text/x-python",
   "name": "python",
   "nbconvert_exporter": "python",
   "pygments_lexer": "ipython3",
   "version": "3.8.2"
  }
 },
 "nbformat": 4,
 "nbformat_minor": 5
}
