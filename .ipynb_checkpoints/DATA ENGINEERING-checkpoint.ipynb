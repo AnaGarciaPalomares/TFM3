{
 "cells": [
  {
   "cell_type": "markdown",
   "id": "d5edf3ca",
   "metadata": {},
   "source": [
    "# DATA ENGINEERING"
   ]
  },
  {
   "cell_type": "code",
   "execution_count": 1,
   "id": "bd552809",
   "metadata": {},
   "outputs": [],
   "source": [
    "import pandas as pd\n",
    "import numpy as np\n",
    "import matplotlib.pyplot as plt\n",
    "from sklearn.pipeline import Pipeline\n",
    "from sklearn.ensemble import RandomForestClassifier\n",
    "from sklearn.impute import SimpleImputer\n",
    "import sklearn\n",
    "from sklearn.preprocessing import OneHotEncoder\n",
    "from datetime import datetime"
   ]
  },
  {
   "cell_type": "code",
   "execution_count": 2,
   "id": "8be4ab85",
   "metadata": {},
   "outputs": [],
   "source": [
    "path_data = '/home/dsc/Master DS/TFM/GIT/accidents.csv'\n",
    "accidents = pd.read_csv(path_data, sep = '^' )"
   ]
  },
  {
   "cell_type": "code",
   "execution_count": 3,
   "id": "ec2fa018",
   "metadata": {},
   "outputs": [],
   "source": [
    "path_data_2 = '/home/dsc/Master DS/TFM/GIT/accidents_total.csv'\n",
    "accidents_all = pd.read_csv(path_data_2, sep = '^' )"
   ]
  },
  {
   "cell_type": "markdown",
   "id": "f74378c5",
   "metadata": {},
   "source": [
    "Eliminamos la columna:"
   ]
  },
  {
   "cell_type": "code",
   "execution_count": 4,
   "id": "781a0612",
   "metadata": {},
   "outputs": [],
   "source": [
    "accidents_df = accidents.drop(['Unnamed: 0'], axis=1);"
   ]
  },
  {
   "cell_type": "markdown",
   "id": "4ea8ef49",
   "metadata": {},
   "source": [
    "## ANÁLISIS Y TRANSFORMACIÓN DEL DATO DE LAS COLUMNAS\n",
    "Para poder aplicar los metodos del Machine learning, hay que pasar todos los datos a numero. Lo primero que tendremos hacer antes de la trasformacion, es analizar el tipo de dato que contiene cada columna, ver las categorias y su contenido, para luego saber como poder transformalos y aplicarles los metodos."
   ]
  },
  {
   "cell_type": "code",
   "execution_count": 5,
   "id": "5b146ce9",
   "metadata": {},
   "outputs": [
    {
     "data": {
      "text/plain": [
       "num_expediente           object\n",
       "fecha                    object\n",
       "hora                     object\n",
       "cod_distrito            float64\n",
       "tipo_accidente           object\n",
       "estado_meteorologico     object\n",
       "coordenada_x_utm        float64\n",
       "coordenada_y_utm        float64\n",
       "year_date                 int64\n",
       "week_day                 object\n",
       "month                     int64\n",
       "num_exp                   int64\n",
       "hour                      int64\n",
       "is_weekend_bank            bool\n",
       "dtype: object"
      ]
     },
     "execution_count": 5,
     "metadata": {},
     "output_type": "execute_result"
    }
   ],
   "source": [
    "accidents_df.dtypes"
   ]
  },
  {
   "cell_type": "markdown",
   "id": "d8a7e0b7",
   "metadata": {},
   "source": [
    "1. Con las columnas **'fecha' y 'hora'**, queremos generar una columna que las fusiones y tenga el formato datetime, y tambien tendremos una columna solo con la fecha y formato *datetime*:"
   ]
  },
  {
   "cell_type": "code",
   "execution_count": 6,
   "id": "f7c192c3",
   "metadata": {},
   "outputs": [],
   "source": [
    "accidents_df['fecha_datetime'] = pd.to_datetime(accidents_df['fecha'])"
   ]
  },
  {
   "cell_type": "code",
   "execution_count": 7,
   "id": "33a0648e",
   "metadata": {},
   "outputs": [],
   "source": [
    "accidents_df['fecha_hora'] = accidents_df[['fecha', 'hora']].apply(' '.join, axis=1)"
   ]
  },
  {
   "cell_type": "code",
   "execution_count": 8,
   "id": "a92f1bdd",
   "metadata": {},
   "outputs": [],
   "source": [
    "accidents_df['fecha_hora_datetime'] = pd.to_datetime(accidents_df['fecha_hora'])"
   ]
  },
  {
   "cell_type": "code",
   "execution_count": 9,
   "id": "00fa8863",
   "metadata": {},
   "outputs": [],
   "source": [
    "accidents_df = accidents_df.drop(['fecha_hora'], axis=1);"
   ]
  },
  {
   "cell_type": "markdown",
   "id": "ce01de38",
   "metadata": {},
   "source": [
    "2. **'estado_meteorologico'**"
   ]
  },
  {
   "cell_type": "code",
   "execution_count": 10,
   "id": "cb1da139",
   "metadata": {},
   "outputs": [
    {
     "data": {
      "text/plain": [
       "Despejado         40838\n",
       "Se desconoce       6346\n",
       "Lluvia débil       3447\n",
       "Nublado            2533\n",
       "LLuvia intensa      728\n",
       "Nevando             103\n",
       "Granizando           13\n",
       "Name: estado_meteorologico, dtype: int64"
      ]
     },
     "execution_count": 10,
     "metadata": {},
     "output_type": "execute_result"
    }
   ],
   "source": [
    "accidents_df.estado_meteorologico.value_counts()"
   ]
  },
  {
   "cell_type": "markdown",
   "id": "1bb22cd1",
   "metadata": {},
   "source": [
    "Observaciones:\n",
    "- 'Se desconoce' -- Vamos a intentar eliminar los 'Se desconoce' al considerar que para dichos dias en otros siniestros sí habrá sido notificado el 'estado_meteorologico' y pondremos el estado más frecuente de los comunicados para dicho día\n",
    "- ordenado por gravedad:\n",
    "    1. Despejado\n",
    "    2. Nublado\n",
    "    3. Lluvia débil\n",
    "    4. LLuvia intensa \n",
    "    5. Granizando\n",
    "    6. Nevando"
   ]
  },
  {
   "cell_type": "markdown",
   "id": "00bb409e",
   "metadata": {},
   "source": [
    "Vamos a sacar una lista de los siniestros donde su 'estado_meteorologico' es desconocido, para saber que siniestros serán los que tendremos que modificarle el 'estado_meteorologico'."
   ]
  },
  {
   "cell_type": "code",
   "execution_count": 11,
   "id": "14102b79",
   "metadata": {},
   "outputs": [],
   "source": [
    "meteo_desc = accidents_df[accidents_df['estado_meteorologico']=='Se desconoce']"
   ]
  },
  {
   "cell_type": "markdown",
   "id": "6c050684",
   "metadata": {},
   "source": [
    "Para aquellos siniestros donde si se ha notificado el 'estado_meteorologico', vamos a ver el 'estado_meteorologico' más común para tener un listado, por el que modificaremos los 'Se desconoce' por el más frecuente para un mismo dia."
   ]
  },
  {
   "cell_type": "code",
   "execution_count": 12,
   "id": "cf5ddda7",
   "metadata": {},
   "outputs": [],
   "source": [
    "meteo_conoc = accidents_df[accidents_df['estado_meteorologico']!='Se desconoce']"
   ]
  },
  {
   "cell_type": "code",
   "execution_count": 13,
   "id": "a59c4300",
   "metadata": {},
   "outputs": [],
   "source": [
    "est_meteo_freq =\\\n",
    "meteo_conoc.groupby(['fecha'])['estado_meteorologico'].apply(lambda x: x.value_counts().index[0]).reset_index()"
   ]
  },
  {
   "cell_type": "markdown",
   "id": "5c22cad2",
   "metadata": {},
   "source": [
    "Ahora para el df donde el estado meteorologico es desconocido, sustituiremos el 'estado_meteorologico' por el que consta en el listado de los más comúnes para dicha fecha."
   ]
  },
  {
   "cell_type": "code",
   "execution_count": 14,
   "id": "7b1d97d0",
   "metadata": {},
   "outputs": [],
   "source": [
    "meteo_desc_trans = pd.merge(meteo_desc, est_meteo_freq, left_on ='fecha', right_on ='fecha')"
   ]
  },
  {
   "cell_type": "code",
   "execution_count": 15,
   "id": "b32f4907",
   "metadata": {},
   "outputs": [
    {
     "data": {
      "text/plain": [
       "Despejado         5897\n",
       "Lluvia débil       387\n",
       "Nublado             26\n",
       "Nevando             21\n",
       "LLuvia intensa      15\n",
       "Name: estado_meteorologico_y, dtype: int64"
      ]
     },
     "execution_count": 15,
     "metadata": {},
     "output_type": "execute_result"
    }
   ],
   "source": [
    "meteo_desc_trans['estado_meteorologico_y'].value_counts()"
   ]
  },
  {
   "cell_type": "code",
   "execution_count": 16,
   "id": "5cb90bd9",
   "metadata": {},
   "outputs": [],
   "source": [
    "meteo_desc_trans_df = meteo_desc_trans.drop(['estado_meteorologico_x'], axis=1)"
   ]
  },
  {
   "cell_type": "code",
   "execution_count": 17,
   "id": "a7f337fd",
   "metadata": {},
   "outputs": [],
   "source": [
    "meteo_desc_trans_df = meteo_desc_trans_df.rename(columns={'estado_meteorologico_y':'estado_meteorologico'})"
   ]
  },
  {
   "cell_type": "code",
   "execution_count": 18,
   "id": "3ecff477",
   "metadata": {},
   "outputs": [],
   "source": [
    "acc_df = pd.concat([meteo_conoc,meteo_desc_trans_df])"
   ]
  },
  {
   "cell_type": "code",
   "execution_count": 19,
   "id": "3eebddea",
   "metadata": {},
   "outputs": [
    {
     "data": {
      "text/plain": [
       "Despejado         46735\n",
       "Lluvia débil       3834\n",
       "Nublado            2559\n",
       "LLuvia intensa      743\n",
       "Nevando             124\n",
       "Granizando           13\n",
       "Name: estado_meteorologico, dtype: int64"
      ]
     },
     "execution_count": 19,
     "metadata": {},
     "output_type": "execute_result"
    }
   ],
   "source": [
    "acc_df.estado_meteorologico.value_counts()"
   ]
  },
  {
   "cell_type": "markdown",
   "id": "9b0478b6",
   "metadata": {},
   "source": [
    "Para la transformacion de las categorias a numero vamos a realizar un **'Ordinal Encoding'**, ya que queremos graduar de mayor a menor la gravedad del estado armosferico, siguiendo las siguientes categorias:"
   ]
  },
  {
   "cell_type": "markdown",
   "id": "8ee2b53d",
   "metadata": {},
   "source": [
    "0: Despejado, 1: Nublado, 2: Lluvia débil, 3: LLuvia intensa, 4: Granizando, 5: Nevando        "
   ]
  },
  {
   "cell_type": "code",
   "execution_count": 20,
   "id": "566ed4d8",
   "metadata": {},
   "outputs": [],
   "source": [
    "estado_meteorologico_dic = {'Despejado':0,'Nublado':1,'Lluvia débil':2,\n",
    "                            'LLuvia intensa':3,'Granizando':4,'Nevando':5}"
   ]
  },
  {
   "cell_type": "code",
   "execution_count": 21,
   "id": "ddbcc503",
   "metadata": {},
   "outputs": [],
   "source": [
    "acc_df['est_meteo_dic'] = acc_df.estado_meteorologico.map(estado_meteorologico_dic)"
   ]
  },
  {
   "cell_type": "markdown",
   "id": "af4d7886",
   "metadata": {},
   "source": [
    "De cara a las reducciones que tendremos que hacer posteriormente por recuento de siniestros al dia, vamos a construir una columna de estado meteorológico más frecuente por dia."
   ]
  },
  {
   "cell_type": "code",
   "execution_count": 22,
   "id": "a41924d6",
   "metadata": {},
   "outputs": [],
   "source": [
    "est_meteo_freq_2 =\\\n",
    "acc_df.groupby(['fecha'])['estado_meteorologico'].apply(lambda x: x.value_counts().index[0]).reset_index()"
   ]
  },
  {
   "cell_type": "code",
   "execution_count": 23,
   "id": "02d44c03",
   "metadata": {},
   "outputs": [],
   "source": [
    "acc_df = pd.merge(acc_df, est_meteo_freq_2, left_on='fecha', right_on='fecha')"
   ]
  },
  {
   "cell_type": "code",
   "execution_count": 24,
   "id": "33006836",
   "metadata": {},
   "outputs": [],
   "source": [
    "acc_df = acc_df.rename(columns={'estado_meteorologico_x':'estado_meteorologico'})"
   ]
  },
  {
   "cell_type": "code",
   "execution_count": 25,
   "id": "98e625ae",
   "metadata": {},
   "outputs": [],
   "source": [
    "acc_df = acc_df.rename(columns={'estado_meteorologico_y':'est_meteo_mas_freq'})"
   ]
  },
  {
   "cell_type": "markdown",
   "id": "9cd2046e",
   "metadata": {},
   "source": [
    "A esta columna habrá que aplicarle el 'label encoding'"
   ]
  },
  {
   "cell_type": "code",
   "execution_count": 26,
   "id": "f5327a79",
   "metadata": {},
   "outputs": [],
   "source": [
    "acc_df['est_meteo_mas_freq_dic'] = acc_df.est_meteo_mas_freq.map(estado_meteorologico_dic)"
   ]
  },
  {
   "cell_type": "markdown",
   "id": "16dd375d",
   "metadata": {},
   "source": [
    "3. **'tipo_accidente'**"
   ]
  },
  {
   "cell_type": "code",
   "execution_count": 27,
   "id": "9e0ffe75",
   "metadata": {},
   "outputs": [
    {
     "data": {
      "text/plain": [
       "Colisión fronto-lateral         12184\n",
       "Alcance                         11135\n",
       "Choque contra obstáculo fijo     8575\n",
       "Colisión lateral                 7357\n",
       "Caída                            5629\n",
       "Atropello a persona              3691\n",
       "Colisión múltiple                2192\n",
       "Otro                             1338\n",
       "Colisión frontal                 1185\n",
       "Solo salida de la vía             303\n",
       "Vuelco                            237\n",
       "Atropello a animal                175\n",
       "Despeñamiento                       7\n",
       "Name: tipo_accidente, dtype: int64"
      ]
     },
     "execution_count": 27,
     "metadata": {},
     "output_type": "execute_result"
    }
   ],
   "source": [
    "acc_df.tipo_accidente.value_counts()"
   ]
  },
  {
   "cell_type": "markdown",
   "id": "36e7207d",
   "metadata": {},
   "source": [
    "Observaciones:\n",
    "- la categoria 'Otro' será considerada como otra categoria\n",
    "- reagruparemos las categorias para reducir la cantidad en caso de elementos similares y usaremos un codigo descriptivo:\n",
    "    - Colisión fronto-lateral / Colisión lateral / Colisión frontal\n",
    "    - Alcance\n",
    "    - Choque contra obstáculo fijo\n",
    "    - Caída\n",
    "    - Atropello a persona\n",
    "    - Colisión múltiple\n",
    "    - Solo salida de la vía \n",
    "    - Vuelco\n",
    "    - Atropello a animal\n",
    "    - Despeñamiento -- Debido a su pequeño tamaño lo unimos a 'Otro'\n",
    " \n",
    " Para la transformación a número usaremos un **encoder de frecuencia**"
   ]
  },
  {
   "cell_type": "code",
   "execution_count": 28,
   "id": "ee6f9178",
   "metadata": {},
   "outputs": [],
   "source": [
    "#provisionalmente vamos a hacer un label encoding"
   ]
  },
  {
   "cell_type": "code",
   "execution_count": 29,
   "id": "5cccea1d",
   "metadata": {},
   "outputs": [],
   "source": [
    "tipo_accidente_dic = {'Colisión fronto-lateral':0,\n",
    "                            'Alcance':1,\n",
    "                            'Choque contra obstáculo fijo':2,\n",
    "                            'Colisión lateral':0,\n",
    "                            'Caída':3,\n",
    "                            'Atropello a persona':4,\n",
    "                            'Colisión múltiple':5,\n",
    "                            'Otro':6,\n",
    "                           'Colisión frontal':0,\n",
    "                           'Solo salida de la vía':7,\n",
    "                           'Vuelco':8,\n",
    "                           'Atropello a animal':9,\n",
    "                           'Despeñamiento':6}"
   ]
  },
  {
   "cell_type": "code",
   "execution_count": 30,
   "id": "b6b9f29b",
   "metadata": {},
   "outputs": [],
   "source": [
    "acc_df['tipo_acc_dic'] = acc_df.tipo_accidente.map(tipo_accidente_dic)"
   ]
  },
  {
   "cell_type": "code",
   "execution_count": 31,
   "id": "a864965f",
   "metadata": {},
   "outputs": [
    {
     "data": {
      "text/plain": [
       "0    20726\n",
       "1    11135\n",
       "2     8575\n",
       "3     5629\n",
       "4     3691\n",
       "5     2192\n",
       "6     1345\n",
       "7      303\n",
       "8      237\n",
       "9      175\n",
       "Name: tipo_acc_dic, dtype: int64"
      ]
     },
     "execution_count": 31,
     "metadata": {},
     "output_type": "execute_result"
    }
   ],
   "source": [
    "acc_df.tipo_acc_dic.value_counts()"
   ]
  },
  {
   "cell_type": "markdown",
   "id": "83929a9f",
   "metadata": {},
   "source": [
    "4. **'week_day'**"
   ]
  },
  {
   "cell_type": "code",
   "execution_count": 32,
   "id": "60bb1bff",
   "metadata": {},
   "outputs": [
    {
     "data": {
      "text/plain": [
       "Friday       9177\n",
       "Thursday     8322\n",
       "Wednesday    8145\n",
       "Tuesday      7998\n",
       "Monday       7453\n",
       "Saturday     6872\n",
       "Sunday       6041\n",
       "Name: week_day, dtype: int64"
      ]
     },
     "execution_count": 32,
     "metadata": {},
     "output_type": "execute_result"
    }
   ],
   "source": [
    "acc_df.week_day.value_counts()"
   ]
  },
  {
   "cell_type": "markdown",
   "id": "046c8cbe",
   "metadata": {},
   "source": [
    "Usar los dias de la semana como **grados**\n",
    "\n",
    "https://www.mikulskibartosz.name/time-in-machine-learning/#:~:text=Encoding%20day%20of%20the%20week%20as%20a%20number&text=It%20is%20not%20the%20right,changes%20the%20sense%20of%20data."
   ]
  },
  {
   "cell_type": "code",
   "execution_count": 33,
   "id": "c81b25cd",
   "metadata": {},
   "outputs": [],
   "source": [
    "#provisionalmente vamos a hacer un label encoding"
   ]
  },
  {
   "cell_type": "code",
   "execution_count": 34,
   "id": "27c155a7",
   "metadata": {},
   "outputs": [],
   "source": [
    "week_day_dic = {'Monday':1,\n",
    "                'Tuesday':2,\n",
    "                'Wednesday':3,\n",
    "                'Thursday':4,\n",
    "                'Friday':5,\n",
    "                'Saturday':6,\n",
    "                'Sunday':7}"
   ]
  },
  {
   "cell_type": "code",
   "execution_count": 35,
   "id": "6c1fd916",
   "metadata": {},
   "outputs": [],
   "source": [
    "acc_df['w_day_dic'] = acc_df.week_day.map(week_day_dic)"
   ]
  },
  {
   "cell_type": "markdown",
   "id": "335e46d2",
   "metadata": {},
   "source": [
    "5. **'is_weekend_bank'**"
   ]
  },
  {
   "cell_type": "code",
   "execution_count": 36,
   "id": "d9426964",
   "metadata": {},
   "outputs": [
    {
     "data": {
      "text/plain": [
       "False    41095\n",
       "True     12913\n",
       "Name: is_weekend_bank, dtype: int64"
      ]
     },
     "execution_count": 36,
     "metadata": {},
     "output_type": "execute_result"
    }
   ],
   "source": [
    "acc_df.is_weekend_bank.value_counts()"
   ]
  },
  {
   "cell_type": "markdown",
   "id": "48ec2de4",
   "metadata": {},
   "source": [
    "Aplicaremos un **OneHotEncoding**, para pasar los True le ponemos 1 y a False 0"
   ]
  },
  {
   "cell_type": "code",
   "execution_count": 37,
   "id": "e1281049",
   "metadata": {},
   "outputs": [],
   "source": [
    "#ohe = OneHotEncoder()"
   ]
  },
  {
   "cell_type": "code",
   "execution_count": 38,
   "id": "11c6be23",
   "metadata": {},
   "outputs": [],
   "source": [
    "#ohe_df = pd.DataFrame(ohe.fit_transform(pppp[['is_weekend_bank']]).toarray())"
   ]
  },
  {
   "cell_type": "code",
   "execution_count": 39,
   "id": "a09fa076",
   "metadata": {},
   "outputs": [],
   "source": [
    "#pppp = pppp.join(ohe_df)"
   ]
  },
  {
   "cell_type": "code",
   "execution_count": 40,
   "id": "7cfe15b8",
   "metadata": {},
   "outputs": [],
   "source": [
    "# mmmm = pppp.drop(['is_weekend_bank',0], axis=1)"
   ]
  },
  {
   "cell_type": "code",
   "execution_count": 41,
   "id": "3aeab88c",
   "metadata": {},
   "outputs": [],
   "source": [
    "# llll = mmmm.rename(columns={1:'is_weekend_bank'})"
   ]
  },
  {
   "cell_type": "code",
   "execution_count": 42,
   "id": "22161222",
   "metadata": {},
   "outputs": [],
   "source": [
    "#pppp['is_weekend_bank'].value_counts()"
   ]
  },
  {
   "cell_type": "code",
   "execution_count": 43,
   "id": "66410a0a",
   "metadata": {},
   "outputs": [],
   "source": [
    "#pppp[0].value_counts()"
   ]
  },
  {
   "cell_type": "markdown",
   "id": "a316445b",
   "metadata": {},
   "source": [
    "6. **'rango_horas'**"
   ]
  },
  {
   "cell_type": "code",
   "execution_count": 44,
   "id": "02066149",
   "metadata": {},
   "outputs": [],
   "source": [
    "hora_dic = {0:1,1:1,2:1,3:1,4:1,5:1,\n",
    "           6:2,7:2,8:2,9:2,10:2,11:2,\n",
    "           12:3,13:3,14:3,15:3,16:3,17:3,\n",
    "           18:4,19:4,20:4,21:4,22:4,23:4}"
   ]
  },
  {
   "cell_type": "code",
   "execution_count": 45,
   "id": "36686b99",
   "metadata": {},
   "outputs": [],
   "source": [
    "acc_df['hour_dic'] = acc_df.hour.map(hora_dic)"
   ]
  },
  {
   "cell_type": "markdown",
   "id": "f47f67ef",
   "metadata": {},
   "source": [
    "# CONSTRUCCION MATRIZ DE Nº SINIESTROS POR t\n",
    "Vamos a construir dos matrices con consideraciones distintas del t:"
   ]
  },
  {
   "cell_type": "markdown",
   "id": "66691477",
   "metadata": {},
   "source": [
    "### 1. Entendiendo t como **dia**"
   ]
  },
  {
   "cell_type": "code",
   "execution_count": 47,
   "id": "f8d33ec5",
   "metadata": {},
   "outputs": [],
   "source": [
    "num_acc_dia = acc_df[['fecha','est_meteo_mas_freq_dic', 'year_date', 'w_day_dic', 'month']]"
   ]
  },
  {
   "cell_type": "code",
   "execution_count": 65,
   "id": "8b1e0f32",
   "metadata": {},
   "outputs": [],
   "source": [
    "num_sin = num_acc_dia.groupby('fecha').size().values\n",
    "num_acc_dia_df = num_acc_dia.drop_duplicates(subset='fecha').assign(Count=num_sin)\n",
    "num_acc_dia_df.set_index('fecha',inplace = True)"
   ]
  },
  {
   "cell_type": "code",
   "execution_count": 81,
   "id": "28156364",
   "metadata": {},
   "outputs": [
    {
     "data": {
      "image/png": "[encoded data removed]",
      "text/plain": [
       "<Figure size 432x288 with 1 Axes>"
      ]
     },
     "metadata": {
      "needs_background": "light"
     },
     "output_type": "display_data"
    }
   ],
   "source": [
    "plt.hist(num_sin, bins =50);"
   ]
  },
  {
   "cell_type": "markdown",
   "id": "52c32ab3",
   "metadata": {},
   "source": [
    "### 2. Entendiendo t como **'dia + rango'**"
   ]
  },
  {
   "cell_type": "code",
   "execution_count": 108,
   "id": "9443044a",
   "metadata": {},
   "outputs": [],
   "source": [
    "num_acc_dia_rango =\\\n",
    "acc_df[['fecha','est_meteo_mas_freq_dic', 'year_date', 'w_day_dic', 'month','hour_dic','fecha_hora_datetime']]"
   ]
  },
  {
   "cell_type": "code",
   "execution_count": 134,
   "id": "68e94239",
   "metadata": {},
   "outputs": [
    {
     "data": {
      "text/html": [
       "<div>\n",
       "<style scoped>\n",
       "    .dataframe tbody tr th:only-of-type {\n",
       "        vertical-align: middle;\n",
       "    }\n",
       "\n",
       "    .dataframe tbody tr th {\n",
       "        vertical-align: top;\n",
       "    }\n",
       "\n",
       "    .dataframe thead th {\n",
       "        text-align: right;\n",
       "    }\n",
       "</style>\n",
       "<table border=\"1\" class=\"dataframe\">\n",
       "  <thead>\n",
       "    <tr style=\"text-align: right;\">\n",
       "      <th></th>\n",
       "      <th>fecha</th>\n",
       "      <th>est_meteo_mas_freq_dic</th>\n",
       "      <th>year_date</th>\n",
       "      <th>w_day_dic</th>\n",
       "      <th>month</th>\n",
       "      <th>hour_dic</th>\n",
       "      <th>fecha_hora_datetime</th>\n",
       "      <th>fecha_a_hora</th>\n",
       "    </tr>\n",
       "  </thead>\n",
       "  <tbody>\n",
       "    <tr>\n",
       "      <th>0</th>\n",
       "      <td>01/01/2019</td>\n",
       "      <td>0</td>\n",
       "      <td>2019</td>\n",
       "      <td>2</td>\n",
       "      <td>1</td>\n",
       "      <td>1</td>\n",
       "      <td>2019-01-01 03:50:00</td>\n",
       "      <td>2019-01-01 04:00:00</td>\n",
       "    </tr>\n",
       "    <tr>\n",
       "      <th>1</th>\n",
       "      <td>01/01/2019</td>\n",
       "      <td>0</td>\n",
       "      <td>2019</td>\n",
       "      <td>2</td>\n",
       "      <td>1</td>\n",
       "      <td>1</td>\n",
       "      <td>2019-01-01 04:00:00</td>\n",
       "      <td>2019-01-01 04:00:00</td>\n",
       "    </tr>\n",
       "    <tr>\n",
       "      <th>2</th>\n",
       "      <td>01/01/2019</td>\n",
       "      <td>0</td>\n",
       "      <td>2019</td>\n",
       "      <td>2</td>\n",
       "      <td>1</td>\n",
       "      <td>1</td>\n",
       "      <td>2019-01-01 04:00:00</td>\n",
       "      <td>2019-01-01 04:00:00</td>\n",
       "    </tr>\n",
       "    <tr>\n",
       "      <th>3</th>\n",
       "      <td>01/01/2019</td>\n",
       "      <td>0</td>\n",
       "      <td>2019</td>\n",
       "      <td>2</td>\n",
       "      <td>1</td>\n",
       "      <td>2</td>\n",
       "      <td>2019-01-01 08:10:00</td>\n",
       "      <td>2019-01-01 08:00:00</td>\n",
       "    </tr>\n",
       "    <tr>\n",
       "      <th>4</th>\n",
       "      <td>01/01/2019</td>\n",
       "      <td>0</td>\n",
       "      <td>2019</td>\n",
       "      <td>2</td>\n",
       "      <td>1</td>\n",
       "      <td>2</td>\n",
       "      <td>2019-01-01 08:05:00</td>\n",
       "      <td>2019-01-01 08:00:00</td>\n",
       "    </tr>\n",
       "    <tr>\n",
       "      <th>5</th>\n",
       "      <td>01/01/2019</td>\n",
       "      <td>0</td>\n",
       "      <td>2019</td>\n",
       "      <td>2</td>\n",
       "      <td>1</td>\n",
       "      <td>2</td>\n",
       "      <td>2019-01-01 07:19:00</td>\n",
       "      <td>2019-01-01 07:00:00</td>\n",
       "    </tr>\n",
       "    <tr>\n",
       "      <th>6</th>\n",
       "      <td>01/01/2019</td>\n",
       "      <td>0</td>\n",
       "      <td>2019</td>\n",
       "      <td>2</td>\n",
       "      <td>1</td>\n",
       "      <td>2</td>\n",
       "      <td>2019-01-01 08:10:00</td>\n",
       "      <td>2019-01-01 08:00:00</td>\n",
       "    </tr>\n",
       "    <tr>\n",
       "      <th>7</th>\n",
       "      <td>01/01/2019</td>\n",
       "      <td>0</td>\n",
       "      <td>2019</td>\n",
       "      <td>2</td>\n",
       "      <td>1</td>\n",
       "      <td>3</td>\n",
       "      <td>2019-01-01 15:55:00</td>\n",
       "      <td>2019-01-01 16:00:00</td>\n",
       "    </tr>\n",
       "    <tr>\n",
       "      <th>8</th>\n",
       "      <td>01/01/2019</td>\n",
       "      <td>0</td>\n",
       "      <td>2019</td>\n",
       "      <td>2</td>\n",
       "      <td>1</td>\n",
       "      <td>4</td>\n",
       "      <td>2019-01-01 19:06:00</td>\n",
       "      <td>2019-01-01 19:00:00</td>\n",
       "    </tr>\n",
       "    <tr>\n",
       "      <th>9</th>\n",
       "      <td>01/01/2019</td>\n",
       "      <td>0</td>\n",
       "      <td>2019</td>\n",
       "      <td>2</td>\n",
       "      <td>1</td>\n",
       "      <td>4</td>\n",
       "      <td>2019-01-01 22:15:00</td>\n",
       "      <td>2019-01-01 22:00:00</td>\n",
       "    </tr>\n",
       "    <tr>\n",
       "      <th>10</th>\n",
       "      <td>01/01/2019</td>\n",
       "      <td>0</td>\n",
       "      <td>2019</td>\n",
       "      <td>2</td>\n",
       "      <td>1</td>\n",
       "      <td>2</td>\n",
       "      <td>2019-01-01 08:25:00</td>\n",
       "      <td>2019-01-01 08:00:00</td>\n",
       "    </tr>\n",
       "    <tr>\n",
       "      <th>11</th>\n",
       "      <td>01/01/2019</td>\n",
       "      <td>0</td>\n",
       "      <td>2019</td>\n",
       "      <td>2</td>\n",
       "      <td>1</td>\n",
       "      <td>4</td>\n",
       "      <td>2019-01-01 23:30:00</td>\n",
       "      <td>2019-01-02 00:00:00</td>\n",
       "    </tr>\n",
       "    <tr>\n",
       "      <th>12</th>\n",
       "      <td>01/01/2019</td>\n",
       "      <td>0</td>\n",
       "      <td>2019</td>\n",
       "      <td>2</td>\n",
       "      <td>1</td>\n",
       "      <td>3</td>\n",
       "      <td>2019-01-01 12:29:00</td>\n",
       "      <td>2019-01-01 12:00:00</td>\n",
       "    </tr>\n",
       "    <tr>\n",
       "      <th>13</th>\n",
       "      <td>01/01/2019</td>\n",
       "      <td>0</td>\n",
       "      <td>2019</td>\n",
       "      <td>2</td>\n",
       "      <td>1</td>\n",
       "      <td>1</td>\n",
       "      <td>2019-01-01 02:30:00</td>\n",
       "      <td>2019-01-01 02:00:00</td>\n",
       "    </tr>\n",
       "    <tr>\n",
       "      <th>14</th>\n",
       "      <td>01/01/2019</td>\n",
       "      <td>0</td>\n",
       "      <td>2019</td>\n",
       "      <td>2</td>\n",
       "      <td>1</td>\n",
       "      <td>4</td>\n",
       "      <td>2019-01-01 19:15:00</td>\n",
       "      <td>2019-01-01 19:00:00</td>\n",
       "    </tr>\n",
       "    <tr>\n",
       "      <th>15</th>\n",
       "      <td>01/01/2019</td>\n",
       "      <td>0</td>\n",
       "      <td>2019</td>\n",
       "      <td>2</td>\n",
       "      <td>1</td>\n",
       "      <td>3</td>\n",
       "      <td>2019-01-01 17:00:00</td>\n",
       "      <td>2019-01-01 17:00:00</td>\n",
       "    </tr>\n",
       "    <tr>\n",
       "      <th>16</th>\n",
       "      <td>01/01/2019</td>\n",
       "      <td>0</td>\n",
       "      <td>2019</td>\n",
       "      <td>2</td>\n",
       "      <td>1</td>\n",
       "      <td>1</td>\n",
       "      <td>2019-01-01 04:15:00</td>\n",
       "      <td>2019-01-01 04:00:00</td>\n",
       "    </tr>\n",
       "    <tr>\n",
       "      <th>17</th>\n",
       "      <td>01/01/2019</td>\n",
       "      <td>0</td>\n",
       "      <td>2019</td>\n",
       "      <td>2</td>\n",
       "      <td>1</td>\n",
       "      <td>3</td>\n",
       "      <td>2019-01-01 15:00:00</td>\n",
       "      <td>2019-01-01 15:00:00</td>\n",
       "    </tr>\n",
       "    <tr>\n",
       "      <th>18</th>\n",
       "      <td>01/01/2019</td>\n",
       "      <td>0</td>\n",
       "      <td>2019</td>\n",
       "      <td>2</td>\n",
       "      <td>1</td>\n",
       "      <td>2</td>\n",
       "      <td>2019-01-01 06:20:00</td>\n",
       "      <td>2019-01-01 06:00:00</td>\n",
       "    </tr>\n",
       "    <tr>\n",
       "      <th>19</th>\n",
       "      <td>01/01/2019</td>\n",
       "      <td>0</td>\n",
       "      <td>2019</td>\n",
       "      <td>2</td>\n",
       "      <td>1</td>\n",
       "      <td>4</td>\n",
       "      <td>2019-01-01 20:03:00</td>\n",
       "      <td>2019-01-01 20:00:00</td>\n",
       "    </tr>\n",
       "  </tbody>\n",
       "</table>\n",
       "</div>"
      ],
      "text/plain": [
       "         fecha  est_meteo_mas_freq_dic  year_date  w_day_dic  month  hour_dic  \\\n",
       "0   01/01/2019                       0       2019          2      1         1   \n",
       "1   01/01/2019                       0       2019          2      1         1   \n",
       "2   01/01/2019                       0       2019          2      1         1   \n",
       "3   01/01/2019                       0       2019          2      1         2   \n",
       "4   01/01/2019                       0       2019          2      1         2   \n",
       "5   01/01/2019                       0       2019          2      1         2   \n",
       "6   01/01/2019                       0       2019          2      1         2   \n",
       "7   01/01/2019                       0       2019          2      1         3   \n",
       "8   01/01/2019                       0       2019          2      1         4   \n",
       "9   01/01/2019                       0       2019          2      1         4   \n",
       "10  01/01/2019                       0       2019          2      1         2   \n",
       "11  01/01/2019                       0       2019          2      1         4   \n",
       "12  01/01/2019                       0       2019          2      1         3   \n",
       "13  01/01/2019                       0       2019          2      1         1   \n",
       "14  01/01/2019                       0       2019          2      1         4   \n",
       "15  01/01/2019                       0       2019          2      1         3   \n",
       "16  01/01/2019                       0       2019          2      1         1   \n",
       "17  01/01/2019                       0       2019          2      1         3   \n",
       "18  01/01/2019                       0       2019          2      1         2   \n",
       "19  01/01/2019                       0       2019          2      1         4   \n",
       "\n",
       "   fecha_hora_datetime        fecha_a_hora  \n",
       "0  2019-01-01 03:50:00 2019-01-01 04:00:00  \n",
       "1  2019-01-01 04:00:00 2019-01-01 04:00:00  \n",
       "2  2019-01-01 04:00:00 2019-01-01 04:00:00  \n",
       "3  2019-01-01 08:10:00 2019-01-01 08:00:00  \n",
       "4  2019-01-01 08:05:00 2019-01-01 08:00:00  \n",
       "5  2019-01-01 07:19:00 2019-01-01 07:00:00  \n",
       "6  2019-01-01 08:10:00 2019-01-01 08:00:00  \n",
       "7  2019-01-01 15:55:00 2019-01-01 16:00:00  \n",
       "8  2019-01-01 19:06:00 2019-01-01 19:00:00  \n",
       "9  2019-01-01 22:15:00 2019-01-01 22:00:00  \n",
       "10 2019-01-01 08:25:00 2019-01-01 08:00:00  \n",
       "11 2019-01-01 23:30:00 2019-01-02 00:00:00  \n",
       "12 2019-01-01 12:29:00 2019-01-01 12:00:00  \n",
       "13 2019-01-01 02:30:00 2019-01-01 02:00:00  \n",
       "14 2019-01-01 19:15:00 2019-01-01 19:00:00  \n",
       "15 2019-01-01 17:00:00 2019-01-01 17:00:00  \n",
       "16 2019-01-01 04:15:00 2019-01-01 04:00:00  \n",
       "17 2019-01-01 15:00:00 2019-01-01 15:00:00  \n",
       "18 2019-01-01 06:20:00 2019-01-01 06:00:00  \n",
       "19 2019-01-01 20:03:00 2019-01-01 20:00:00  "
      ]
     },
     "execution_count": 134,
     "metadata": {},
     "output_type": "execute_result"
    }
   ],
   "source": [
    "num_acc_dia_rango.head(20)"
   ]
  },
  {
   "cell_type": "code",
   "execution_count": 110,
   "id": "b7ca7b2b",
   "metadata": {},
   "outputs": [
    {
     "name": "stderr",
     "output_type": "stream",
     "text": [
      "/tmp/ipykernel_3461/1366103823.py:1: SettingWithCopyWarning: \n",
      "A value is trying to be set on a copy of a slice from a DataFrame.\n",
      "Try using .loc[row_indexer,col_indexer] = value instead\n",
      "\n",
      "See the caveats in the documentation: https://pandas.pydata.org/pandas-docs/stable/user_guide/indexing.html#returning-a-view-versus-a-copy\n",
      "  num_acc_dia_rango['fecha_a_hora'] = num_acc_dia_rango.fecha_hora_datetime.round('H')\n"
     ]
    }
   ],
   "source": [
    "num_acc_dia_rango['fecha_a_hora'] = num_acc_dia_rango.fecha_hora_datetime.round('H')"
   ]
  },
  {
   "cell_type": "code",
   "execution_count": 142,
   "id": "455b87e0",
   "metadata": {},
   "outputs": [],
   "source": [
    "num_sin_rango = num_acc_dia_rango.groupby('fecha_a_hora').size().values\n",
    "num_acc_dia_rango_df = num_acc_dia_rango.drop_duplicates(subset='fecha_a_hora').assign(Count=num_sin_rango)\n",
    "num_acc_dia_rango_df.set_index('fecha_a_hora',inplace = True)"
   ]
  },
  {
   "cell_type": "code",
   "execution_count": 136,
   "id": "86897454",
   "metadata": {},
   "outputs": [
    {
     "data": {
      "text/html": [
       "<div>\n",
       "<style scoped>\n",
       "    .dataframe tbody tr th:only-of-type {\n",
       "        vertical-align: middle;\n",
       "    }\n",
       "\n",
       "    .dataframe tbody tr th {\n",
       "        vertical-align: top;\n",
       "    }\n",
       "\n",
       "    .dataframe thead th {\n",
       "        text-align: right;\n",
       "    }\n",
       "</style>\n",
       "<table border=\"1\" class=\"dataframe\">\n",
       "  <thead>\n",
       "    <tr style=\"text-align: right;\">\n",
       "      <th></th>\n",
       "      <th>fecha</th>\n",
       "      <th>est_meteo_mas_freq_dic</th>\n",
       "      <th>year_date</th>\n",
       "      <th>w_day_dic</th>\n",
       "      <th>month</th>\n",
       "      <th>hour_dic</th>\n",
       "      <th>fecha_hora_datetime</th>\n",
       "      <th>Count</th>\n",
       "    </tr>\n",
       "    <tr>\n",
       "      <th>fecha_a_hora</th>\n",
       "      <th></th>\n",
       "      <th></th>\n",
       "      <th></th>\n",
       "      <th></th>\n",
       "      <th></th>\n",
       "      <th></th>\n",
       "      <th></th>\n",
       "      <th></th>\n",
       "    </tr>\n",
       "  </thead>\n",
       "  <tbody>\n",
       "    <tr>\n",
       "      <th>2019-01-01 04:00:00</th>\n",
       "      <td>01/01/2019</td>\n",
       "      <td>0</td>\n",
       "      <td>2019</td>\n",
       "      <td>2</td>\n",
       "      <td>1</td>\n",
       "      <td>1</td>\n",
       "      <td>2019-01-01 03:50:00</td>\n",
       "      <td>1</td>\n",
       "    </tr>\n",
       "    <tr>\n",
       "      <th>2019-01-01 08:00:00</th>\n",
       "      <td>01/01/2019</td>\n",
       "      <td>0</td>\n",
       "      <td>2019</td>\n",
       "      <td>2</td>\n",
       "      <td>1</td>\n",
       "      <td>2</td>\n",
       "      <td>2019-01-01 08:10:00</td>\n",
       "      <td>1</td>\n",
       "    </tr>\n",
       "    <tr>\n",
       "      <th>2019-01-01 07:00:00</th>\n",
       "      <td>01/01/2019</td>\n",
       "      <td>0</td>\n",
       "      <td>2019</td>\n",
       "      <td>2</td>\n",
       "      <td>1</td>\n",
       "      <td>2</td>\n",
       "      <td>2019-01-01 07:19:00</td>\n",
       "      <td>2</td>\n",
       "    </tr>\n",
       "    <tr>\n",
       "      <th>2019-01-01 16:00:00</th>\n",
       "      <td>01/01/2019</td>\n",
       "      <td>0</td>\n",
       "      <td>2019</td>\n",
       "      <td>2</td>\n",
       "      <td>1</td>\n",
       "      <td>3</td>\n",
       "      <td>2019-01-01 15:55:00</td>\n",
       "      <td>6</td>\n",
       "    </tr>\n",
       "    <tr>\n",
       "      <th>2019-01-01 19:00:00</th>\n",
       "      <td>01/01/2019</td>\n",
       "      <td>0</td>\n",
       "      <td>2019</td>\n",
       "      <td>2</td>\n",
       "      <td>1</td>\n",
       "      <td>4</td>\n",
       "      <td>2019-01-01 19:06:00</td>\n",
       "      <td>3</td>\n",
       "    </tr>\n",
       "    <tr>\n",
       "      <th>...</th>\n",
       "      <td>...</td>\n",
       "      <td>...</td>\n",
       "      <td>...</td>\n",
       "      <td>...</td>\n",
       "      <td>...</td>\n",
       "      <td>...</td>\n",
       "      <td>...</td>\n",
       "      <td>...</td>\n",
       "    </tr>\n",
       "    <tr>\n",
       "      <th>2021-12-31 22:00:00</th>\n",
       "      <td>31/12/2021</td>\n",
       "      <td>0</td>\n",
       "      <td>2021</td>\n",
       "      <td>5</td>\n",
       "      <td>12</td>\n",
       "      <td>4</td>\n",
       "      <td>2021-12-31 21:45:00</td>\n",
       "      <td>4</td>\n",
       "    </tr>\n",
       "    <tr>\n",
       "      <th>2021-12-31 11:00:00</th>\n",
       "      <td>31/12/2021</td>\n",
       "      <td>0</td>\n",
       "      <td>2021</td>\n",
       "      <td>5</td>\n",
       "      <td>12</td>\n",
       "      <td>2</td>\n",
       "      <td>2021-12-31 10:45:00</td>\n",
       "      <td>2</td>\n",
       "    </tr>\n",
       "    <tr>\n",
       "      <th>2021-12-31 23:00:00</th>\n",
       "      <td>31/12/2021</td>\n",
       "      <td>0</td>\n",
       "      <td>2021</td>\n",
       "      <td>5</td>\n",
       "      <td>12</td>\n",
       "      <td>4</td>\n",
       "      <td>2021-12-31 22:50:00</td>\n",
       "      <td>5</td>\n",
       "    </tr>\n",
       "    <tr>\n",
       "      <th>2021-12-31 00:00:00</th>\n",
       "      <td>31/12/2021</td>\n",
       "      <td>0</td>\n",
       "      <td>2021</td>\n",
       "      <td>5</td>\n",
       "      <td>12</td>\n",
       "      <td>1</td>\n",
       "      <td>2021-12-31 00:20:00</td>\n",
       "      <td>4</td>\n",
       "    </tr>\n",
       "    <tr>\n",
       "      <th>2021-12-31 18:00:00</th>\n",
       "      <td>31/12/2021</td>\n",
       "      <td>0</td>\n",
       "      <td>2021</td>\n",
       "      <td>5</td>\n",
       "      <td>12</td>\n",
       "      <td>4</td>\n",
       "      <td>2021-12-31 18:20:00</td>\n",
       "      <td>1</td>\n",
       "    </tr>\n",
       "  </tbody>\n",
       "</table>\n",
       "<p>19070 rows × 8 columns</p>\n",
       "</div>"
      ],
      "text/plain": [
       "                          fecha  est_meteo_mas_freq_dic  year_date  w_day_dic  \\\n",
       "fecha_a_hora                                                                    \n",
       "2019-01-01 04:00:00  01/01/2019                       0       2019          2   \n",
       "2019-01-01 08:00:00  01/01/2019                       0       2019          2   \n",
       "2019-01-01 07:00:00  01/01/2019                       0       2019          2   \n",
       "2019-01-01 16:00:00  01/01/2019                       0       2019          2   \n",
       "2019-01-01 19:00:00  01/01/2019                       0       2019          2   \n",
       "...                         ...                     ...        ...        ...   \n",
       "2021-12-31 22:00:00  31/12/2021                       0       2021          5   \n",
       "2021-12-31 11:00:00  31/12/2021                       0       2021          5   \n",
       "2021-12-31 23:00:00  31/12/2021                       0       2021          5   \n",
       "2021-12-31 00:00:00  31/12/2021                       0       2021          5   \n",
       "2021-12-31 18:00:00  31/12/2021                       0       2021          5   \n",
       "\n",
       "                     month  hour_dic fecha_hora_datetime  Count  \n",
       "fecha_a_hora                                                     \n",
       "2019-01-01 04:00:00      1         1 2019-01-01 03:50:00      1  \n",
       "2019-01-01 08:00:00      1         2 2019-01-01 08:10:00      1  \n",
       "2019-01-01 07:00:00      1         2 2019-01-01 07:19:00      2  \n",
       "2019-01-01 16:00:00      1         3 2019-01-01 15:55:00      6  \n",
       "2019-01-01 19:00:00      1         4 2019-01-01 19:06:00      3  \n",
       "...                    ...       ...                 ...    ...  \n",
       "2021-12-31 22:00:00     12         4 2021-12-31 21:45:00      4  \n",
       "2021-12-31 11:00:00     12         2 2021-12-31 10:45:00      2  \n",
       "2021-12-31 23:00:00     12         4 2021-12-31 22:50:00      5  \n",
       "2021-12-31 00:00:00     12         1 2021-12-31 00:20:00      4  \n",
       "2021-12-31 18:00:00     12         4 2021-12-31 18:20:00      1  \n",
       "\n",
       "[19070 rows x 8 columns]"
      ]
     },
     "execution_count": 136,
     "metadata": {},
     "output_type": "execute_result"
    }
   ],
   "source": [
    "num_acc_dia_rango_df"
   ]
  },
  {
   "cell_type": "code",
   "execution_count": null,
   "id": "80c1dbef",
   "metadata": {},
   "outputs": [],
   "source": []
  },
  {
   "cell_type": "code",
   "execution_count": null,
   "id": "40b03570",
   "metadata": {},
   "outputs": [],
   "source": []
  },
  {
   "cell_type": "code",
   "execution_count": null,
   "id": "c95c3f5a",
   "metadata": {},
   "outputs": [],
   "source": []
  },
  {
   "cell_type": "code",
   "execution_count": 137,
   "id": "fb4d8cd8",
   "metadata": {},
   "outputs": [],
   "source": [
    "num_sin_hora = num_acc_dia_rango.resample('H', on='fecha_hora_datetime').month.count()"
   ]
  },
  {
   "cell_type": "code",
   "execution_count": 138,
   "id": "71bb97be",
   "metadata": {},
   "outputs": [
    {
     "data": {
      "text/plain": [
       "fecha_hora_datetime\n",
       "2019-01-01 00:00:00    1\n",
       "2019-01-01 01:00:00    0\n",
       "2019-01-01 02:00:00    1\n",
       "2019-01-01 03:00:00    4\n",
       "2019-01-01 04:00:00    4\n",
       "                      ..\n",
       "2021-12-31 18:00:00    1\n",
       "2021-12-31 19:00:00    5\n",
       "2021-12-31 20:00:00    5\n",
       "2021-12-31 21:00:00    4\n",
       "2021-12-31 22:00:00    2\n",
       "Freq: H, Name: month, Length: 26303, dtype: int64"
      ]
     },
     "execution_count": 138,
     "metadata": {},
     "output_type": "execute_result"
    }
   ],
   "source": [
    "num_sin_hora"
   ]
  },
  {
   "cell_type": "code",
   "execution_count": 132,
   "id": "f4efbd09",
   "metadata": {},
   "outputs": [
    {
     "data": {
      "text/plain": [
       "fecha_hora_datetime\n",
       "2019-01-01 00:00:00    1\n",
       "2019-01-01 01:00:00    0\n",
       "2019-01-01 02:00:00    1\n",
       "2019-01-01 03:00:00    4\n",
       "2019-01-01 04:00:00    4\n",
       "                      ..\n",
       "2021-12-31 18:00:00    1\n",
       "2021-12-31 19:00:00    5\n",
       "2021-12-31 20:00:00    5\n",
       "2021-12-31 21:00:00    4\n",
       "2021-12-31 22:00:00    2\n",
       "Freq: H, Name: month, Length: 26303, dtype: int64"
      ]
     },
     "execution_count": 132,
     "metadata": {},
     "output_type": "execute_result"
    }
   ],
   "source": [
    "num_sin_hora"
   ]
  },
  {
   "cell_type": "code",
   "execution_count": 118,
   "id": "8803d8e7",
   "metadata": {},
   "outputs": [],
   "source": [
    "num_acc_dia_rango_df = num_acc_dia_rango.drop_duplicates(subset=\"fecha_a_hora\").assign(Count=ppp)\n",
    "num_acc_dia_rango_df.set_index('fecha_a_hora',inplace = True)"
   ]
  },
  {
   "cell_type": "code",
   "execution_count": 119,
   "id": "a752b9fd",
   "metadata": {},
   "outputs": [
    {
     "data": {
      "image/png": "[encoded data removed]",
      "text/plain": [
       "<Figure size 432x288 with 1 Axes>"
      ]
     },
     "metadata": {
      "needs_background": "light"
     },
     "output_type": "display_data"
    }
   ],
   "source": [
    "plt.hist(num_sin_hora, bins =50);"
   ]
  },
  {
   "cell_type": "code",
   "execution_count": 120,
   "id": "ff451275",
   "metadata": {},
   "outputs": [
    {
     "data": {
      "text/html": [
       "<div>\n",
       "<style scoped>\n",
       "    .dataframe tbody tr th:only-of-type {\n",
       "        vertical-align: middle;\n",
       "    }\n",
       "\n",
       "    .dataframe tbody tr th {\n",
       "        vertical-align: top;\n",
       "    }\n",
       "\n",
       "    .dataframe thead th {\n",
       "        text-align: right;\n",
       "    }\n",
       "</style>\n",
       "<table border=\"1\" class=\"dataframe\">\n",
       "  <thead>\n",
       "    <tr style=\"text-align: right;\">\n",
       "      <th></th>\n",
       "      <th>fecha</th>\n",
       "      <th>est_meteo_mas_freq_dic</th>\n",
       "      <th>year_date</th>\n",
       "      <th>w_day_dic</th>\n",
       "      <th>month</th>\n",
       "      <th>hour_dic</th>\n",
       "      <th>fecha_hora_datetime</th>\n",
       "      <th>Count</th>\n",
       "    </tr>\n",
       "    <tr>\n",
       "      <th>fecha_a_hora</th>\n",
       "      <th></th>\n",
       "      <th></th>\n",
       "      <th></th>\n",
       "      <th></th>\n",
       "      <th></th>\n",
       "      <th></th>\n",
       "      <th></th>\n",
       "      <th></th>\n",
       "    </tr>\n",
       "  </thead>\n",
       "  <tbody>\n",
       "    <tr>\n",
       "      <th>2019-01-01 04:00:00</th>\n",
       "      <td>01/01/2019</td>\n",
       "      <td>0</td>\n",
       "      <td>2019</td>\n",
       "      <td>2</td>\n",
       "      <td>1</td>\n",
       "      <td>1</td>\n",
       "      <td>2019-01-01 03:50:00</td>\n",
       "      <td>0</td>\n",
       "    </tr>\n",
       "    <tr>\n",
       "      <th>2019-01-01 08:00:00</th>\n",
       "      <td>01/01/2019</td>\n",
       "      <td>0</td>\n",
       "      <td>2019</td>\n",
       "      <td>2</td>\n",
       "      <td>1</td>\n",
       "      <td>2</td>\n",
       "      <td>2019-01-01 08:10:00</td>\n",
       "      <td>0</td>\n",
       "    </tr>\n",
       "    <tr>\n",
       "      <th>2019-01-01 07:00:00</th>\n",
       "      <td>01/01/2019</td>\n",
       "      <td>0</td>\n",
       "      <td>2019</td>\n",
       "      <td>2</td>\n",
       "      <td>1</td>\n",
       "      <td>2</td>\n",
       "      <td>2019-01-01 07:19:00</td>\n",
       "      <td>0</td>\n",
       "    </tr>\n",
       "    <tr>\n",
       "      <th>2019-01-01 16:00:00</th>\n",
       "      <td>01/01/2019</td>\n",
       "      <td>0</td>\n",
       "      <td>2019</td>\n",
       "      <td>2</td>\n",
       "      <td>1</td>\n",
       "      <td>3</td>\n",
       "      <td>2019-01-01 15:55:00</td>\n",
       "      <td>0</td>\n",
       "    </tr>\n",
       "    <tr>\n",
       "      <th>2019-01-01 19:00:00</th>\n",
       "      <td>01/01/2019</td>\n",
       "      <td>0</td>\n",
       "      <td>2019</td>\n",
       "      <td>2</td>\n",
       "      <td>1</td>\n",
       "      <td>4</td>\n",
       "      <td>2019-01-01 19:06:00</td>\n",
       "      <td>0</td>\n",
       "    </tr>\n",
       "    <tr>\n",
       "      <th>...</th>\n",
       "      <td>...</td>\n",
       "      <td>...</td>\n",
       "      <td>...</td>\n",
       "      <td>...</td>\n",
       "      <td>...</td>\n",
       "      <td>...</td>\n",
       "      <td>...</td>\n",
       "      <td>...</td>\n",
       "    </tr>\n",
       "    <tr>\n",
       "      <th>2021-12-31 22:00:00</th>\n",
       "      <td>31/12/2021</td>\n",
       "      <td>0</td>\n",
       "      <td>2021</td>\n",
       "      <td>5</td>\n",
       "      <td>12</td>\n",
       "      <td>4</td>\n",
       "      <td>2021-12-31 21:45:00</td>\n",
       "      <td>0</td>\n",
       "    </tr>\n",
       "    <tr>\n",
       "      <th>2021-12-31 11:00:00</th>\n",
       "      <td>31/12/2021</td>\n",
       "      <td>0</td>\n",
       "      <td>2021</td>\n",
       "      <td>5</td>\n",
       "      <td>12</td>\n",
       "      <td>2</td>\n",
       "      <td>2021-12-31 10:45:00</td>\n",
       "      <td>0</td>\n",
       "    </tr>\n",
       "    <tr>\n",
       "      <th>2021-12-31 23:00:00</th>\n",
       "      <td>31/12/2021</td>\n",
       "      <td>0</td>\n",
       "      <td>2021</td>\n",
       "      <td>5</td>\n",
       "      <td>12</td>\n",
       "      <td>4</td>\n",
       "      <td>2021-12-31 22:50:00</td>\n",
       "      <td>0</td>\n",
       "    </tr>\n",
       "    <tr>\n",
       "      <th>2021-12-31 00:00:00</th>\n",
       "      <td>31/12/2021</td>\n",
       "      <td>0</td>\n",
       "      <td>2021</td>\n",
       "      <td>5</td>\n",
       "      <td>12</td>\n",
       "      <td>1</td>\n",
       "      <td>2021-12-31 00:20:00</td>\n",
       "      <td>0</td>\n",
       "    </tr>\n",
       "    <tr>\n",
       "      <th>2021-12-31 18:00:00</th>\n",
       "      <td>31/12/2021</td>\n",
       "      <td>0</td>\n",
       "      <td>2021</td>\n",
       "      <td>5</td>\n",
       "      <td>12</td>\n",
       "      <td>4</td>\n",
       "      <td>2021-12-31 18:20:00</td>\n",
       "      <td>0</td>\n",
       "    </tr>\n",
       "  </tbody>\n",
       "</table>\n",
       "<p>19070 rows × 8 columns</p>\n",
       "</div>"
      ],
      "text/plain": [
       "                          fecha  est_meteo_mas_freq_dic  year_date  w_day_dic  \\\n",
       "fecha_a_hora                                                                    \n",
       "2019-01-01 04:00:00  01/01/2019                       0       2019          2   \n",
       "2019-01-01 08:00:00  01/01/2019                       0       2019          2   \n",
       "2019-01-01 07:00:00  01/01/2019                       0       2019          2   \n",
       "2019-01-01 16:00:00  01/01/2019                       0       2019          2   \n",
       "2019-01-01 19:00:00  01/01/2019                       0       2019          2   \n",
       "...                         ...                     ...        ...        ...   \n",
       "2021-12-31 22:00:00  31/12/2021                       0       2021          5   \n",
       "2021-12-31 11:00:00  31/12/2021                       0       2021          5   \n",
       "2021-12-31 23:00:00  31/12/2021                       0       2021          5   \n",
       "2021-12-31 00:00:00  31/12/2021                       0       2021          5   \n",
       "2021-12-31 18:00:00  31/12/2021                       0       2021          5   \n",
       "\n",
       "                     month  hour_dic fecha_hora_datetime  Count  \n",
       "fecha_a_hora                                                     \n",
       "2019-01-01 04:00:00      1         1 2019-01-01 03:50:00      0  \n",
       "2019-01-01 08:00:00      1         2 2019-01-01 08:10:00      0  \n",
       "2019-01-01 07:00:00      1         2 2019-01-01 07:19:00      0  \n",
       "2019-01-01 16:00:00      1         3 2019-01-01 15:55:00      0  \n",
       "2019-01-01 19:00:00      1         4 2019-01-01 19:06:00      0  \n",
       "...                    ...       ...                 ...    ...  \n",
       "2021-12-31 22:00:00     12         4 2021-12-31 21:45:00      0  \n",
       "2021-12-31 11:00:00     12         2 2021-12-31 10:45:00      0  \n",
       "2021-12-31 23:00:00     12         4 2021-12-31 22:50:00      0  \n",
       "2021-12-31 00:00:00     12         1 2021-12-31 00:20:00      0  \n",
       "2021-12-31 18:00:00     12         4 2021-12-31 18:20:00      0  \n",
       "\n",
       "[19070 rows x 8 columns]"
      ]
     },
     "execution_count": 120,
     "metadata": {},
     "output_type": "execute_result"
    }
   ],
   "source": [
    "num_acc_dia_rango_df"
   ]
  },
  {
   "cell_type": "markdown",
   "id": "9074345d",
   "metadata": {},
   "source": [
    "# APLICACION DE LOS MODELOS"
   ]
  },
  {
   "cell_type": "markdown",
   "id": "5ed02272",
   "metadata": {},
   "source": [
    "### Poisson distribution\n",
    "Focuses on the number of the **descrete events or occurrences over a specified intervall** or continumm (time, legth, distance, etc)\n",
    "\n",
    "- discrete outcomes (x = 1,2,3...)\n",
    "- occurrences in the interval, 0 <= x  <= inffinite\n",
    "- distribution of infrequent events\n",
    "- each event is independent of the others\n",
    "- discrete events over an interval of time\n",
    "- expected number of occurrences E(x), constant throughout the experiment\n",
    "\n",
    "- expected value = mean = E(x)\n",
    "- lambda = occurences / specified interval\n",
    "\n"
   ]
  },
  {
   "cell_type": "code",
   "execution_count": 53,
   "id": "a2ed6b1a",
   "metadata": {},
   "outputs": [],
   "source": [
    "from patsy import dmatrices\n",
    "import statsmodels.api as sm"
   ]
  },
  {
   "cell_type": "markdown",
   "id": "f60cf6e7",
   "metadata": {},
   "source": [
    "### 1. Entendiendo t como **dia**"
   ]
  },
  {
   "cell_type": "code",
   "execution_count": 54,
   "id": "3f489c28",
   "metadata": {},
   "outputs": [
    {
     "name": "stdout",
     "output_type": "stream",
     "text": [
      "Training data set length=876\n",
      "Testing data set length=220\n"
     ]
    }
   ],
   "source": [
    "mask = np.random.rand(len(num_acc_dia_df)) < 0.8\n",
    "df_train = num_acc_dia_df[mask]\n",
    "df_test = num_acc_dia_df[~mask]\n",
    "print('Training data set length='+str(len(df_train)))\n",
    "print('Testing data set length='+str(len(df_test)))"
   ]
  },
  {
   "cell_type": "code",
   "execution_count": 57,
   "id": "d9e745d7",
   "metadata": {},
   "outputs": [],
   "source": [
    "expr = \"\"\"Count ~ est_meteo_mas_freq_dic  + year_date + w_day_dic + month\"\"\""
   ]
  },
  {
   "cell_type": "code",
   "execution_count": 58,
   "id": "9a9f9ce7",
   "metadata": {},
   "outputs": [],
   "source": [
    "y_train, X_train = dmatrices(expr, df_train, return_type='dataframe')\n",
    "y_test, X_test = dmatrices(expr, df_test, return_type='dataframe')"
   ]
  },
  {
   "cell_type": "code",
   "execution_count": 59,
   "id": "42d432d9",
   "metadata": {},
   "outputs": [],
   "source": [
    "poisson_training_results = sm.GLM(y_train, X_train, family=sm.families.Poisson()).fit()"
   ]
  },
  {
   "cell_type": "code",
   "execution_count": 60,
   "id": "4613e2c1",
   "metadata": {},
   "outputs": [
    {
     "name": "stdout",
     "output_type": "stream",
     "text": [
      "                 Generalized Linear Model Regression Results                  \n",
      "==============================================================================\n",
      "Dep. Variable:                  Count   No. Observations:                  876\n",
      "Model:                            GLM   Df Residuals:                      871\n",
      "Model Family:                 Poisson   Df Model:                            4\n",
      "Link Function:                    log   Scale:                          1.0000\n",
      "Method:                          IRLS   Log-Likelihood:                -5884.2\n",
      "Date:                Wed, 06 Apr 2022   Deviance:                       6838.0\n",
      "Time:                        20:33:40   Pearson chi2:                 6.08e+03\n",
      "No. Iterations:                     4                                         \n",
      "Covariance Type:            nonrobust                                         \n",
      "==========================================================================================\n",
      "                             coef    std err          z      P>|z|      [0.025      0.975]\n",
      "------------------------------------------------------------------------------------------\n",
      "Intercept                  3.8839     11.958      0.325      0.745     -19.552      27.320\n",
      "est_meteo_mas_freq_dic     0.0283      0.009      3.273      0.001       0.011       0.045\n",
      "year_date               2.016e-05      0.006      0.003      0.997      -0.012       0.012\n",
      "w_day_dic                 -0.0134      0.002     -5.606      0.000      -0.018      -0.009\n",
      "month                      0.0026      0.001      1.889      0.059   -9.85e-05       0.005\n",
      "==========================================================================================\n"
     ]
    }
   ],
   "source": [
    "print(poisson_training_results.summary())"
   ]
  },
  {
   "cell_type": "code",
   "execution_count": 61,
   "id": "f8554bbf",
   "metadata": {},
   "outputs": [
    {
     "name": "stdout",
     "output_type": "stream",
     "text": [
      "                 mean   mean_se  mean_ci_lower  mean_ci_upper\n",
      "fecha                                                        \n",
      "01/01/2019  49.423040  0.587568      48.284742      50.588173\n",
      "11/01/2019  47.474279  0.533757      46.439577      48.532034\n",
      "13/01/2019  46.217983  0.609078      45.039497      47.427305\n",
      "18/01/2019  47.474279  0.533757      46.439577      48.532034\n",
      "26/01/2019  46.841919  0.562721      45.751890      47.957918\n",
      "...               ...       ...            ...            ...\n",
      "17/11/2021  50.063834  0.510421      49.073357      51.074303\n",
      "19/11/2021  48.739012  0.502776      47.763484      49.734464\n",
      "13/12/2021  51.559842  0.665205      50.272410      52.880243\n",
      "20/12/2021  51.559842  0.665205      50.272410      52.880243\n",
      "22/12/2021  50.195431  0.557068      49.115386      51.299226\n",
      "\n",
      "[220 rows x 4 columns]\n"
     ]
    }
   ],
   "source": [
    "poisson_predictions = poisson_training_results.get_prediction(X_test)\n",
    "predictions_summary_frame = poisson_predictions.summary_frame()\n",
    "\n",
    "print(predictions_summary_frame)"
   ]
  },
  {
   "cell_type": "code",
   "execution_count": 62,
   "id": "cbaa5dfb",
   "metadata": {},
   "outputs": [
    {
     "data": {
      "image/png": "[encoded data removed]",
      "text/plain": [
       "<Figure size 7200x360 with 1 Axes>"
      ]
     },
     "metadata": {
      "needs_background": "light"
     },
     "output_type": "display_data"
    }
   ],
   "source": [
    "predicted_counts=predictions_summary_frame['mean']\n",
    "actual_counts = y_test['Count']\n",
    "fig = plt.figure(figsize=(100, 5))\n",
    "fig.suptitle('Predicted versus actual accident counts in Madrid')\n",
    "predicted, = plt.plot(X_test.index, predicted_counts, 'go-', label='Predicted counts')\n",
    "actual, = plt.plot(X_test.index, actual_counts, 'ro-', label='Actual counts')\n",
    "plt.legend(handles=[predicted, actual])\n",
    "plt.show()"
   ]
  },
  {
   "cell_type": "markdown",
   "id": "9b90ed8b",
   "metadata": {},
   "source": [
    "### 2. Entendiendo t como **dia + rango**"
   ]
  },
  {
   "cell_type": "code",
   "execution_count": 64,
   "id": "3621a3ff",
   "metadata": {},
   "outputs": [
    {
     "name": "stdout",
     "output_type": "stream",
     "text": [
      "Training data set length=900\n",
      "Testing data set length=196\n"
     ]
    }
   ],
   "source": [
    "mask = np.random.rand(len(num_acc_dia_rango_df)) < 0.8\n",
    "df_train = num_acc_dia_df[mask]\n",
    "df_test = num_acc_dia_df[~mask]\n",
    "print('Training data set length='+str(len(df_train)))\n",
    "print('Testing data set length='+str(len(df_test)))"
   ]
  },
  {
   "cell_type": "code",
   "execution_count": null,
   "id": "443db2e4",
   "metadata": {},
   "outputs": [],
   "source": []
  },
  {
   "cell_type": "code",
   "execution_count": null,
   "id": "c598b211",
   "metadata": {},
   "outputs": [],
   "source": []
  },
  {
   "cell_type": "code",
   "execution_count": null,
   "id": "a3858337",
   "metadata": {},
   "outputs": [],
   "source": []
  },
  {
   "cell_type": "code",
   "execution_count": null,
   "id": "211d78cb",
   "metadata": {},
   "outputs": [],
   "source": []
  },
  {
   "cell_type": "code",
   "execution_count": null,
   "id": "3a952b29",
   "metadata": {},
   "outputs": [],
   "source": []
  },
  {
   "cell_type": "code",
   "execution_count": null,
   "id": "18dfb2dc",
   "metadata": {},
   "outputs": [],
   "source": []
  },
  {
   "cell_type": "markdown",
   "id": "8287d4c2",
   "metadata": {},
   "source": [
    "### Negative Binomial regression model"
   ]
  },
  {
   "cell_type": "code",
   "execution_count": null,
   "id": "448fb2ba",
   "metadata": {},
   "outputs": [],
   "source": [
    "print(poisson_training_results.mu)"
   ]
  },
  {
   "cell_type": "code",
   "execution_count": null,
   "id": "d58381c7",
   "metadata": {},
   "outputs": [],
   "source": [
    "print(len(poisson_training_results.mu))"
   ]
  },
  {
   "cell_type": "code",
   "execution_count": null,
   "id": "a65e5b6b",
   "metadata": {},
   "outputs": [],
   "source": [
    "import statsmodels.formula.api as smf"
   ]
  },
  {
   "cell_type": "code",
   "execution_count": null,
   "id": "7e3dd9c6",
   "metadata": {},
   "outputs": [],
   "source": [
    "df_train['BB_LAMBDA'] = poisson_training_results.mu"
   ]
  },
  {
   "cell_type": "code",
   "execution_count": null,
   "id": "62c0f92e",
   "metadata": {},
   "outputs": [],
   "source": [
    "df_train['AUX_OLS_DEP'] =\\\n",
    "df_train.apply(lambda x: ((x['Count'] - x['BB_LAMBDA'])**2 - x['BB_LAMBDA']) / x['BB_LAMBDA'], axis=1)"
   ]
  },
  {
   "cell_type": "code",
   "execution_count": null,
   "id": "978c6fff",
   "metadata": {},
   "outputs": [],
   "source": [
    "ols_expr = \"\"\"AUX_OLS_DEP ~ BB_LAMBDA - 1\"\"\""
   ]
  },
  {
   "cell_type": "code",
   "execution_count": null,
   "id": "eec7d144",
   "metadata": {},
   "outputs": [],
   "source": [
    "aux_olsr_results = smf.ols(ols_expr, df_train).fit()"
   ]
  },
  {
   "cell_type": "code",
   "execution_count": null,
   "id": "d9d0952f",
   "metadata": {},
   "outputs": [],
   "source": [
    "print(aux_olsr_results.params)"
   ]
  },
  {
   "cell_type": "markdown",
   "id": "aea73011",
   "metadata": {},
   "source": [
    "¿Es lambda estadísticamente sigfinicativo?\n",
    "En caso que lambda no fuera estadísticamente significativo, la Binomial Negativa no haria un mejor trabajo de ajuste a los datos de trainning que el modelo de regresión de Poisson.\n",
    "\n",
    "Para evaluar dicha característica vamos a hacer uso del valor t-student."
   ]
  },
  {
   "cell_type": "markdown",
   "id": "be83941d",
   "metadata": {},
   "source": [
    "El t-statistic de lambda es:"
   ]
  },
  {
   "cell_type": "code",
   "execution_count": null,
   "id": "30d8459d",
   "metadata": {},
   "outputs": [],
   "source": [
    "aux_olsr_results.tvalues"
   ]
  },
  {
   "cell_type": "markdown",
   "id": "bdaf5ce7",
   "metadata": {},
   "source": [
    "el t-value para un intervalo de cinfianza del 99% y con 1,095 grados de libertad es 2.329758, el cual es inferior al t-statistic de lambda, por lo que concluimos que:\n",
    "\n",
    "lambda es significativo, y que el ajuste que obtendremos con una dristribucion de BN será superior que el obtenido con la Poisson."
   ]
  },
  {
   "cell_type": "code",
   "execution_count": null,
   "id": "3a24282c",
   "metadata": {},
   "outputs": [],
   "source": [
    "nb2_training_results =\\\n",
    "sm.GLM(y_train, X_train,family=sm.families.NegativeBinomial(alpha=aux_olsr_results.params[0])).fit()\n"
   ]
  },
  {
   "cell_type": "code",
   "execution_count": null,
   "id": "030a833e",
   "metadata": {},
   "outputs": [],
   "source": [
    "print(nb2_training_results.summary())"
   ]
  },
  {
   "cell_type": "code",
   "execution_count": null,
   "id": "0a204213",
   "metadata": {},
   "outputs": [],
   "source": [
    "nb2_predictions = nb2_training_results.get_prediction(X_test)"
   ]
  },
  {
   "cell_type": "code",
   "execution_count": null,
   "id": "56ab542c",
   "metadata": {},
   "outputs": [],
   "source": [
    "predictions_summary_frame = nb2_predictions.summary_frame()\n",
    "print(predictions_summary_frame)"
   ]
  },
  {
   "cell_type": "code",
   "execution_count": null,
   "id": "8978b4a7",
   "metadata": {},
   "outputs": [],
   "source": [
    "predicted_counts=predictions_summary_frame['mean']\n",
    "actual_counts = y_test['Count']\n",
    "fig = plt.figure(figsize=(100, 5))\n",
    "fig.suptitle('Predicted versus actual ACCIDENTS counts in MADRID')\n",
    "predicted, = plt.plot(X_test.index, predicted_counts, 'go-', label='Predicted counts')\n",
    "actual, = plt.plot(X_test.index, actual_counts, 'ro-', label='Actual counts')\n",
    "plt.legend(handles=[predicted, actual])\n",
    "plt.show()"
   ]
  },
  {
   "cell_type": "code",
   "execution_count": null,
   "id": "3b4ad1de",
   "metadata": {},
   "outputs": [],
   "source": []
  },
  {
   "cell_type": "code",
   "execution_count": null,
   "id": "dfed1283",
   "metadata": {},
   "outputs": [],
   "source": []
  },
  {
   "cell_type": "code",
   "execution_count": null,
   "id": "b1e1b501",
   "metadata": {},
   "outputs": [],
   "source": []
  },
  {
   "cell_type": "code",
   "execution_count": null,
   "id": "8d32eafb",
   "metadata": {},
   "outputs": [],
   "source": []
  },
  {
   "cell_type": "markdown",
   "id": "44b68e33",
   "metadata": {},
   "source": [
    "## APLICACION DE LOS METODOS VISTOS EN CLASE"
   ]
  },
  {
   "cell_type": "markdown",
   "id": "5cf84251",
   "metadata": {},
   "source": [
    "Estimator interface:\n",
    "\n",
    ".fit --- X, a numpy array or scipy sparse matrix, y, in the case of supervised learning. It is a one-dimensional numpy array containing target values.\n",
    "\n",
    "- `.predict()` a new set of y values from an `X_test` array: classification, regression, clustering\n",
    "\n",
    "- `.transform()` an input `X_test` array: preprocessing, dimensionality reduction, feature extraction..."
   ]
  },
  {
   "cell_type": "markdown",
   "id": "6f475da0",
   "metadata": {},
   "source": [
    "Cuantos accidentes por dia:\n",
    "- habrá q hacer columna de numero de accidentes\n",
    "- columnas a mantener:\n",
    "    - fecha\n",
    "    - year_date\n",
    "    - week_day\n",
    "    - month"
   ]
  },
  {
   "cell_type": "code",
   "execution_count": null,
   "id": "65725c54",
   "metadata": {},
   "outputs": [],
   "source": [
    "num_acc_dia = pppp[['fecha','year_date', 'w_day_dic','month']]"
   ]
  },
  {
   "cell_type": "code",
   "execution_count": null,
   "id": "b28e5886",
   "metadata": {},
   "outputs": [],
   "source": [
    "num_acc_dia"
   ]
  },
  {
   "cell_type": "code",
   "execution_count": null,
   "id": "ca9ae77a",
   "metadata": {},
   "outputs": [],
   "source": [
    "a=num_acc_dia.groupby(\"fecha\").size().values\n",
    "aa= num_acc_dia.drop_duplicates(subset=\"fecha\").assign(Count=a)"
   ]
  },
  {
   "cell_type": "code",
   "execution_count": null,
   "id": "d03fcce2",
   "metadata": {},
   "outputs": [],
   "source": [
    "aaa=aa.drop('fecha',axis=1)\n",
    "aaa"
   ]
  },
  {
   "cell_type": "code",
   "execution_count": null,
   "id": "ab048cac",
   "metadata": {},
   "outputs": [],
   "source": [
    "X = aaa[['year_date','w_day_dic','month' ]]\n",
    "#X = aaa[['w_day_dic']]\n",
    "y = aaa['Count']"
   ]
  },
  {
   "cell_type": "code",
   "execution_count": null,
   "id": "ca9dbb68",
   "metadata": {},
   "outputs": [],
   "source": [
    "y.mean()"
   ]
  },
  {
   "cell_type": "code",
   "execution_count": null,
   "id": "f4ed3265",
   "metadata": {},
   "outputs": [],
   "source": [
    "plt.hist(y, bins =50);\n",
    "#representamos la frecuencia de dias por nº de accidentes"
   ]
  },
  {
   "cell_type": "code",
   "execution_count": null,
   "id": "cf9e6ad3",
   "metadata": {},
   "outputs": [],
   "source": [
    "from sklearn.model_selection import train_test_split"
   ]
  },
  {
   "cell_type": "code",
   "execution_count": null,
   "id": "0a6a5aad",
   "metadata": {},
   "outputs": [],
   "source": [
    "X_train, X_test, y_train, y_test = train_test_split(X, y,train_size=.8)"
   ]
  },
  {
   "cell_type": "markdown",
   "id": "db3e88a2",
   "metadata": {},
   "source": [
    "# REGRESIONS"
   ]
  },
  {
   "cell_type": "markdown",
   "id": "b33c3b0f",
   "metadata": {},
   "source": [
    "### LinealRegression\n",
    "algoritmo paramétrico"
   ]
  },
  {
   "cell_type": "code",
   "execution_count": null,
   "id": "71e29d0e",
   "metadata": {},
   "outputs": [],
   "source": [
    "from sklearn.linear_model import LinearRegression"
   ]
  },
  {
   "cell_type": "code",
   "execution_count": null,
   "id": "f084c871",
   "metadata": {},
   "outputs": [],
   "source": [
    "lr = LinearRegression ()"
   ]
  },
  {
   "cell_type": "code",
   "execution_count": null,
   "id": "90de2649",
   "metadata": {},
   "outputs": [],
   "source": [
    "lr.fit(X_train, y_train) #sacamos los parametros de Train\n",
    "y_hat =lr.predict(X_test) #predecimos los dias con Test"
   ]
  },
  {
   "cell_type": "code",
   "execution_count": null,
   "id": "d843d942",
   "metadata": {},
   "outputs": [],
   "source": [
    "y_hat; #las predicciones"
   ]
  },
  {
   "cell_type": "code",
   "execution_count": null,
   "id": "71d5459b",
   "metadata": {},
   "outputs": [],
   "source": [
    "lr.coef_"
   ]
  },
  {
   "cell_type": "code",
   "execution_count": null,
   "id": "bc577fb5",
   "metadata": {},
   "outputs": [],
   "source": [
    "lr.intercept_"
   ]
  },
  {
   "cell_type": "code",
   "execution_count": null,
   "id": "6c945f00",
   "metadata": {},
   "outputs": [],
   "source": [
    "#Metricas de la regresión lineal"
   ]
  },
  {
   "cell_type": "code",
   "execution_count": null,
   "id": "4e2f1d51",
   "metadata": {},
   "outputs": [],
   "source": [
    "error = (y_test-y_hat)"
   ]
  },
  {
   "cell_type": "markdown",
   "id": "a1e1ff1c",
   "metadata": {},
   "source": [
    "MSE: Mean Squared Error\n",
    "\n",
    "$$MSE = \\frac{1}{n} \\sum_{i=1}^{n} (y_i - h(x_i))^2$$"
   ]
  },
  {
   "cell_type": "code",
   "execution_count": null,
   "id": "1763f090",
   "metadata": {},
   "outputs": [],
   "source": [
    "mse = np.mean(error**2)\n",
    "mse"
   ]
  },
  {
   "cell_type": "markdown",
   "id": "4b48be50",
   "metadata": {},
   "source": [
    "No estaba"
   ]
  },
  {
   "cell_type": "code",
   "execution_count": null,
   "id": "14c37471",
   "metadata": {},
   "outputs": [],
   "source": [
    "rmse = np.sqrt(mse) #Esta en la misma unidad de medida\n",
    "rmse"
   ]
  },
  {
   "cell_type": "markdown",
   "id": "bc759cc8",
   "metadata": {},
   "source": [
    "MAE: Mean Absolute Error \n",
    "\n",
    "$$MAE = \\frac{1}{n} \\sum_{i=1}^{n} |y_i - h(x_i)|$$"
   ]
  },
  {
   "cell_type": "code",
   "execution_count": null,
   "id": "3e76c68b",
   "metadata": {},
   "outputs": [],
   "source": [
    "mae = np.mean(np.abs(error))\n",
    "mae"
   ]
  },
  {
   "cell_type": "markdown",
   "id": "46b4cdb3",
   "metadata": {},
   "source": [
    "MAPE: Mean Absolute Percent Error\n",
    "\n",
    "$$MAE = \\frac{1}{n} \\sum_{i=1}^{n} \\frac{|y_i - h(x_i)|}{y_i}$$"
   ]
  },
  {
   "cell_type": "markdown",
   "id": "5e36f5f1",
   "metadata": {},
   "source": [
    "Explained Variance:\n",
    "\n",
    "\n",
    "$$explained\\_{}variance(y, \\hat{y}) = 1 - \\frac{Var\\{ y - \\hat{y}\\}}{Var\\{y\\}}$$\n"
   ]
  },
  {
   "cell_type": "code",
   "execution_count": null,
   "id": "f63c2288",
   "metadata": {},
   "outputs": [],
   "source": [
    "#almacenamos todos los resultados en un dataframe\n",
    "results_num_acc_dia = pd.DataFrame (columns = ['MAE','MSE','RMSE'])\n",
    "results_num_acc_dia.loc['linear_regression'] = [mae, mse, rmse]\n",
    "results_num_acc_dia"
   ]
  },
  {
   "cell_type": "code",
   "execution_count": null,
   "id": "54a44c18",
   "metadata": {},
   "outputs": [],
   "source": [
    "plt.scatter(y_test, y_hat)"
   ]
  },
  {
   "cell_type": "code",
   "execution_count": null,
   "id": "3066e8c1",
   "metadata": {},
   "outputs": [],
   "source": [
    "import seaborn as sns \n",
    "\n",
    "sns.heatmap(X.corr(),cmap='PiYG', center=0)\n",
    "# No hay correlación entre las variables"
   ]
  },
  {
   "cell_type": "code",
   "execution_count": null,
   "id": "c2e2162e",
   "metadata": {},
   "outputs": [],
   "source": [
    "with_target = X.copy()\n",
    "with_target['Count']= y\n",
    "sns.heatmap(with_target.corr(),cmap='PiYG', center=0)\n",
    "#Tampoco vemos q haya correlacion"
   ]
  },
  {
   "cell_type": "markdown",
   "id": "06dbde9a",
   "metadata": {},
   "source": [
    "### K NEAREST NEIGHBORS"
   ]
  },
  {
   "cell_type": "code",
   "execution_count": null,
   "id": "b3fc4800",
   "metadata": {},
   "outputs": [],
   "source": [
    "from sklearn.neighbors import KNeighborsRegressor\n",
    "\n",
    "knn= KNeighborsRegressor(n_neighbors=4)"
   ]
  },
  {
   "cell_type": "code",
   "execution_count": null,
   "id": "14dd7d24",
   "metadata": {},
   "outputs": [],
   "source": [
    "knn.fit (X_train, y_train)\n",
    "y_hat_knn = knn.predict(X_test)"
   ]
  },
  {
   "cell_type": "code",
   "execution_count": null,
   "id": "9bc7b5db",
   "metadata": {},
   "outputs": [],
   "source": [
    "error_knn = y_test - y_hat_knn\n",
    "mae_knn = np.mean(np.abs(error_knn))\n",
    "mse_knn = np.mean((error_knn)**2)\n",
    "rmse_knn = np.sqrt(mse_knn)\n",
    "\n",
    "results_num_acc_dia.loc['knn_4'] = [mae_knn, mse_knn, rmse_knn]\n",
    "results_num_acc_dia"
   ]
  },
  {
   "cell_type": "code",
   "execution_count": null,
   "id": "7f0ac0a2",
   "metadata": {},
   "outputs": [],
   "source": [
    "knn= KNeighborsRegressor(n_neighbors=20)\n",
    "\n",
    "knn.fit (X_train, y_train)\n",
    "y_hat_knn = knn.predict(X_test)\n",
    "\n",
    "error_knn = y_test - y_hat_knn\n",
    "mae_knn = np.mean(np.abs(error_knn))\n",
    "mse_knn = np.mean((error_knn)**2)\n",
    "rmse_knn = np.sqrt(mse_knn)\n",
    "\n",
    "results_num_acc_dia.loc['knn_20'] = [mae_knn, mse_knn, rmse_knn]\n",
    "results_num_acc_dia"
   ]
  },
  {
   "cell_type": "code",
   "execution_count": null,
   "id": "e5a343f4",
   "metadata": {},
   "outputs": [],
   "source": [
    "knn= KNeighborsRegressor(n_neighbors=50)\n",
    "\n",
    "knn.fit (X_train, y_train)\n",
    "y_hat_knn = knn.predict(X_test)\n",
    "\n",
    "error_knn = y_test - y_hat_knn\n",
    "mae_knn = np.mean(np.abs(error_knn))\n",
    "mse_knn = np.mean((error_knn)**2)\n",
    "rmse_knn = np.sqrt(mse_knn)\n",
    "\n",
    "results_num_acc_dia.loc['knn_50'] = [mae_knn, mse_knn, rmse_knn]\n",
    "results_num_acc_dia"
   ]
  },
  {
   "cell_type": "code",
   "execution_count": null,
   "id": "70d9b351",
   "metadata": {},
   "outputs": [],
   "source": [
    "#Vamos a ver que pasa si normalizamos el dataset"
   ]
  },
  {
   "cell_type": "code",
   "execution_count": null,
   "id": "74c541b1",
   "metadata": {},
   "outputs": [],
   "source": [
    "normalized = aaa.copy()\n",
    "normalized = (normalized - normalized.mean())/normalized.std()\n",
    "normalized;"
   ]
  },
  {
   "cell_type": "code",
   "execution_count": null,
   "id": "1fc00316",
   "metadata": {},
   "outputs": [],
   "source": [
    "X_nor = normalized[['year_date','w_day_dic','month' ]]\n",
    "y_nor = normalized['Count']"
   ]
  },
  {
   "cell_type": "code",
   "execution_count": null,
   "id": "152183b3",
   "metadata": {},
   "outputs": [],
   "source": [
    "X_train_nor, X_test_nor, y_train_nor, y_test_nor = train_test_split(X_nor, y_nor,train_size=.8)"
   ]
  },
  {
   "cell_type": "code",
   "execution_count": null,
   "id": "6816a543",
   "metadata": {},
   "outputs": [],
   "source": [
    "knn= KNeighborsRegressor(n_neighbors=5)\n",
    "\n",
    "knn.fit (X_train_nor, y_train_nor)\n",
    "y_hat_knn_nor = knn.predict(X_test_nor)\n",
    "\n",
    "error_knn_nor = y_test_nor - y_hat_knn_nor\n",
    "mae_knn = np.mean(np.abs(error_knn_nor))\n",
    "mse_knn = np.mean((error_knn)**2)\n",
    "rmse_knn = np.sqrt(mse_knn)\n",
    "\n",
    "results_num_acc_dia.loc['knn_5_nor'] = [mae_knn, mse_knn, rmse_knn]\n",
    "results_num_acc_dia"
   ]
  },
  {
   "cell_type": "code",
   "execution_count": null,
   "id": "abf757ec",
   "metadata": {},
   "outputs": [],
   "source": [
    "plt.scatter(y_test,y_hat_knn)"
   ]
  },
  {
   "cell_type": "markdown",
   "id": "c1679a3b",
   "metadata": {},
   "source": [
    "### DECISION TREE REGRESSOR\n",
    "Regresor Arbol de decision:algoritmo que responde a una particion binaria (y/n)"
   ]
  },
  {
   "cell_type": "code",
   "execution_count": null,
   "id": "b2628622",
   "metadata": {},
   "outputs": [],
   "source": [
    "from sklearn.tree import DecisionTreeRegressor"
   ]
  },
  {
   "cell_type": "code",
   "execution_count": null,
   "id": "bb0c1708",
   "metadata": {},
   "outputs": [],
   "source": [
    "dt = DecisionTreeRegressor(max_depth=4, #Nº saltos\n",
    "                           min_samples_leaf=20) #nº min resultante en cada salto\n",
    "\n",
    "dt.fit(X_train, y_train)\n",
    "y_hat = dt.predict(X_test)\n",
    "\n",
    "# Evaluate\n",
    "errors = y_test - y_hat\n",
    "mae = np.mean(np.abs(errors))\n",
    "mse = np.mean(errors ** 2)\n",
    "rmse = np.sqrt(mse)\n",
    "\n",
    "results_num_acc_dia.loc['dt_4'] = [mae, mse, rmse]\n",
    "results_num_acc_dia"
   ]
  },
  {
   "cell_type": "code",
   "execution_count": null,
   "id": "0041801e",
   "metadata": {},
   "outputs": [],
   "source": [
    "dt = DecisionTreeRegressor(max_depth=8, #Nº saltos\n",
    "                           min_samples_leaf=20) #nº min resultante en cada salto\n",
    "\n",
    "dt.fit(X_train, y_train)\n",
    "y_hat = dt.predict(X_test)\n",
    "\n",
    "# Evaluate\n",
    "errors = y_test - y_hat\n",
    "mae = np.mean(np.abs(errors))\n",
    "mse = np.mean(errors ** 2)\n",
    "rmse = np.sqrt(mse)\n",
    "\n",
    "results_num_acc_dia.loc['dt_8'] = [mae, mse, rmse]\n",
    "results_num_acc_dia"
   ]
  },
  {
   "cell_type": "code",
   "execution_count": null,
   "id": "554d3de7",
   "metadata": {},
   "outputs": [],
   "source": [
    "dt = DecisionTreeRegressor(max_depth=4,\n",
    "                           min_samples_leaf=20) \n",
    "\n",
    "dt.fit (X_train_nor, y_train_nor)\n",
    "y_hat_dt_nor = dt.predict(X_test_nor)\n",
    "\n",
    "error_dt_nor = y_test_nor - y_hat_dt_nor\n",
    "mae_dt = np.mean(np.abs(error_dt_nor))\n",
    "mse_dt = np.mean((error_dt_nor)**2)\n",
    "rmse_dt = np.sqrt(mse_dt)\n",
    "\n",
    "results_num_acc_dia.loc['dt_4_nor'] = [mae_dt, mse_dt, rmse_dt]\n",
    "results_num_acc_dia"
   ]
  },
  {
   "cell_type": "code",
   "execution_count": null,
   "id": "ef1faa37",
   "metadata": {},
   "outputs": [],
   "source": [
    "dt = DecisionTreeRegressor(max_depth=8,\n",
    "                           min_samples_leaf=20) \n",
    "\n",
    "dt.fit (X_train_nor, y_train_nor)\n",
    "y_hat_dt_nor = dt.predict(X_test_nor)\n",
    "\n",
    "error_dt_nor = y_test_nor - y_hat_dt_nor\n",
    "mae_dt = np.mean(np.abs(error_dt_nor))\n",
    "mse_dt = np.mean((error_dt_nor)**2)\n",
    "rmse_dt = np.sqrt(mse_dt)\n",
    "\n",
    "results_num_acc_dia.loc['dt_8_nor'] = [mae_dt, mse_dt, rmse_dt]\n",
    "results_num_acc_dia"
   ]
  },
  {
   "cell_type": "markdown",
   "id": "3af7945b",
   "metadata": {},
   "source": [
    "# CLASIFICACION"
   ]
  },
  {
   "cell_type": "markdown",
   "id": "2c8d0453",
   "metadata": {},
   "source": [
    "### LOGISTIC REGRESION"
   ]
  },
  {
   "cell_type": "code",
   "execution_count": null,
   "id": "8a49b8fa",
   "metadata": {},
   "outputs": [],
   "source": [
    "from sklearn.linear_model import LogisticRegression"
   ]
  },
  {
   "cell_type": "code",
   "execution_count": null,
   "id": "d8e32555",
   "metadata": {},
   "outputs": [],
   "source": [
    "lr = LogisticRegression()\n",
    "X_train, X_test, y_train, y_test = train_test_split (X, y)\n",
    "\n",
    "lr.fit(X_train, y_train)\n",
    "y_hat = lr.predict(X_test)\n",
    "lr.predict_proba(X_test)"
   ]
  },
  {
   "cell_type": "code",
   "execution_count": null,
   "id": "142dcf8c",
   "metadata": {},
   "outputs": [],
   "source": []
  },
  {
   "cell_type": "code",
   "execution_count": null,
   "id": "c43f3fe0",
   "metadata": {},
   "outputs": [],
   "source": [
    "from sklearn.tree import DecisionTreeClassifier"
   ]
  },
  {
   "cell_type": "code",
   "execution_count": null,
   "id": "09665aed",
   "metadata": {},
   "outputs": [],
   "source": [
    "dt = DecisionTreeClassifier()\n",
    "dt.fit(X_train, y_train)\n",
    "y_hat =dt.predict(X_test)"
   ]
  },
  {
   "cell_type": "code",
   "execution_count": null,
   "id": "b70c32e6",
   "metadata": {},
   "outputs": [],
   "source": [
    "from sklearn.metrics import accuracy_score, mean_absolute_error,precision_score,recall_score, \\\n",
    "                            mean_squared_error, confusion_matrix"
   ]
  },
  {
   "cell_type": "code",
   "execution_count": null,
   "id": "f853cc19",
   "metadata": {},
   "outputs": [],
   "source": [
    "(accuracy_score(y_test,y_hat))#, \\\n",
    " #precision_score(y_test,y_hat), \\\n",
    " #recall_score(y_test,y_hat))"
   ]
  },
  {
   "cell_type": "code",
   "execution_count": null,
   "id": "addad700",
   "metadata": {},
   "outputs": [],
   "source": [
    "dt.feature_importances_"
   ]
  },
  {
   "cell_type": "code",
   "execution_count": null,
   "id": "838e077b",
   "metadata": {},
   "outputs": [],
   "source": []
  },
  {
   "cell_type": "code",
   "execution_count": null,
   "id": "da91af85",
   "metadata": {
    "scrolled": false
   },
   "outputs": [],
   "source": [
    "import graphviz\n",
    "from sklearn import tree\n",
    "\n",
    "dot_data = tree.export_graphviz(dt, out_file = None)\n",
    "graph = graphviz.Source(dot_data)\n",
    "#graph"
   ]
  },
  {
   "cell_type": "code",
   "execution_count": null,
   "id": "f56e3bce",
   "metadata": {},
   "outputs": [],
   "source": []
  },
  {
   "cell_type": "code",
   "execution_count": null,
   "id": "777f2f36",
   "metadata": {},
   "outputs": [],
   "source": [
    "#RamdonForest"
   ]
  },
  {
   "cell_type": "code",
   "execution_count": null,
   "id": "8480a02e",
   "metadata": {},
   "outputs": [],
   "source": [
    "from sklearn.ensemble import RandomForestRegressor\n",
    "\n",
    "rf = RandomForestRegressor()\n",
    "rf.fit(X,y)\n",
    "rf.predict(X)"
   ]
  },
  {
   "cell_type": "code",
   "execution_count": null,
   "id": "68ecd319",
   "metadata": {},
   "outputs": [],
   "source": []
  },
  {
   "cell_type": "code",
   "execution_count": null,
   "id": "8f8ef549",
   "metadata": {},
   "outputs": [],
   "source": [
    "# Clustering: se hace con la finalidad de obtener grupos de datos con características similares."
   ]
  },
  {
   "cell_type": "code",
   "execution_count": null,
   "id": "22cf28aa",
   "metadata": {},
   "outputs": [],
   "source": []
  },
  {
   "cell_type": "markdown",
   "id": "5fd46592",
   "metadata": {},
   "source": [
    "## EJEMPLO DE MATRIZ DE CORRELACION"
   ]
  },
  {
   "cell_type": "markdown",
   "id": "435f2d16",
   "metadata": {},
   "source": [
    "Construimos una matriz con las columnas preparadas para ser tratadas:"
   ]
  },
  {
   "cell_type": "code",
   "execution_count": 149,
   "id": "40a0b3ce",
   "metadata": {},
   "outputs": [
    {
     "ename": "NameError",
     "evalue": "name 'pppp' is not defined",
     "output_type": "error",
     "traceback": [
      "\u001b[0;31m---------------------------------------------------------------------------\u001b[0m",
      "\u001b[0;31mNameError\u001b[0m                                 Traceback (most recent call last)",
      "\u001b[0;32m/tmp/ipykernel_3461/629739813.py\u001b[0m in \u001b[0;36m<module>\u001b[0;34m\u001b[0m\n\u001b[0;32m----> 1\u001b[0;31m acc_df = pppp[['num_expediente','est_meteo_dic','tipo_acc_dic','num_exp',\n\u001b[0m\u001b[1;32m      2\u001b[0m                \u001b[0;34m'cod_distrito'\u001b[0m\u001b[0;34m,\u001b[0m\u001b[0;31m#'coordenada_x_utm','coordenada_y_utm',\u001b[0m\u001b[0;34m\u001b[0m\u001b[0;34m\u001b[0m\u001b[0m\n\u001b[1;32m      3\u001b[0m               'year_date','month','w_day_dic','hour','is_weekend_bank']]\n",
      "\u001b[0;31mNameError\u001b[0m: name 'pppp' is not defined"
     ]
    }
   ],
   "source": [
    "acc_df = pppp[['num_expediente','est_meteo_dic','tipo_acc_dic','num_exp',\n",
    "               'cod_distrito',#'coordenada_x_utm','coordenada_y_utm',\n",
    "              'year_date','month','w_day_dic','hour','is_weekend_bank']]"
   ]
  },
  {
   "cell_type": "code",
   "execution_count": 150,
   "id": "6a6bda36",
   "metadata": {},
   "outputs": [
    {
     "data": {
      "text/plain": [
       "<AxesSubplot:>"
      ]
     },
     "execution_count": 150,
     "metadata": {},
     "output_type": "execute_result"
    },
    {
     "data": {
      "image/png": "[encoded data removed]",
      "text/plain": [
       "<Figure size 432x288 with 2 Axes>"
      ]
     },
     "metadata": {
      "needs_background": "light"
     },
     "output_type": "display_data"
    }
   ],
   "source": [
    "import seaborn as sns \n",
    "\n",
    "sns.heatmap(acc_df.corr(),cmap='PiYG', center=0)"
   ]
  },
  {
   "cell_type": "markdown",
   "id": "37304a8c",
   "metadata": {},
   "source": [
    "Las variables que tienen media-alta correlación:\n",
    "- w_day_dic vs is_weekend_bank"
   ]
  },
  {
   "cell_type": "markdown",
   "id": "46810cd8",
   "metadata": {},
   "source": [
    "## EJEMPLO DE POISSON"
   ]
  },
  {
   "cell_type": "code",
   "execution_count": 145,
   "id": "a2f7ba5e",
   "metadata": {},
   "outputs": [
    {
     "data": {
      "text/plain": [
       "0.10081881344492458"
      ]
     },
     "execution_count": 145,
     "metadata": {},
     "output_type": "execute_result"
    }
   ],
   "source": [
    "from scipy.stats import poisson\n",
    "\n",
    "#calculate probability q sean 5 eventos\n",
    "poisson.pmf(k=5, mu=3)\n"
   ]
  },
  {
   "cell_type": "code",
   "execution_count": 146,
   "id": "84407664",
   "metadata": {},
   "outputs": [
    {
     "data": {
      "text/plain": [
       "0.17299160788207146"
      ]
     },
     "execution_count": 146,
     "metadata": {},
     "output_type": "execute_result"
    }
   ],
   "source": [
    "from scipy.stats import poisson\n",
    "\n",
    "#calculate probability less 4 events\n",
    "poisson.cdf(k=4, mu=7)\n"
   ]
  },
  {
   "cell_type": "code",
   "execution_count": 147,
   "id": "e38b2004",
   "metadata": {},
   "outputs": [
    {
     "data": {
      "text/plain": [
       "0.08297091003146029"
      ]
     },
     "execution_count": 147,
     "metadata": {},
     "output_type": "execute_result"
    }
   ],
   "source": [
    "from scipy.stats import poisson\n",
    "\n",
    "#calculate probability more 20 events\n",
    "1-poisson.cdf(k=20, mu=15)"
   ]
  },
  {
   "cell_type": "code",
   "execution_count": 143,
   "id": "65f2b8b5",
   "metadata": {},
   "outputs": [
    {
     "data": {
      "text/plain": [
       "(array([0.18418182, 0.21127273, 0.20318182, 0.14545455, 0.09181818,\n",
       "        0.04654545, 0.01627273, 0.00645455, 0.00254545, 0.00136364]),\n",
       " array([ 0. ,  1.1,  2.2,  3.3,  4.4,  5.5,  6.6,  7.7,  8.8,  9.9, 11. ]),\n",
       " <BarContainer object of 10 artists>)"
      ]
     },
     "execution_count": 143,
     "metadata": {},
     "output_type": "execute_result"
    },
    {
     "data": {
      "image/png": "[encoded data removed]",
      "text/plain": [
       "<Figure size 432x288 with 1 Axes>"
      ]
     },
     "metadata": {
      "needs_background": "light"
     },
     "output_type": "display_data"
    }
   ],
   "source": [
    "from scipy.stats import poisson\n",
    "import matplotlib.pyplot as plt\n",
    "\n",
    "#generate Poisson distribution with sample size 10000\n",
    "x = poisson.rvs(mu=3, size=10000)\n",
    "\n",
    "#create plot of Poisson distribution\n",
    "plt.hist(x, density=True, edgecolor='black')"
   ]
  },
  {
   "cell_type": "markdown",
   "id": "c6eafcb6",
   "metadata": {},
   "source": [
    "# OTROS TIPOS DE ENCODING"
   ]
  },
  {
   "cell_type": "markdown",
   "id": "eecc5e52",
   "metadata": {},
   "source": [
    "Genera una columna adicional de codigo, de 1 a x, en el que hay un orden jerarquico\n",
    "\n",
    "Para variables categoricas\n",
    "\n",
    "(internet)"
   ]
  },
  {
   "cell_type": "code",
   "execution_count": null,
   "id": "4f18542a",
   "metadata": {},
   "outputs": [],
   "source": [
    "    from sklearn.preprocessing import OrdinalEncoder"
   ]
  },
  {
   "cell_type": "markdown",
   "id": "e05ef209",
   "metadata": {},
   "source": [
    "Para generar matrices dispersas\n",
    "\n",
    "Para los features son variables nominales de pocas categorias\n",
    "\n",
    "(internet)"
   ]
  },
  {
   "cell_type": "code",
   "execution_count": null,
   "id": "f3ba2a18",
   "metadata": {},
   "outputs": [],
   "source": [
    "from sklearn.preprocessing import OneHotEncoder"
   ]
  },
  {
   "cell_type": "code",
   "execution_count": null,
   "id": "8acd55b0",
   "metadata": {},
   "outputs": [],
   "source": [
    "#Otro método\n",
    "#pd.get_dummies(acc_veh, columns = [('sexo')]).head()\n",
    "# https://elmundodelosdatos.com/tecnicas-para-codificar-variables-categoricas-ordinal-one-hot/"
   ]
  },
  {
   "cell_type": "markdown",
   "id": "94c8afc3",
   "metadata": {},
   "source": [
    "NOTA: Si hay muchas categorias habrá que generar un cajón desastre, xq sino no se encuentra relación. Ver ejercicio"
   ]
  },
  {
   "cell_type": "markdown",
   "id": "ae95403b",
   "metadata": {},
   "source": [
    "### Target encoding o Bin counting \n",
    "https://maxhalford.github.io/blog/target-encoding/"
   ]
  },
  {
   "cell_type": "code",
   "execution_count": null,
   "id": "7397251c",
   "metadata": {},
   "outputs": [],
   "source": [
    "from category_encoders import TargetEncoder"
   ]
  },
  {
   "cell_type": "markdown",
   "id": "7aa60dff",
   "metadata": {},
   "source": [
    "## CODIGO DE VISUALIZACION DE PIPELINE ENCODING"
   ]
  },
  {
   "cell_type": "code",
   "execution_count": null,
   "id": "d4493f47",
   "metadata": {},
   "outputs": [],
   "source": [
    "sklearn.set_config(display='diagram')"
   ]
  },
  {
   "cell_type": "code",
   "execution_count": null,
   "id": "d2ede666",
   "metadata": {},
   "outputs": [],
   "source": [
    "pipeline = Pipeline([('onehot',OneHotEncoder(handle_unknown='ignore')),\n",
    "                        ('imputer', SimpleImputer(strategy ='median')), \n",
    "                              ('classifier', RandomForestClassifier())])\n",
    "pipeline"
   ]
  },
  {
   "cell_type": "code",
   "execution_count": null,
   "id": "c5168cb8",
   "metadata": {},
   "outputs": [],
   "source": [
    "result = encoder.fit_transform(aa[['is_weekend_bank']])"
   ]
  }
 ],
 "metadata": {
  "kernelspec": {
   "display_name": "Python 3 (ipykernel)",
   "language": "python",
   "name": "python3"
  },
  "language_info": {
   "codemirror_mode": {
    "name": "ipython",
    "version": 3
   },
   "file_extension": ".py",
   "mimetype": "text/x-python",
   "name": "python",
   "nbconvert_exporter": "python",
   "pygments_lexer": "ipython3",
   "version": "3.8.2"
  }
 },
 "nbformat": 4,
 "nbformat_minor": 5
}
