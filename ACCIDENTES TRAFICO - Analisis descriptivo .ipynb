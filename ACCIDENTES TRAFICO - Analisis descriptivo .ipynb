{
 "cells": [
  {
   "cell_type": "code",
   "execution_count": 14,
   "id": "d120801c",
   "metadata": {},
   "outputs": [],
   "source": [
    "import pandas as pd\n",
    "import numpy as np\n",
    "import matplotlib.pyplot as plt"
   ]
  },
  {
   "cell_type": "code",
   "execution_count": 5,
   "id": "8e76aaf2",
   "metadata": {},
   "outputs": [],
   "source": [
    "path_acc_wea = '/home/dsc/Master DS/TFM/GIT/acc_wea.csv'"
   ]
  },
  {
   "cell_type": "code",
   "execution_count": 8,
   "id": "b8a94d9c",
   "metadata": {},
   "outputs": [],
   "source": [
    "acc_with_wea = pd.read_csv(path_acc_wea, sep = '^' )"
   ]
  },
  {
   "cell_type": "code",
   "execution_count": 9,
   "id": "eedb49ae",
   "metadata": {},
   "outputs": [
    {
     "data": {
      "text/html": [
       "<div>\n",
       "<style scoped>\n",
       "    .dataframe tbody tr th:only-of-type {\n",
       "        vertical-align: middle;\n",
       "    }\n",
       "\n",
       "    .dataframe tbody tr th {\n",
       "        vertical-align: top;\n",
       "    }\n",
       "\n",
       "    .dataframe thead th {\n",
       "        text-align: right;\n",
       "    }\n",
       "</style>\n",
       "<table border=\"1\" class=\"dataframe\">\n",
       "  <thead>\n",
       "    <tr style=\"text-align: right;\">\n",
       "      <th></th>\n",
       "      <th>Unnamed: 0</th>\n",
       "      <th>num_expediente</th>\n",
       "      <th>fecha</th>\n",
       "      <th>hora</th>\n",
       "      <th>cod_distrito</th>\n",
       "      <th>tipo_accidente</th>\n",
       "      <th>estado_meteorologico</th>\n",
       "      <th>tipo_vehiculo</th>\n",
       "      <th>tipo_persona</th>\n",
       "      <th>rango_edad</th>\n",
       "      <th>sexo</th>\n",
       "      <th>coordenada_x_utm</th>\n",
       "      <th>coordenada_y_utm</th>\n",
       "      <th>positiva_alcohol</th>\n",
       "      <th>year_date</th>\n",
       "      <th>weak_day</th>\n",
       "      <th>month</th>\n",
       "      <th>num_exp</th>\n",
       "    </tr>\n",
       "  </thead>\n",
       "  <tbody>\n",
       "    <tr>\n",
       "      <th>0</th>\n",
       "      <td>0</td>\n",
       "      <td>2019S000001</td>\n",
       "      <td>01/01/2019</td>\n",
       "      <td>3:45:00</td>\n",
       "      <td>11.0</td>\n",
       "      <td>Alcance</td>\n",
       "      <td>NaN</td>\n",
       "      <td>Furgoneta</td>\n",
       "      <td>Conductor</td>\n",
       "      <td>De 40 a 44 años</td>\n",
       "      <td>Hombre</td>\n",
       "      <td>439.139.603</td>\n",
       "      <td>4.470.836.854</td>\n",
       "      <td>S</td>\n",
       "      <td>2019</td>\n",
       "      <td>Tuesday</td>\n",
       "      <td>1</td>\n",
       "      <td>6</td>\n",
       "    </tr>\n",
       "    <tr>\n",
       "      <th>1</th>\n",
       "      <td>1</td>\n",
       "      <td>2019S000001</td>\n",
       "      <td>01/01/2019</td>\n",
       "      <td>3:45:00</td>\n",
       "      <td>11.0</td>\n",
       "      <td>Alcance</td>\n",
       "      <td>NaN</td>\n",
       "      <td>Turismo</td>\n",
       "      <td>Conductor</td>\n",
       "      <td>De 40 a 44 años</td>\n",
       "      <td>Mujer</td>\n",
       "      <td>439.139.603</td>\n",
       "      <td>4.470.836.854</td>\n",
       "      <td>N</td>\n",
       "      <td>2019</td>\n",
       "      <td>Tuesday</td>\n",
       "      <td>1</td>\n",
       "      <td>6</td>\n",
       "    </tr>\n",
       "    <tr>\n",
       "      <th>2</th>\n",
       "      <td>2</td>\n",
       "      <td>2019S000001</td>\n",
       "      <td>01/01/2019</td>\n",
       "      <td>3:45:00</td>\n",
       "      <td>11.0</td>\n",
       "      <td>Alcance</td>\n",
       "      <td>NaN</td>\n",
       "      <td>Turismo</td>\n",
       "      <td>Conductor</td>\n",
       "      <td>De 45 a 49 años</td>\n",
       "      <td>Mujer</td>\n",
       "      <td>439.139.603</td>\n",
       "      <td>4.470.836.854</td>\n",
       "      <td>N</td>\n",
       "      <td>2019</td>\n",
       "      <td>Tuesday</td>\n",
       "      <td>1</td>\n",
       "      <td>6</td>\n",
       "    </tr>\n",
       "    <tr>\n",
       "      <th>3</th>\n",
       "      <td>3</td>\n",
       "      <td>2019S000001</td>\n",
       "      <td>01/01/2019</td>\n",
       "      <td>3:45:00</td>\n",
       "      <td>11.0</td>\n",
       "      <td>Alcance</td>\n",
       "      <td>NaN</td>\n",
       "      <td>Turismo</td>\n",
       "      <td>Pasajero</td>\n",
       "      <td>De 45 a 49 años</td>\n",
       "      <td>Mujer</td>\n",
       "      <td>439.139.603</td>\n",
       "      <td>4.470.836.854</td>\n",
       "      <td>N</td>\n",
       "      <td>2019</td>\n",
       "      <td>Tuesday</td>\n",
       "      <td>1</td>\n",
       "      <td>6</td>\n",
       "    </tr>\n",
       "    <tr>\n",
       "      <th>4</th>\n",
       "      <td>4</td>\n",
       "      <td>2019S000001</td>\n",
       "      <td>01/01/2019</td>\n",
       "      <td>3:45:00</td>\n",
       "      <td>11.0</td>\n",
       "      <td>Alcance</td>\n",
       "      <td>NaN</td>\n",
       "      <td>Turismo</td>\n",
       "      <td>Pasajero</td>\n",
       "      <td>De 65 a 69 años</td>\n",
       "      <td>Mujer</td>\n",
       "      <td>439.139.603</td>\n",
       "      <td>4.470.836.854</td>\n",
       "      <td>N</td>\n",
       "      <td>2019</td>\n",
       "      <td>Tuesday</td>\n",
       "      <td>1</td>\n",
       "      <td>6</td>\n",
       "    </tr>\n",
       "  </tbody>\n",
       "</table>\n",
       "</div>"
      ],
      "text/plain": [
       "   Unnamed: 0 num_expediente       fecha     hora  cod_distrito  \\\n",
       "0           0    2019S000001  01/01/2019  3:45:00          11.0   \n",
       "1           1    2019S000001  01/01/2019  3:45:00          11.0   \n",
       "2           2    2019S000001  01/01/2019  3:45:00          11.0   \n",
       "3           3    2019S000001  01/01/2019  3:45:00          11.0   \n",
       "4           4    2019S000001  01/01/2019  3:45:00          11.0   \n",
       "\n",
       "  tipo_accidente estado_meteorologico tipo_vehiculo tipo_persona  \\\n",
       "0        Alcance                  NaN     Furgoneta    Conductor   \n",
       "1        Alcance                  NaN       Turismo    Conductor   \n",
       "2        Alcance                  NaN       Turismo    Conductor   \n",
       "3        Alcance                  NaN       Turismo     Pasajero   \n",
       "4        Alcance                  NaN       Turismo     Pasajero   \n",
       "\n",
       "        rango_edad    sexo coordenada_x_utm coordenada_y_utm positiva_alcohol  \\\n",
       "0  De 40 a 44 años  Hombre      439.139.603    4.470.836.854                S   \n",
       "1  De 40 a 44 años   Mujer      439.139.603    4.470.836.854                N   \n",
       "2  De 45 a 49 años   Mujer      439.139.603    4.470.836.854                N   \n",
       "3  De 45 a 49 años   Mujer      439.139.603    4.470.836.854                N   \n",
       "4  De 65 a 69 años   Mujer      439.139.603    4.470.836.854                N   \n",
       "\n",
       "   year_date weak_day  month  num_exp  \n",
       "0       2019  Tuesday      1        6  \n",
       "1       2019  Tuesday      1        6  \n",
       "2       2019  Tuesday      1        6  \n",
       "3       2019  Tuesday      1        6  \n",
       "4       2019  Tuesday      1        6  "
      ]
     },
     "execution_count": 9,
     "metadata": {},
     "output_type": "execute_result"
    }
   ],
   "source": [
    "acc_with_wea.head()"
   ]
  },
  {
   "cell_type": "code",
   "execution_count": 11,
   "id": "07ae8c59",
   "metadata": {},
   "outputs": [
    {
     "data": {
      "text/plain": [
       "Index(['Unnamed: 0', 'num_expediente', 'fecha', 'hora', 'cod_distrito',\n",
       "       'tipo_accidente', 'estado_meteorologico', 'tipo_vehiculo',\n",
       "       'tipo_persona', 'rango_edad', 'sexo', 'coordenada_x_utm',\n",
       "       'coordenada_y_utm', 'positiva_alcohol', 'year_date', 'weak_day',\n",
       "       'month', 'num_exp'],\n",
       "      dtype='object')"
      ]
     },
     "execution_count": 11,
     "metadata": {},
     "output_type": "execute_result"
    }
   ],
   "source": [
    "acc_with_wea.columns"
   ]
  },
  {
   "cell_type": "markdown",
   "id": "34d0a8ac",
   "metadata": {},
   "source": [
    "Vamos a realizar un poco de analisis descriptivo. Al haber un parte por cada persona implicada en el siniestro, habrá que decir la muestra por el numero de expediente."
   ]
  },
  {
   "cell_type": "markdown",
   "id": "a349dd61",
   "metadata": {},
   "source": [
    "# When?"
   ]
  },
  {
   "cell_type": "markdown",
   "id": "b342b70a",
   "metadata": {},
   "source": [
    "Para el analisis temporal podemos hacer uso de del dataset acc_wea, que es el mas completo, ya que no vamos a extrapolar ninguno de las features que nos incompletas o con discrepancias en el origen."
   ]
  },
  {
   "cell_type": "code",
   "execution_count": 13,
   "id": "9c91043a",
   "metadata": {},
   "outputs": [],
   "source": [
    "time_features = ['num_expediente', 'fecha', 'hora', 'cod_distrito','tipo_accidente', 'year_date', 'weak_day',\n",
    "                 'month', 'num_exp']"
   ]
  },
  {
   "cell_type": "code",
   "execution_count": 15,
   "id": "2cdfcc48",
   "metadata": {},
   "outputs": [],
   "source": [
    "time_df = acc_with_wea[time_features]"
   ]
  },
  {
   "cell_type": "code",
   "execution_count": 19,
   "id": "ba4905be",
   "metadata": {},
   "outputs": [
    {
     "data": {
      "text/plain": [
       "(125297, 9)"
      ]
     },
     "execution_count": 19,
     "metadata": {},
     "output_type": "execute_result"
    }
   ],
   "source": [
    "time_df.shape"
   ]
  },
  {
   "cell_type": "code",
   "execution_count": 16,
   "id": "6cb6ddc2",
   "metadata": {},
   "outputs": [
    {
     "data": {
      "text/plain": [
       "0         False\n",
       "1          True\n",
       "2          True\n",
       "3          True\n",
       "4          True\n",
       "          ...  \n",
       "125292    False\n",
       "125293    False\n",
       "125294     True\n",
       "125295    False\n",
       "125296     True\n",
       "Name: num_expediente, Length: 125297, dtype: bool"
      ]
     },
     "execution_count": 16,
     "metadata": {},
     "output_type": "execute_result"
    }
   ],
   "source": [
    "time_df.num_expediente.duplicated()"
   ]
  },
  {
   "cell_type": "code",
   "execution_count": 21,
   "id": "e8bba83d",
   "metadata": {},
   "outputs": [
    {
     "data": {
      "text/plain": [
       "(53974, 9)"
      ]
     },
     "execution_count": 21,
     "metadata": {},
     "output_type": "execute_result"
    }
   ],
   "source": [
    "time_simple=time_df.drop_duplicates()\n",
    "time_simple.shape"
   ]
  },
  {
   "cell_type": "code",
   "execution_count": 22,
   "id": "5d2b89cc",
   "metadata": {},
   "outputs": [
    {
     "data": {
      "text/plain": [
       "53974"
      ]
     },
     "execution_count": 22,
     "metadata": {},
     "output_type": "execute_result"
    }
   ],
   "source": [
    "time_simple['num_expediente'].count()"
   ]
  },
  {
   "cell_type": "code",
   "execution_count": null,
   "id": "9bcffb57",
   "metadata": {},
   "outputs": [],
   "source": []
  },
  {
   "cell_type": "code",
   "execution_count": null,
   "id": "0bbc16f7",
   "metadata": {},
   "outputs": [],
   "source": []
  },
  {
   "cell_type": "code",
   "execution_count": null,
   "id": "883143d3",
   "metadata": {},
   "outputs": [],
   "source": []
  }
 ],
 "metadata": {
  "kernelspec": {
   "display_name": "Python 3 (ipykernel)",
   "language": "python",
   "name": "python3"
  },
  "language_info": {
   "codemirror_mode": {
    "name": "ipython",
    "version": 3
   },
   "file_extension": ".py",
   "mimetype": "text/x-python",
   "name": "python",
   "nbconvert_exporter": "python",
   "pygments_lexer": "ipython3",
   "version": "3.8.2"
  }
 },
 "nbformat": 4,
 "nbformat_minor": 5
}
