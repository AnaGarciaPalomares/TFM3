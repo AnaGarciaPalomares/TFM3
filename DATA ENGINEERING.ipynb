{
 "cells": [
  {
   "cell_type": "markdown",
   "id": "d5edf3ca",
   "metadata": {},
   "source": [
    "# DATA ENGINEERING"
   ]
  },
  {
   "cell_type": "code",
   "execution_count": 2,
   "id": "bd552809",
   "metadata": {},
   "outputs": [],
   "source": [
    "import pandas as pd"
   ]
  },
  {
   "cell_type": "markdown",
   "id": "23247436",
   "metadata": {},
   "source": [
    "Lo primero q debemos hacer es pasar los datos a número, para poder analizarlos"
   ]
  },
  {
   "cell_type": "code",
   "execution_count": 3,
   "id": "8be4ab85",
   "metadata": {},
   "outputs": [],
   "source": [
    "path_data = '/home/dsc/Master DS/TFM/GIT/acc_veh.csv'\n",
    "acc_veh = pd.read_csv(path_data, sep = '^' )"
   ]
  },
  {
   "cell_type": "code",
   "execution_count": 4,
   "id": "8f1fd3c7",
   "metadata": {},
   "outputs": [
    {
     "data": {
      "text/html": [
       "<div>\n",
       "<style scoped>\n",
       "    .dataframe tbody tr th:only-of-type {\n",
       "        vertical-align: middle;\n",
       "    }\n",
       "\n",
       "    .dataframe tbody tr th {\n",
       "        vertical-align: top;\n",
       "    }\n",
       "\n",
       "    .dataframe thead th {\n",
       "        text-align: right;\n",
       "    }\n",
       "</style>\n",
       "<table border=\"1\" class=\"dataframe\">\n",
       "  <thead>\n",
       "    <tr style=\"text-align: right;\">\n",
       "      <th></th>\n",
       "      <th>Unnamed: 0</th>\n",
       "      <th>num_expediente</th>\n",
       "      <th>fecha</th>\n",
       "      <th>hora</th>\n",
       "      <th>cod_distrito</th>\n",
       "      <th>tipo_accidente</th>\n",
       "      <th>estado_meteorologico</th>\n",
       "      <th>tipo_vehiculo</th>\n",
       "      <th>tipo_persona</th>\n",
       "      <th>rango_edad</th>\n",
       "      <th>sexo</th>\n",
       "      <th>coordenada_x_utm</th>\n",
       "      <th>coordenada_y_utm</th>\n",
       "      <th>positiva_alcohol</th>\n",
       "      <th>year_date</th>\n",
       "      <th>weak_day</th>\n",
       "      <th>month</th>\n",
       "      <th>num_exp</th>\n",
       "    </tr>\n",
       "  </thead>\n",
       "  <tbody>\n",
       "    <tr>\n",
       "      <th>0</th>\n",
       "      <td>0</td>\n",
       "      <td>2019S000001</td>\n",
       "      <td>01/01/2019</td>\n",
       "      <td>3:45:00</td>\n",
       "      <td>11.0</td>\n",
       "      <td>Alcance</td>\n",
       "      <td>Se desconoce</td>\n",
       "      <td>Furgoneta</td>\n",
       "      <td>Conductor</td>\n",
       "      <td>De 40 a 44 años</td>\n",
       "      <td>Hombre</td>\n",
       "      <td>439.139.603</td>\n",
       "      <td>4.470.836.854</td>\n",
       "      <td>S</td>\n",
       "      <td>2019</td>\n",
       "      <td>Tuesday</td>\n",
       "      <td>1</td>\n",
       "      <td>6</td>\n",
       "    </tr>\n",
       "    <tr>\n",
       "      <th>1</th>\n",
       "      <td>1</td>\n",
       "      <td>2019S000001</td>\n",
       "      <td>01/01/2019</td>\n",
       "      <td>3:45:00</td>\n",
       "      <td>11.0</td>\n",
       "      <td>Alcance</td>\n",
       "      <td>Se desconoce</td>\n",
       "      <td>Turismo</td>\n",
       "      <td>Conductor</td>\n",
       "      <td>De 40 a 44 años</td>\n",
       "      <td>Mujer</td>\n",
       "      <td>439.139.603</td>\n",
       "      <td>4.470.836.854</td>\n",
       "      <td>N</td>\n",
       "      <td>2019</td>\n",
       "      <td>Tuesday</td>\n",
       "      <td>1</td>\n",
       "      <td>6</td>\n",
       "    </tr>\n",
       "    <tr>\n",
       "      <th>2</th>\n",
       "      <td>2</td>\n",
       "      <td>2019S000001</td>\n",
       "      <td>01/01/2019</td>\n",
       "      <td>3:45:00</td>\n",
       "      <td>11.0</td>\n",
       "      <td>Alcance</td>\n",
       "      <td>Se desconoce</td>\n",
       "      <td>Turismo</td>\n",
       "      <td>Conductor</td>\n",
       "      <td>De 45 a 49 años</td>\n",
       "      <td>Mujer</td>\n",
       "      <td>439.139.603</td>\n",
       "      <td>4.470.836.854</td>\n",
       "      <td>N</td>\n",
       "      <td>2019</td>\n",
       "      <td>Tuesday</td>\n",
       "      <td>1</td>\n",
       "      <td>6</td>\n",
       "    </tr>\n",
       "    <tr>\n",
       "      <th>3</th>\n",
       "      <td>3</td>\n",
       "      <td>2019S000001</td>\n",
       "      <td>01/01/2019</td>\n",
       "      <td>3:45:00</td>\n",
       "      <td>11.0</td>\n",
       "      <td>Alcance</td>\n",
       "      <td>Se desconoce</td>\n",
       "      <td>Turismo</td>\n",
       "      <td>Pasajero</td>\n",
       "      <td>De 45 a 49 años</td>\n",
       "      <td>Mujer</td>\n",
       "      <td>439.139.603</td>\n",
       "      <td>4.470.836.854</td>\n",
       "      <td>N</td>\n",
       "      <td>2019</td>\n",
       "      <td>Tuesday</td>\n",
       "      <td>1</td>\n",
       "      <td>6</td>\n",
       "    </tr>\n",
       "    <tr>\n",
       "      <th>4</th>\n",
       "      <td>4</td>\n",
       "      <td>2019S000001</td>\n",
       "      <td>01/01/2019</td>\n",
       "      <td>3:45:00</td>\n",
       "      <td>11.0</td>\n",
       "      <td>Alcance</td>\n",
       "      <td>Se desconoce</td>\n",
       "      <td>Turismo</td>\n",
       "      <td>Pasajero</td>\n",
       "      <td>De 65 a 69 años</td>\n",
       "      <td>Mujer</td>\n",
       "      <td>439.139.603</td>\n",
       "      <td>4.470.836.854</td>\n",
       "      <td>N</td>\n",
       "      <td>2019</td>\n",
       "      <td>Tuesday</td>\n",
       "      <td>1</td>\n",
       "      <td>6</td>\n",
       "    </tr>\n",
       "  </tbody>\n",
       "</table>\n",
       "</div>"
      ],
      "text/plain": [
       "   Unnamed: 0 num_expediente       fecha     hora  cod_distrito  \\\n",
       "0           0    2019S000001  01/01/2019  3:45:00          11.0   \n",
       "1           1    2019S000001  01/01/2019  3:45:00          11.0   \n",
       "2           2    2019S000001  01/01/2019  3:45:00          11.0   \n",
       "3           3    2019S000001  01/01/2019  3:45:00          11.0   \n",
       "4           4    2019S000001  01/01/2019  3:45:00          11.0   \n",
       "\n",
       "  tipo_accidente estado_meteorologico tipo_vehiculo tipo_persona  \\\n",
       "0        Alcance         Se desconoce     Furgoneta    Conductor   \n",
       "1        Alcance         Se desconoce       Turismo    Conductor   \n",
       "2        Alcance         Se desconoce       Turismo    Conductor   \n",
       "3        Alcance         Se desconoce       Turismo     Pasajero   \n",
       "4        Alcance         Se desconoce       Turismo     Pasajero   \n",
       "\n",
       "        rango_edad    sexo coordenada_x_utm coordenada_y_utm positiva_alcohol  \\\n",
       "0  De 40 a 44 años  Hombre      439.139.603    4.470.836.854                S   \n",
       "1  De 40 a 44 años   Mujer      439.139.603    4.470.836.854                N   \n",
       "2  De 45 a 49 años   Mujer      439.139.603    4.470.836.854                N   \n",
       "3  De 45 a 49 años   Mujer      439.139.603    4.470.836.854                N   \n",
       "4  De 65 a 69 años   Mujer      439.139.603    4.470.836.854                N   \n",
       "\n",
       "   year_date weak_day  month  num_exp  \n",
       "0       2019  Tuesday      1        6  \n",
       "1       2019  Tuesday      1        6  \n",
       "2       2019  Tuesday      1        6  \n",
       "3       2019  Tuesday      1        6  \n",
       "4       2019  Tuesday      1        6  "
      ]
     },
     "execution_count": 4,
     "metadata": {},
     "output_type": "execute_result"
    }
   ],
   "source": [
    "acc_veh.head()"
   ]
  },
  {
   "cell_type": "code",
   "execution_count": 5,
   "id": "781a0612",
   "metadata": {},
   "outputs": [],
   "source": [
    "aa=acc_veh.drop(['Unnamed: 0'], axis=1);"
   ]
  },
  {
   "cell_type": "code",
   "execution_count": 6,
   "id": "59ef82df",
   "metadata": {},
   "outputs": [
    {
     "data": {
      "text/plain": [
       "Index(['num_expediente', 'fecha', 'hora', 'cod_distrito', 'tipo_accidente',\n",
       "       'estado_meteorologico', 'tipo_vehiculo', 'tipo_persona', 'rango_edad',\n",
       "       'sexo', 'coordenada_x_utm', 'coordenada_y_utm', 'positiva_alcohol',\n",
       "       'year_date', 'weak_day', 'month', 'num_exp'],\n",
       "      dtype='object')"
      ]
     },
     "execution_count": 6,
     "metadata": {},
     "output_type": "execute_result"
    }
   ],
   "source": [
    "aa.columns"
   ]
  },
  {
   "cell_type": "markdown",
   "id": "fdb6bcb2",
   "metadata": {},
   "source": [
    "Sabemos por la descripción del dataset, que para un mismo 'num_expediente' se escribe una linea por cada uno de los implicados en el accidente, es por ello por lo que hemos construido una feature de 'num_exp' (numero de implicados por expediente).\n",
    "\n",
    "Es por ello, que si queremos unicamente saber el número de accidentes que han ocurrido, vamos a generar un data frame que unicamente tenga en cuenta los valores únicos de 'num_expediente'.\n",
    "\n",
    "Este dataset se formará con las features donde las lineas con un mismo 'num_expediente' sean coincidentes:\n",
    "- num_expediente\n",
    "- coordenada_x_utm\n",
    "- coordenada_y_utm\n",
    "- fecha\n",
    "- year_date\n",
    "- weak_day\n",
    "- month\n",
    "- hora\n",
    "- franjas_horarias\n",
    "- cod_distrito\n",
    "- tipo_accidente\n",
    "- tipo_vehiculo\n",
    "- tipo_persona\n",
    "- rango_edad\n",
    "- sexo\n",
    "- estado_meteorologico\n",
    "- positiva_alcohol\n",
    "- num_exp\n"
   ]
  },
  {
   "cell_type": "markdown",
   "id": "70a5c3bd",
   "metadata": {},
   "source": [
    "Las variables que han de ser transformadas son:"
   ]
  },
  {
   "cell_type": "markdown",
   "id": "eace34cf",
   "metadata": {},
   "source": [
    "TABLA"
   ]
  },
  {
   "cell_type": "code",
   "execution_count": 8,
   "id": "2e4d1cc0",
   "metadata": {},
   "outputs": [
    {
     "data": {
      "text/plain": [
       "Conductor    101473\n",
       "Pasajero      19820\n",
       "Peatón         4256\n",
       "Name: tipo_persona, dtype: int64"
      ]
     },
     "execution_count": 8,
     "metadata": {},
     "output_type": "execute_result"
    }
   ],
   "source": [
    "aa.tipo_persona.value_counts()"
   ]
  },
  {
   "cell_type": "code",
   "execution_count": 9,
   "id": "cb1da139",
   "metadata": {},
   "outputs": [
    {
     "data": {
      "text/plain": [
       "Despejado         96059\n",
       "Se desconoce      14285\n",
       "Lluvia débil       7455\n",
       "Nublado            5917\n",
       "LLuvia intensa     1589\n",
       "Nevando             212\n",
       "Granizando           32\n",
       "Name: estado_meteorologico, dtype: int64"
      ]
     },
     "execution_count": 9,
     "metadata": {},
     "output_type": "execute_result"
    }
   ],
   "source": [
    "aa.estado_meteorologico.value_counts()"
   ]
  },
  {
   "cell_type": "code",
   "execution_count": 18,
   "id": "42028759",
   "metadata": {},
   "outputs": [
    {
     "data": {
      "text/plain": [
       "De 25 a 29 años    13544\n",
       "Desconocido        13514\n",
       "De 40 a 44 años    13425\n",
       "De 30 a 34 años    13113\n",
       "De 35 a 39 años    12949\n",
       "De 45 a 49 años    12046\n",
       "De 50 a 54 años    10208\n",
       "De 21 a 24 años     8615\n",
       "De 55 a 59 años     8080\n",
       "De 60 a 64 años     5085\n",
       "De 18 a 20 años     3901\n",
       "Más de 74 años      2656\n",
       "De 65 a 69 años     2463\n",
       "De 70 a 74 años     1737\n",
       "Menor de 5 años     1235\n",
       "De 10 a 14 años     1222\n",
       "De 15 a 17 años      950\n",
       "De 6 a 9 años        806\n",
       "Name: rango_edad, dtype: int64"
      ]
     },
     "execution_count": 18,
     "metadata": {},
     "output_type": "execute_result"
    }
   ],
   "source": [
    "aa.rango_edad.value_counts()"
   ]
  },
  {
   "cell_type": "markdown",
   "id": "8246ba57",
   "metadata": {},
   "source": [
    "Antes que nada los rangos de edad los vamos a reagrupar:\n",
    "\n",
    "Si queremos analizar los accidente desde un punto de vista de la siniestralidad, solo nos interesan los 'tipo_persona' == 'Conductor'\n",
    "\n",
    "Vamos a tener q meter la media para eliminar los desconocidos\n",
    "\n",
    "Menos 18\n",
    "\n",
    "+65 años"
   ]
  },
  {
   "cell_type": "code",
   "execution_count": 27,
   "id": "95739adb",
   "metadata": {},
   "outputs": [
    {
     "data": {
      "text/plain": [
       "Desconocido        13312\n",
       "De 40 a 44 años    11719\n",
       "De 35 a 39 años    10996\n",
       "De 30 a 34 años    10954\n",
       "De 25 a 29 años    10820\n",
       "De 45 a 49 años    10510\n",
       "De 50 a 54 años     8804\n",
       "De 55 a 59 años     6837\n",
       "De 21 a 24 años     6313\n",
       "De 60 a 64 años     4165\n",
       "De 18 a 20 años     2301\n",
       "De 65 a 69 años     1799\n",
       "Más de 74 años      1406\n",
       "De 70 a 74 años     1147\n",
       "De 15 a 17 años      252\n",
       "De 10 a 14 años      108\n",
       "De 6 a 9 años         20\n",
       "Menor de 5 años       10\n",
       "Name: rango_edad, dtype: int64"
      ]
     },
     "execution_count": 27,
     "metadata": {},
     "output_type": "execute_result"
    }
   ],
   "source": [
    "in_2008 = aa['tipo_persona'] == 'Conductor'\n",
    "planets_2008 = aa[in_2008]\n",
    "planets_2008.rango_edad.value_counts()"
   ]
  },
  {
   "cell_type": "code",
   "execution_count": 28,
   "id": "ff2482e1",
   "metadata": {},
   "outputs": [
    {
     "data": {
      "text/plain": [
       "De 25 a 29 años    2416\n",
       "De 21 a 24 años    2102\n",
       "De 30 a 34 años    1879\n",
       "De 35 a 39 años    1642\n",
       "De 18 a 20 años    1449\n",
       "De 40 a 44 años    1426\n",
       "De 45 a 49 años    1254\n",
       "De 50 a 54 años    1129\n",
       "Menor de 5 años    1034\n",
       "De 55 a 59 años     947\n",
       "De 10 a 14 años     936\n",
       "Más de 74 años      713\n",
       "De 60 a 64 años     670\n",
       "De 6 a 9 años       653\n",
       "De 15 a 17 años     574\n",
       "De 65 a 69 años     452\n",
       "De 70 a 74 años     377\n",
       "Desconocido         167\n",
       "Name: rango_edad, dtype: int64"
      ]
     },
     "execution_count": 28,
     "metadata": {},
     "output_type": "execute_result"
    }
   ],
   "source": [
    "in_2008 = aa['tipo_persona'] == 'Pasajero'\n",
    "planets_2008 = aa[in_2008]\n",
    "planets_2008.rango_edad.value_counts()"
   ]
  },
  {
   "cell_type": "code",
   "execution_count": 30,
   "id": "be5644fe",
   "metadata": {},
   "outputs": [
    {
     "data": {
      "text/plain": [
       "Más de 74 años     537\n",
       "De 35 a 39 años    311\n",
       "De 25 a 29 años    308\n",
       "De 55 a 59 años    296\n",
       "De 45 a 49 años    282\n",
       "De 40 a 44 años    280\n",
       "De 30 a 34 años    280\n",
       "De 50 a 54 años    275\n",
       "De 60 a 64 años    250\n",
       "De 70 a 74 años    213\n",
       "De 65 a 69 años    212\n",
       "De 21 a 24 años    200\n",
       "Menor de 5 años    191\n",
       "De 10 a 14 años    178\n",
       "De 18 a 20 años    151\n",
       "De 6 a 9 años      133\n",
       "De 15 a 17 años    124\n",
       "Desconocido         35\n",
       "Name: rango_edad, dtype: int64"
      ]
     },
     "execution_count": 30,
     "metadata": {},
     "output_type": "execute_result"
    }
   ],
   "source": [
    "in_2008 = aa['tipo_persona'] == 'Peatón'\n",
    "planets_2008 = aa[in_2008]\n",
    "planets_2008.rango_edad.value_counts()"
   ]
  },
  {
   "cell_type": "code",
   "execution_count": 11,
   "id": "44064556",
   "metadata": {},
   "outputs": [
    {
     "data": {
      "text/plain": [
       "Turismo                              87152\n",
       "Furgoneta                             8099\n",
       "Motocicleta hasta 125cc               7960\n",
       "Motocicleta > 125cc                   6578\n",
       "Autobús                               2997\n",
       "Camión rígido                         2937\n",
       "Bicicleta                             2373\n",
       "Ciclomotor                            1946\n",
       "Todo terreno                          1743\n",
       "VMU eléctrico                          827\n",
       "Tractocamión                           534\n",
       "Otros vehículos con motor              511\n",
       "Sin especificar                        436\n",
       "Maquinaria de obras                    296\n",
       "Bicicleta EPAC (pedaleo asistido)      287\n",
       "Vehículo articulado                    233\n",
       "Autobús articulado                     209\n",
       "Autobus EMT                            138\n",
       "Ciclo                                   74\n",
       "Cuadriciclo ligero                      71\n",
       "Patinete                                43\n",
       "Cuadriciclo no ligero                   37\n",
       "Autocaravana                            35\n",
       "Otros vehículos sin motor               11\n",
       "Semiremolque                             8\n",
       "Remolque                                 7\n",
       "Camión de bomberos                       7\n",
       "Name: tipo_vehiculo, dtype: int64"
      ]
     },
     "execution_count": 11,
     "metadata": {},
     "output_type": "execute_result"
    }
   ],
   "source": [
    "aa.tipo_vehiculo.value_counts()"
   ]
  },
  {
   "cell_type": "code",
   "execution_count": 12,
   "id": "3a12c834",
   "metadata": {},
   "outputs": [
    {
     "data": {
      "text/plain": [
       "Colisión fronto-lateral         31036\n",
       "Alcance                         29274\n",
       "Colisión lateral                17550\n",
       "Choque contra obstáculo fijo    16080\n",
       "Colisión múltiple                9108\n",
       "Atropello a persona              8265\n",
       "Caída                            7876\n",
       "Colisión frontal                 2997\n",
       "Otro                             2271\n",
       "Solo salida de la vía             446\n",
       "Vuelco                            423\n",
       "Atropello a animal                214\n",
       "Despeñamiento                       9\n",
       "Name: tipo_accidente, dtype: int64"
      ]
     },
     "execution_count": 12,
     "metadata": {},
     "output_type": "execute_result"
    }
   ],
   "source": [
    "aa.tipo_accidente.value_counts()"
   ]
  },
  {
   "cell_type": "markdown",
   "id": "eca2114d",
   "metadata": {},
   "source": [
    "## Feature engineering"
   ]
  },
  {
   "cell_type": "markdown",
   "id": "c265c44c",
   "metadata": {},
   "source": [
    "Para sustituir por 'mean' o 'median' aquellas celdas q tienen un valor Nan.\n",
    "\n",
    "Para columnas numericas"
   ]
  },
  {
   "cell_type": "code",
   "execution_count": null,
   "id": "1f81626b",
   "metadata": {},
   "outputs": [],
   "source": [
    "from sklearn.impute import SimpleImputer"
   ]
  },
  {
   "cell_type": "markdown",
   "id": "eecc5e52",
   "metadata": {},
   "source": [
    "Genera una columna adicional de codigo, de 1 a x, en el que hay un orden jerarquico\n",
    "\n",
    "Para variables categoricas\n",
    "\n",
    "(internet)"
   ]
  },
  {
   "cell_type": "code",
   "execution_count": null,
   "id": "4f18542a",
   "metadata": {},
   "outputs": [],
   "source": [
    "    from sklearn.preprocessing import OrdinalEncoder"
   ]
  },
  {
   "cell_type": "markdown",
   "id": "e05ef209",
   "metadata": {},
   "source": [
    "Para generar matrices dispersas\n",
    "\n",
    "Para los features son variables nominales de pocas categorias\n",
    "\n",
    "(internet)"
   ]
  },
  {
   "cell_type": "code",
   "execution_count": null,
   "id": "f3ba2a18",
   "metadata": {},
   "outputs": [],
   "source": [
    "from sklearn.preprocessing import OneHotEncoder"
   ]
  },
  {
   "cell_type": "code",
   "execution_count": null,
   "id": "8acd55b0",
   "metadata": {},
   "outputs": [],
   "source": [
    "#Otro método\n",
    "#pd.get_dummies(acc_veh, columns = [('sexo')]).head()\n",
    "# https://elmundodelosdatos.com/tecnicas-para-codificar-variables-categoricas-ordinal-one-hot/"
   ]
  },
  {
   "cell_type": "markdown",
   "id": "94c8afc3",
   "metadata": {},
   "source": [
    "NOTA: Si hay muchas categorias habrá que generar un cajón desastre, xq sino no se encuentra relación. Ver ejercicio"
   ]
  },
  {
   "cell_type": "markdown",
   "id": "ae95403b",
   "metadata": {},
   "source": [
    "### Target encoding o Bin counting \n",
    "https://maxhalford.github.io/blog/target-encoding/"
   ]
  },
  {
   "cell_type": "code",
   "execution_count": null,
   "id": "7397251c",
   "metadata": {},
   "outputs": [],
   "source": [
    "from category_encoders import TargetEncoder"
   ]
  },
  {
   "cell_type": "markdown",
   "id": "4d3e7da1",
   "metadata": {},
   "source": [
    "### Vector encoding"
   ]
  },
  {
   "cell_type": "code",
   "execution_count": null,
   "id": "12bd58ea",
   "metadata": {},
   "outputs": [],
   "source": []
  },
  {
   "cell_type": "code",
   "execution_count": null,
   "id": "afa44125",
   "metadata": {},
   "outputs": [],
   "source": []
  },
  {
   "cell_type": "code",
   "execution_count": null,
   "id": "e178afe5",
   "metadata": {},
   "outputs": [],
   "source": [
    "from sklearn.preprocessing import StandardScaler\n"
   ]
  },
  {
   "cell_type": "code",
   "execution_count": null,
   "id": "59c97a69",
   "metadata": {},
   "outputs": [],
   "source": [
    "# https://www.datacamp.com/community/tutorials/encoding-methodologies"
   ]
  },
  {
   "cell_type": "code",
   "execution_count": null,
   "id": "9ccd2bf0",
   "metadata": {},
   "outputs": [],
   "source": [
    "# Si en el modelado vamos a usar un pipeline, para q sea visible en diagrama\n",
    "\n",
    "# sklearn.set_config(display='diagram')"
   ]
  }
 ],
 "metadata": {
  "kernelspec": {
   "display_name": "Python 3 (ipykernel)",
   "language": "python",
   "name": "python3"
  },
  "language_info": {
   "codemirror_mode": {
    "name": "ipython",
    "version": 3
   },
   "file_extension": ".py",
   "mimetype": "text/x-python",
   "name": "python",
   "nbconvert_exporter": "python",
   "pygments_lexer": "ipython3",
   "version": "3.8.2"
  }
 },
 "nbformat": 4,
 "nbformat_minor": 5
}
