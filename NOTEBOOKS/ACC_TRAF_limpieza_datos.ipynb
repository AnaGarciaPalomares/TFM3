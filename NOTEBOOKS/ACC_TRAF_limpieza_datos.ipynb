{
 "cells": [
  {
   "cell_type": "markdown",
   "id": "7ca066f1",
   "metadata": {},
   "source": [
    "# ACCIDENTES DE TRÁFICO - LIMPIEZA DE DATOS"
   ]
  },
  {
   "cell_type": "code",
   "execution_count": 1,
   "id": "79ff8a73",
   "metadata": {},
   "outputs": [],
   "source": [
    "import pandas as pd\n",
    "import numpy as np\n",
    "from collections import Counter\n",
    "import datetime \n",
    "import calendar"
   ]
  },
  {
   "cell_type": "markdown",
   "id": "6e1a2fd7",
   "metadata": {},
   "source": [
    "##  HOMOGENEIDAD DE LOS DATASETS"
   ]
  },
  {
   "cell_type": "markdown",
   "id": "a0d75548",
   "metadata": {},
   "source": [
    "La fuente de la informacion registra los siniestros por año de ocurrencia, utilizando un dataset por año. Uno de los primeros pasos es comparar dichos datasets, comprobando las variables, su formato y categorias para cada variable. Una vez que la información entre los datasets sea homogenea, procederemos a unirlos y crear un unico dataset para el periodo de estudio."
   ]
  },
  {
   "cell_type": "code",
   "execution_count": 2,
   "id": "2e18d715",
   "metadata": {},
   "outputs": [],
   "source": [
    "path_acc_2019 = '/home/dsc/Master DS/TFM/GIT/DATOS_BRUTOS/2019_Accidentalidad.csv'\n",
    "path_acc_2020 = '/home/dsc/Master DS/TFM/GIT/DATOS_BRUTOS/2020_Accidentalidad.csv'\n",
    "path_acc_2021 = '/home/dsc/Master DS/TFM/GIT/DATOS_BRUTOS/2021_Accidentalidad.csv'"
   ]
  },
  {
   "cell_type": "code",
   "execution_count": 3,
   "id": "02d33b1f",
   "metadata": {},
   "outputs": [],
   "source": [
    "accidents_2019 = pd.read_csv(path_acc_2019, sep = ';' )\n",
    "accidents_2020 = pd.read_csv(path_acc_2020, sep = ';' )\n",
    "accidents_2021 = pd.read_csv(path_acc_2021, sep = ';' )"
   ]
  },
  {
   "cell_type": "markdown",
   "id": "683a3b48",
   "metadata": {},
   "source": [
    "**1. COLUMNAS** - Comprobar si las columnas (variables) coinciden entre los datasets:"
   ]
  },
  {
   "cell_type": "code",
   "execution_count": 4,
   "id": "70bac49c",
   "metadata": {},
   "outputs": [],
   "source": [
    "columns_acc_2019 = accidents_2019.columns.tolist()\n",
    "columns_acc_2020 = accidents_2020.columns.tolist()\n",
    "columns_acc_2021 = accidents_2021.columns.tolist()"
   ]
  },
  {
   "cell_type": "code",
   "execution_count": 5,
   "id": "64e2123b",
   "metadata": {},
   "outputs": [],
   "source": [
    "columns_acc = columns_acc_2019 + columns_acc_2020 + columns_acc_2021"
   ]
  },
  {
   "cell_type": "code",
   "execution_count": 6,
   "id": "2b2b7c11",
   "metadata": {},
   "outputs": [],
   "source": [
    "from collections import Counter"
   ]
  },
  {
   "cell_type": "code",
   "execution_count": 7,
   "id": "dcfd5d83",
   "metadata": {},
   "outputs": [],
   "source": [
    "def mycounter(series):\n",
    "    return Counter(list(series))"
   ]
  },
  {
   "cell_type": "code",
   "execution_count": 8,
   "id": "6f2307e3",
   "metadata": {},
   "outputs": [
    {
     "data": {
      "text/plain": [
       "Counter({'num_expediente': 3,\n",
       "         'fecha': 3,\n",
       "         'hora': 3,\n",
       "         'localizacion': 3,\n",
       "         'numero': 3,\n",
       "         'cod_distrito': 3,\n",
       "         'distrito': 3,\n",
       "         'tipo_accidente': 3,\n",
       "         'estado_meteorológico': 3,\n",
       "         'tipo_vehículo': 2,\n",
       "         'tipo_persona': 3,\n",
       "         'rango_edad': 3,\n",
       "         'sexo': 3,\n",
       "         'cod_lesividad': 3,\n",
       "         'tipo_lesividad': 2,\n",
       "         'coordenada_x_utm': 3,\n",
       "         'coordenada_y_utm': 3,\n",
       "         'positiva_alcohol': 3,\n",
       "         'positiva_droga': 3,\n",
       "         'tipo_vehiculo': 1,\n",
       "         'lesividad': 1})"
      ]
     },
     "execution_count": 8,
     "metadata": {},
     "output_type": "execute_result"
    }
   ],
   "source": [
    "columns_freq = mycounter(columns_acc)\n",
    "columns_freq"
   ]
  },
  {
   "cell_type": "code",
   "execution_count": 9,
   "id": "2d6e4730",
   "metadata": {},
   "outputs": [
    {
     "data": {
      "text/plain": [
       "['tipo_vehículo', 'tipo_lesividad', 'tipo_vehiculo', 'lesividad']"
      ]
     },
     "execution_count": 9,
     "metadata": {},
     "output_type": "execute_result"
    }
   ],
   "source": [
    "columns_not_equal = list({x: count for x, count in columns_freq.items() if count < 3})\n",
    "columns_not_equal"
   ]
  },
  {
   "cell_type": "code",
   "execution_count": 10,
   "id": "9a7949c6",
   "metadata": {},
   "outputs": [
    {
     "data": {
      "text/plain": [
       "['num_expediente',\n",
       " 'fecha',\n",
       " 'hora',\n",
       " 'localizacion',\n",
       " 'numero',\n",
       " 'cod_distrito',\n",
       " 'distrito',\n",
       " 'tipo_accidente',\n",
       " 'estado_meteorológico',\n",
       " 'tipo_persona',\n",
       " 'rango_edad',\n",
       " 'sexo',\n",
       " 'cod_lesividad',\n",
       " 'coordenada_x_utm',\n",
       " 'coordenada_y_utm',\n",
       " 'positiva_alcohol',\n",
       " 'positiva_droga']"
      ]
     },
     "execution_count": 10,
     "metadata": {},
     "output_type": "execute_result"
    }
   ],
   "source": [
    "columns_equal = list({x: count for x, count in columns_freq.items() if count == 3})\n",
    "columns_equal"
   ]
  },
  {
   "cell_type": "markdown",
   "id": "e2d53818",
   "metadata": {},
   "source": [
    "Cambiamos las siguientes columnas: \n",
    "- aquellas donde los datasets utilizan diferentes nombres: 'tipo_lesividad' y 'tipo_vehiculo'\n",
    "- aquellas con acento, ya que pueden dar problema de procesamiento: 'estado_meteorológico'"
   ]
  },
  {
   "cell_type": "code",
   "execution_count": 11,
   "id": "e2a4fb42",
   "metadata": {},
   "outputs": [],
   "source": [
    "accidents_2019 = accidents_2019.rename(columns={'tipo_vehículo':'tipo_vehiculo',\n",
    "                                               'estado_meteorológico':'estado_meteorologico'})\n",
    "\n",
    "accidents_2020 = accidents_2020.rename(columns={'tipo_vehículo':'tipo_vehiculo',\n",
    "                                               'estado_meteorológico':'estado_meteorologico'})\n",
    "\n",
    "accidents_2021 = accidents_2021.rename(columns={'lesividad':'tipo_lesividad','tipo_vehículo':'tipo_vehiculo',\n",
    "                                               'estado_meteorológico':'estado_meteorologico'})\n"
   ]
  },
  {
   "cell_type": "markdown",
   "id": "939b3f02",
   "metadata": {},
   "source": [
    "**2. NANS Y NULLS / CATEGORIAS** - Comprobar la existencia de Nans y Nulls."
   ]
  },
  {
   "cell_type": "code",
   "execution_count": 12,
   "id": "6b905247",
   "metadata": {},
   "outputs": [],
   "source": [
    "columns_acc_2019 = accidents_2019.columns.str.strip()\n",
    "columns_acc_2020 = accidents_2020.columns.str.strip()\n",
    "columns_acc_2021 = accidents_2021.columns.str.strip()"
   ]
  },
  {
   "cell_type": "code",
   "execution_count": 13,
   "id": "80c76998",
   "metadata": {},
   "outputs": [],
   "source": [
    "accidents_2019_df = pd . DataFrame (accidents_2019 , columns = columns_acc_2019 )\n",
    "accidents_2020_df = pd . DataFrame (accidents_2020 , columns = columns_acc_2020 )\n",
    "accidents_2021_df = pd . DataFrame (accidents_2021 , columns = columns_acc_2021 )"
   ]
  },
  {
   "cell_type": "code",
   "execution_count": 14,
   "id": "d86392e6",
   "metadata": {},
   "outputs": [],
   "source": [
    "count_nan_2019_acc_df = accidents_2019_df[columns_acc_2019].isna().sum().reset_index()\n",
    "count_nan_2020_acc_df = accidents_2020_df[columns_acc_2020].isna().sum().reset_index()\n",
    "count_nan_2021_acc_df = accidents_2021_df[columns_acc_2021].isna().sum().reset_index()"
   ]
  },
  {
   "cell_type": "code",
   "execution_count": 15,
   "id": "48f98d83",
   "metadata": {},
   "outputs": [],
   "source": [
    "count_null_2019_acc_df = accidents_2019_df[columns_acc_2019].isnull().sum().reset_index()\n",
    "count_null_2020_acc_df = accidents_2020_df[columns_acc_2020].isnull().sum().reset_index()\n",
    "count_null_2021_acc_df = accidents_2021_df[columns_acc_2021].isnull().sum().reset_index()"
   ]
  },
  {
   "cell_type": "code",
   "execution_count": 16,
   "id": "3f007b52",
   "metadata": {},
   "outputs": [
    {
     "data": {
      "text/html": [
       "<div>\n",
       "<style scoped>\n",
       "    .dataframe tbody tr th:only-of-type {\n",
       "        vertical-align: middle;\n",
       "    }\n",
       "\n",
       "    .dataframe tbody tr th {\n",
       "        vertical-align: top;\n",
       "    }\n",
       "\n",
       "    .dataframe thead tr th {\n",
       "        text-align: left;\n",
       "    }\n",
       "</style>\n",
       "<table border=\"1\" class=\"dataframe\">\n",
       "  <thead>\n",
       "    <tr>\n",
       "      <th></th>\n",
       "      <th colspan=\"2\" halign=\"left\">Nan_2019</th>\n",
       "      <th colspan=\"2\" halign=\"left\">Null_2019</th>\n",
       "      <th colspan=\"2\" halign=\"left\">Nan_2020</th>\n",
       "      <th colspan=\"2\" halign=\"left\">Null_2020</th>\n",
       "      <th colspan=\"2\" halign=\"left\">Nan_2021</th>\n",
       "      <th colspan=\"2\" halign=\"left\">Null_2021</th>\n",
       "    </tr>\n",
       "    <tr>\n",
       "      <th></th>\n",
       "      <th>index</th>\n",
       "      <th>0</th>\n",
       "      <th>index</th>\n",
       "      <th>0</th>\n",
       "      <th>index</th>\n",
       "      <th>0</th>\n",
       "      <th>index</th>\n",
       "      <th>0</th>\n",
       "      <th>index</th>\n",
       "      <th>0</th>\n",
       "      <th>index</th>\n",
       "      <th>0</th>\n",
       "    </tr>\n",
       "  </thead>\n",
       "  <tbody>\n",
       "    <tr>\n",
       "      <th>0</th>\n",
       "      <td>num_expediente</td>\n",
       "      <td>0</td>\n",
       "      <td>num_expediente</td>\n",
       "      <td>0</td>\n",
       "      <td>num_expediente</td>\n",
       "      <td>0</td>\n",
       "      <td>num_expediente</td>\n",
       "      <td>0</td>\n",
       "      <td>num_expediente</td>\n",
       "      <td>0</td>\n",
       "      <td>num_expediente</td>\n",
       "      <td>0</td>\n",
       "    </tr>\n",
       "    <tr>\n",
       "      <th>1</th>\n",
       "      <td>fecha</td>\n",
       "      <td>0</td>\n",
       "      <td>fecha</td>\n",
       "      <td>0</td>\n",
       "      <td>fecha</td>\n",
       "      <td>0</td>\n",
       "      <td>fecha</td>\n",
       "      <td>0</td>\n",
       "      <td>fecha</td>\n",
       "      <td>0</td>\n",
       "      <td>fecha</td>\n",
       "      <td>0</td>\n",
       "    </tr>\n",
       "    <tr>\n",
       "      <th>2</th>\n",
       "      <td>hora</td>\n",
       "      <td>0</td>\n",
       "      <td>hora</td>\n",
       "      <td>0</td>\n",
       "      <td>hora</td>\n",
       "      <td>0</td>\n",
       "      <td>hora</td>\n",
       "      <td>0</td>\n",
       "      <td>hora</td>\n",
       "      <td>0</td>\n",
       "      <td>hora</td>\n",
       "      <td>0</td>\n",
       "    </tr>\n",
       "    <tr>\n",
       "      <th>3</th>\n",
       "      <td>localizacion</td>\n",
       "      <td>0</td>\n",
       "      <td>localizacion</td>\n",
       "      <td>0</td>\n",
       "      <td>localizacion</td>\n",
       "      <td>0</td>\n",
       "      <td>localizacion</td>\n",
       "      <td>0</td>\n",
       "      <td>localizacion</td>\n",
       "      <td>0</td>\n",
       "      <td>localizacion</td>\n",
       "      <td>0</td>\n",
       "    </tr>\n",
       "    <tr>\n",
       "      <th>4</th>\n",
       "      <td>numero</td>\n",
       "      <td>0</td>\n",
       "      <td>numero</td>\n",
       "      <td>0</td>\n",
       "      <td>numero</td>\n",
       "      <td>2</td>\n",
       "      <td>numero</td>\n",
       "      <td>2</td>\n",
       "      <td>numero</td>\n",
       "      <td>3</td>\n",
       "      <td>numero</td>\n",
       "      <td>3</td>\n",
       "    </tr>\n",
       "    <tr>\n",
       "      <th>5</th>\n",
       "      <td>cod_distrito</td>\n",
       "      <td>0</td>\n",
       "      <td>cod_distrito</td>\n",
       "      <td>0</td>\n",
       "      <td>cod_distrito</td>\n",
       "      <td>2</td>\n",
       "      <td>cod_distrito</td>\n",
       "      <td>2</td>\n",
       "      <td>cod_distrito</td>\n",
       "      <td>3</td>\n",
       "      <td>cod_distrito</td>\n",
       "      <td>3</td>\n",
       "    </tr>\n",
       "    <tr>\n",
       "      <th>6</th>\n",
       "      <td>distrito</td>\n",
       "      <td>0</td>\n",
       "      <td>distrito</td>\n",
       "      <td>0</td>\n",
       "      <td>distrito</td>\n",
       "      <td>2</td>\n",
       "      <td>distrito</td>\n",
       "      <td>2</td>\n",
       "      <td>distrito</td>\n",
       "      <td>3</td>\n",
       "      <td>distrito</td>\n",
       "      <td>3</td>\n",
       "    </tr>\n",
       "    <tr>\n",
       "      <th>7</th>\n",
       "      <td>tipo_accidente</td>\n",
       "      <td>0</td>\n",
       "      <td>tipo_accidente</td>\n",
       "      <td>0</td>\n",
       "      <td>tipo_accidente</td>\n",
       "      <td>0</td>\n",
       "      <td>tipo_accidente</td>\n",
       "      <td>0</td>\n",
       "      <td>tipo_accidente</td>\n",
       "      <td>4</td>\n",
       "      <td>tipo_accidente</td>\n",
       "      <td>4</td>\n",
       "    </tr>\n",
       "    <tr>\n",
       "      <th>8</th>\n",
       "      <td>estado_meteorologico</td>\n",
       "      <td>5130</td>\n",
       "      <td>estado_meteorologico</td>\n",
       "      <td>5130</td>\n",
       "      <td>estado_meteorologico</td>\n",
       "      <td>3196</td>\n",
       "      <td>estado_meteorologico</td>\n",
       "      <td>3196</td>\n",
       "      <td>estado_meteorologico</td>\n",
       "      <td>4428</td>\n",
       "      <td>estado_meteorologico</td>\n",
       "      <td>4428</td>\n",
       "    </tr>\n",
       "    <tr>\n",
       "      <th>9</th>\n",
       "      <td>tipo_vehiculo</td>\n",
       "      <td>176</td>\n",
       "      <td>tipo_vehiculo</td>\n",
       "      <td>176</td>\n",
       "      <td>tipo_vehiculo</td>\n",
       "      <td>137</td>\n",
       "      <td>tipo_vehiculo</td>\n",
       "      <td>137</td>\n",
       "      <td>tipo_vehiculo</td>\n",
       "      <td>54</td>\n",
       "      <td>tipo_vehiculo</td>\n",
       "      <td>54</td>\n",
       "    </tr>\n",
       "    <tr>\n",
       "      <th>10</th>\n",
       "      <td>tipo_persona</td>\n",
       "      <td>0</td>\n",
       "      <td>tipo_persona</td>\n",
       "      <td>0</td>\n",
       "      <td>tipo_persona</td>\n",
       "      <td>0</td>\n",
       "      <td>tipo_persona</td>\n",
       "      <td>0</td>\n",
       "      <td>tipo_persona</td>\n",
       "      <td>3</td>\n",
       "      <td>tipo_persona</td>\n",
       "      <td>3</td>\n",
       "    </tr>\n",
       "    <tr>\n",
       "      <th>11</th>\n",
       "      <td>rango_edad</td>\n",
       "      <td>0</td>\n",
       "      <td>rango_edad</td>\n",
       "      <td>0</td>\n",
       "      <td>rango_edad</td>\n",
       "      <td>0</td>\n",
       "      <td>rango_edad</td>\n",
       "      <td>0</td>\n",
       "      <td>rango_edad</td>\n",
       "      <td>0</td>\n",
       "      <td>rango_edad</td>\n",
       "      <td>0</td>\n",
       "    </tr>\n",
       "    <tr>\n",
       "      <th>12</th>\n",
       "      <td>sexo</td>\n",
       "      <td>0</td>\n",
       "      <td>sexo</td>\n",
       "      <td>0</td>\n",
       "      <td>sexo</td>\n",
       "      <td>0</td>\n",
       "      <td>sexo</td>\n",
       "      <td>0</td>\n",
       "      <td>sexo</td>\n",
       "      <td>0</td>\n",
       "      <td>sexo</td>\n",
       "      <td>0</td>\n",
       "    </tr>\n",
       "    <tr>\n",
       "      <th>13</th>\n",
       "      <td>cod_lesividad</td>\n",
       "      <td>21769</td>\n",
       "      <td>cod_lesividad</td>\n",
       "      <td>21769</td>\n",
       "      <td>cod_lesividad</td>\n",
       "      <td>14802</td>\n",
       "      <td>cod_lesividad</td>\n",
       "      <td>14802</td>\n",
       "      <td>cod_lesividad</td>\n",
       "      <td>18964</td>\n",
       "      <td>cod_lesividad</td>\n",
       "      <td>18964</td>\n",
       "    </tr>\n",
       "    <tr>\n",
       "      <th>14</th>\n",
       "      <td>tipo_lesividad</td>\n",
       "      <td>21769</td>\n",
       "      <td>tipo_lesividad</td>\n",
       "      <td>21769</td>\n",
       "      <td>tipo_lesividad</td>\n",
       "      <td>14802</td>\n",
       "      <td>tipo_lesividad</td>\n",
       "      <td>14802</td>\n",
       "      <td>tipo_lesividad</td>\n",
       "      <td>18964</td>\n",
       "      <td>tipo_lesividad</td>\n",
       "      <td>18964</td>\n",
       "    </tr>\n",
       "    <tr>\n",
       "      <th>15</th>\n",
       "      <td>coordenada_x_utm</td>\n",
       "      <td>0</td>\n",
       "      <td>coordenada_x_utm</td>\n",
       "      <td>0</td>\n",
       "      <td>coordenada_x_utm</td>\n",
       "      <td>2</td>\n",
       "      <td>coordenada_x_utm</td>\n",
       "      <td>2</td>\n",
       "      <td>coordenada_x_utm</td>\n",
       "      <td>9</td>\n",
       "      <td>coordenada_x_utm</td>\n",
       "      <td>9</td>\n",
       "    </tr>\n",
       "    <tr>\n",
       "      <th>16</th>\n",
       "      <td>coordenada_y_utm</td>\n",
       "      <td>0</td>\n",
       "      <td>coordenada_y_utm</td>\n",
       "      <td>0</td>\n",
       "      <td>coordenada_y_utm</td>\n",
       "      <td>2</td>\n",
       "      <td>coordenada_y_utm</td>\n",
       "      <td>2</td>\n",
       "      <td>coordenada_y_utm</td>\n",
       "      <td>9</td>\n",
       "      <td>coordenada_y_utm</td>\n",
       "      <td>9</td>\n",
       "    </tr>\n",
       "    <tr>\n",
       "      <th>17</th>\n",
       "      <td>positiva_alcohol</td>\n",
       "      <td>109</td>\n",
       "      <td>positiva_alcohol</td>\n",
       "      <td>109</td>\n",
       "      <td>positiva_alcohol</td>\n",
       "      <td>102</td>\n",
       "      <td>positiva_alcohol</td>\n",
       "      <td>102</td>\n",
       "      <td>positiva_alcohol</td>\n",
       "      <td>167</td>\n",
       "      <td>positiva_alcohol</td>\n",
       "      <td>167</td>\n",
       "    </tr>\n",
       "    <tr>\n",
       "      <th>18</th>\n",
       "      <td>positiva_droga</td>\n",
       "      <td>51649</td>\n",
       "      <td>positiva_droga</td>\n",
       "      <td>51649</td>\n",
       "      <td>positiva_droga</td>\n",
       "      <td>32351</td>\n",
       "      <td>positiva_droga</td>\n",
       "      <td>32351</td>\n",
       "      <td>positiva_droga</td>\n",
       "      <td>41694</td>\n",
       "      <td>positiva_droga</td>\n",
       "      <td>41694</td>\n",
       "    </tr>\n",
       "  </tbody>\n",
       "</table>\n",
       "</div>"
      ],
      "text/plain": [
       "                Nan_2019                    Null_2019         \\\n",
       "                   index      0                 index      0   \n",
       "0         num_expediente      0        num_expediente      0   \n",
       "1                  fecha      0                 fecha      0   \n",
       "2                   hora      0                  hora      0   \n",
       "3           localizacion      0          localizacion      0   \n",
       "4                 numero      0                numero      0   \n",
       "5           cod_distrito      0          cod_distrito      0   \n",
       "6               distrito      0              distrito      0   \n",
       "7         tipo_accidente      0        tipo_accidente      0   \n",
       "8   estado_meteorologico   5130  estado_meteorologico   5130   \n",
       "9          tipo_vehiculo    176         tipo_vehiculo    176   \n",
       "10          tipo_persona      0          tipo_persona      0   \n",
       "11            rango_edad      0            rango_edad      0   \n",
       "12                  sexo      0                  sexo      0   \n",
       "13         cod_lesividad  21769         cod_lesividad  21769   \n",
       "14        tipo_lesividad  21769        tipo_lesividad  21769   \n",
       "15      coordenada_x_utm      0      coordenada_x_utm      0   \n",
       "16      coordenada_y_utm      0      coordenada_y_utm      0   \n",
       "17      positiva_alcohol    109      positiva_alcohol    109   \n",
       "18        positiva_droga  51649        positiva_droga  51649   \n",
       "\n",
       "                Nan_2020                    Null_2020         \\\n",
       "                   index      0                 index      0   \n",
       "0         num_expediente      0        num_expediente      0   \n",
       "1                  fecha      0                 fecha      0   \n",
       "2                   hora      0                  hora      0   \n",
       "3           localizacion      0          localizacion      0   \n",
       "4                 numero      2                numero      2   \n",
       "5           cod_distrito      2          cod_distrito      2   \n",
       "6               distrito      2              distrito      2   \n",
       "7         tipo_accidente      0        tipo_accidente      0   \n",
       "8   estado_meteorologico   3196  estado_meteorologico   3196   \n",
       "9          tipo_vehiculo    137         tipo_vehiculo    137   \n",
       "10          tipo_persona      0          tipo_persona      0   \n",
       "11            rango_edad      0            rango_edad      0   \n",
       "12                  sexo      0                  sexo      0   \n",
       "13         cod_lesividad  14802         cod_lesividad  14802   \n",
       "14        tipo_lesividad  14802        tipo_lesividad  14802   \n",
       "15      coordenada_x_utm      2      coordenada_x_utm      2   \n",
       "16      coordenada_y_utm      2      coordenada_y_utm      2   \n",
       "17      positiva_alcohol    102      positiva_alcohol    102   \n",
       "18        positiva_droga  32351        positiva_droga  32351   \n",
       "\n",
       "                Nan_2021                    Null_2021         \n",
       "                   index      0                 index      0  \n",
       "0         num_expediente      0        num_expediente      0  \n",
       "1                  fecha      0                 fecha      0  \n",
       "2                   hora      0                  hora      0  \n",
       "3           localizacion      0          localizacion      0  \n",
       "4                 numero      3                numero      3  \n",
       "5           cod_distrito      3          cod_distrito      3  \n",
       "6               distrito      3              distrito      3  \n",
       "7         tipo_accidente      4        tipo_accidente      4  \n",
       "8   estado_meteorologico   4428  estado_meteorologico   4428  \n",
       "9          tipo_vehiculo     54         tipo_vehiculo     54  \n",
       "10          tipo_persona      3          tipo_persona      3  \n",
       "11            rango_edad      0            rango_edad      0  \n",
       "12                  sexo      0                  sexo      0  \n",
       "13         cod_lesividad  18964         cod_lesividad  18964  \n",
       "14        tipo_lesividad  18964        tipo_lesividad  18964  \n",
       "15      coordenada_x_utm      9      coordenada_x_utm      9  \n",
       "16      coordenada_y_utm      9      coordenada_y_utm      9  \n",
       "17      positiva_alcohol    167      positiva_alcohol    167  \n",
       "18        positiva_droga  41694        positiva_droga  41694  "
      ]
     },
     "execution_count": 16,
     "metadata": {},
     "output_type": "execute_result"
    }
   ],
   "source": [
    "count_nan_null_acc_df = pd.concat([count_nan_2019_acc_df,count_null_2019_acc_df,\n",
    "                              count_nan_2020_acc_df,count_null_2020_acc_df,\n",
    "                              count_nan_2021_acc_df, count_null_2021_acc_df],axis=1,\n",
    "                             keys=['Nan_2019','Null_2019','Nan_2020', 'Null_2020','Nan_2021', 'Null_2021']) \n",
    "count_nan_null_acc_df"
   ]
  },
  {
   "cell_type": "markdown",
   "id": "ff8e20b0",
   "metadata": {},
   "source": [
    "Del documento de descripción del dataset, sabemos que los Nans registrados en las siguientes variables corresponden a una categoria:\n",
    "- 'cod_lesividad' --- Sin asistencia sanitaria\n",
    "- 'tipo_lesividad' --- Sin asistencia sanitaria\n",
    "- 'positiva_droga' --- Negative\n",
    "\n",
    "Eliminaremos las siguientes variables, ya que nos ofrecen información no extrapolable:\n",
    "- 'localizacion'\n",
    "- 'numero'\n",
    "\n",
    "Aunque 'estado_meteorologico' tiene un alto numero de Nans, debido a que tiene una informacion relevante con un un alto impacto en nuestro análisis, la vamos a mantener."
   ]
  },
  {
   "cell_type": "markdown",
   "id": "ef942d16",
   "metadata": {},
   "source": [
    "Debido a la información redundante de las variables 'cod_distrito' a 'distrito', y 'cod_lesividad' a 'tipo_lesividad', las vamos a eliminar, pero antes vamos a crear dos datasets independientes de normalizacion, donde tendremos la relación cod_distrito-distrito y cod_lesividad-tipo_lesividad."
   ]
  },
  {
   "cell_type": "code",
   "execution_count": 17,
   "id": "89bd0392",
   "metadata": {},
   "outputs": [],
   "source": [
    "dist_cod = accidents_2019_df[['distrito','cod_distrito']].drop_duplicates()"
   ]
  },
  {
   "cell_type": "code",
   "execution_count": 18,
   "id": "cbfbabde",
   "metadata": {},
   "outputs": [],
   "source": [
    "lesiv_cod_type = accidents_2019_df[['cod_lesividad','tipo_lesividad']].drop_duplicates()"
   ]
  },
  {
   "cell_type": "code",
   "execution_count": 19,
   "id": "05353d62",
   "metadata": {},
   "outputs": [],
   "source": [
    "variables_to_drop = ['distrito','localizacion', 'numero', 'tipo_lesividad']"
   ]
  },
  {
   "cell_type": "code",
   "execution_count": 20,
   "id": "a76b2300",
   "metadata": {},
   "outputs": [],
   "source": [
    "accidents_2019_df_clean = accidents_2019_df.drop(variables_to_drop, axis=1)\n",
    "accidents_2020_df_clean = accidents_2020_df.drop(variables_to_drop, axis=1)\n",
    "accidents_2021_df_clean = accidents_2021_df.drop(variables_to_drop, axis=1)"
   ]
  },
  {
   "cell_type": "markdown",
   "id": "96fb8abe",
   "metadata": {},
   "source": [
    "Una vez que hemos eliminado las variables y antes eliminar los Nans restantes, vamos a analizar cada variable y sus categorias:"
   ]
  },
  {
   "cell_type": "code",
   "execution_count": 21,
   "id": "62635f81",
   "metadata": {},
   "outputs": [],
   "source": [
    "list_columns = ['cod_distrito','tipo_accidente','estado_meteorologico','tipo_persona','rango_edad',\n",
    "                'sexo','positiva_alcohol','tipo_vehiculo', 'cod_lesividad', 'positiva_droga']"
   ]
  },
  {
   "cell_type": "code",
   "execution_count": 22,
   "id": "e18b656a",
   "metadata": {},
   "outputs": [],
   "source": [
    "def check_feature(feature):\n",
    "    \n",
    "    '''Brings a dataframe that checks the features content: lists the categories of the feature, checks if the \n",
    "    datasets have the same categories, count each category per dataset and obtain the number of Nans''' \n",
    "        \n",
    "    print('')\n",
    "    print(feature)\n",
    "    \n",
    "    #First check if feature contains same categories\n",
    "    feature_type_2019 = accidents_2019_df[feature].unique().tolist()\n",
    "    feature_type_2020 = accidents_2020_df[feature].unique().tolist()\n",
    "    feature_type_2021 = accidents_2021_df[feature].unique().tolist()\n",
    "    \n",
    "    if(set(feature_type_2019) == set(feature_type_2020)):\n",
    "        if (set(feature_type_2019) == set(feature_type_2021)):\n",
    "            message ='Same categories'\n",
    "            print(message)\n",
    "        else:\n",
    "            message ='Different categories, lets see if it is because Nans'\n",
    "            print(message)\n",
    "    else:\n",
    "        message ='Different categories, lets see if it is because Nans'\n",
    "        print(message)\n",
    "    \n",
    "    if message == 'Different categories, lets see if it is because Nans':\n",
    "       \n",
    "        # When different categories: dataframe of all categories per year\n",
    "        fea_type_2019_df = pd.DataFrame(feature_type_2019, columns=['Type_2019'])\n",
    "        fea_type_2020_df = pd.DataFrame(feature_type_2020, columns=['Type_2020'])\n",
    "        fea_type_2021_df = pd.DataFrame(feature_type_2021, columns=['Type_2021'])\n",
    "        \n",
    "        type_fea_19_20 = pd.merge(left=fea_type_2019_df,right=fea_type_2020_df, left_on='Type_2019', \n",
    "                                  right_on='Type_2020', how='outer')\n",
    "        type_fea_19_20_21 = pd.merge(left=type_fea_19_20,right=fea_type_2021_df, left_on='Type_2020',\n",
    "                                     right_on='Type_2021', how='outer')\n",
    "                                \n",
    "        #Dropna and check if the unique lists are still different\n",
    "        accidents_clean_2019_df = accidents_2019_df.dropna(subset=[feature])\n",
    "        accidents_clean_2020_df = accidents_2020_df.dropna(subset=[feature])\n",
    "        accidents_clean_2021_df = accidents_2021_df.dropna(subset=[feature])\n",
    "        \n",
    "        fea_type_clean_2019 = accidents_clean_2019_df[feature].unique().tolist()\n",
    "        fea_type_clean_2020 = accidents_clean_2020_df[feature].unique().tolist()\n",
    "        fea_type_clean_2021 = accidents_clean_2021_df[feature].unique().tolist()\n",
    "        \n",
    "        #print(fea_type_clean_2021)\n",
    "    \n",
    "        if(set(fea_type_clean_2019) == set(fea_type_clean_2020)):\n",
    "            if (set(fea_type_clean_2019) == set(fea_type_clean_2021)):\n",
    "                message ='Different categories because of Nans'\n",
    "                print(message)\n",
    "            else:\n",
    "                message ='Different categories'\n",
    "                print(message)\n",
    "        else:\n",
    "            message = 'Different categories'\n",
    "            print(message)\n",
    "    else:\n",
    "        message ='Same categories'\n",
    "        \n",
    "    \n",
    "    if message == 'Same categories':\n",
    "        # Dataframe visualization of all categories\n",
    "        content_2019_df = accidents_2019_df.groupby(feature)['num_expediente'].count().reset_index()\n",
    "        content_2020_df = accidents_2020_df.groupby(feature)['num_expediente'].count().reset_index()\n",
    "        content_2021_df = accidents_2021_df.groupby(feature)['num_expediente'].count().reset_index()\n",
    "                \n",
    "        content_df= pd.concat([content_2019_df,content_2020_df,content_2021_df],axis=1,keys=['2019','2020','2021'])\n",
    "        \n",
    "        print('The feature has the following categories: ')\n",
    "        print(content_df)\n",
    "        \n",
    "        #Check size\n",
    "\n",
    "        n_nan_2019= accidents_2019_df[feature].isna().sum()\n",
    "        n_nan_2020= accidents_2020_df[feature].isna().sum()      \n",
    "        n_nan_2021 = accidents_2021_df[feature].isna().sum()\n",
    "        \n",
    "        size_2019 = accidents_2019_df.shape[0]\n",
    "        size_2020 = accidents_2020_df.shape[0]\n",
    "        size_2021 = accidents_2021_df.shape[0]\n",
    "        \n",
    "        sum_var_2019 = content_2019_df['num_expediente'].sum()      \n",
    "        sum_var_2020 = content_2020_df['num_expediente'].sum()       \n",
    "        sum_var_2021 = content_2021_df['num_expediente'].sum()\n",
    "              \n",
    "        check_2019 = size_2019 - sum_var_2019 - n_nan_2019\n",
    "        check_2020 = size_2020 - sum_var_2020 - n_nan_2020\n",
    "        check_2021 = size_2021 - sum_var_2021 - n_nan_2021\n",
    "        \n",
    "        if check_2019 == 0 & check_2020 == 0 & check_2021 == 0:\n",
    "            print('Number of Nans in 2019:')\n",
    "            print (n_nan_2019)\n",
    "            print('Number of Nans in 2020:')\n",
    "            print (n_nan_2020)\n",
    "            print('Number of Nans in 2021:')\n",
    "            print (n_nan_2021)           \n",
    "            print('The sum of type of features and Nans is OK to size')\n",
    "        else:\n",
    "            print('The sum is NOT OK, analyse more')\n",
    "       \n",
    "    if message == 'Different categories because of Nans': \n",
    "        # Dataframe visualization of all categories\n",
    "        content_2019_df = accidents_clean_2019_df.groupby(feature)['num_expediente'].count().reset_index()\n",
    "        content_2020_df = accidents_clean_2020_df.groupby(feature)['num_expediente'].count().reset_index()\n",
    "        content_2021_df = accidents_clean_2021_df.groupby(feature)['num_expediente'].count().reset_index()\n",
    "        \n",
    "        content_df= pd.concat([content_2019_df,content_2020_df,content_2021_df],axis=1,keys=['2019','2020','2021'])\n",
    "                \n",
    "        print('The feature has the following categories: ')\n",
    "        print(content_df)\n",
    "        \n",
    "        #check size\n",
    "        n_nan_2019= accidents_2019_df[feature].isna().sum()\n",
    "        n_nan_2020= accidents_2020_df[feature].isna().sum()      \n",
    "        n_nan_2021 = accidents_2021_df[feature].isna().sum()\n",
    "        \n",
    "        size_2019 = accidents_2019_df.shape[0]\n",
    "        size_2020 = accidents_2020_df.shape[0]\n",
    "        size_2021 = accidents_2021_df.shape[0]\n",
    "        \n",
    "        sum_var_2019 = content_2019_df['num_expediente'].sum()      \n",
    "        sum_var_2020 = content_2020_df['num_expediente'].sum()       \n",
    "        sum_var_2021 = content_2021_df['num_expediente'].sum()\n",
    "              \n",
    "        check_2019 = size_2019 - sum_var_2019 - n_nan_2019\n",
    "        check_2020 = size_2020 - sum_var_2020 - n_nan_2020\n",
    "        check_2021 = size_2021 - sum_var_2021 - n_nan_2021\n",
    "        \n",
    "        if check_2019 == 0 & check_2020 == 0 & check_2021 == 0:\n",
    "            print('Number of Nans in 2019:')\n",
    "            print (n_nan_2019)\n",
    "            print('Number of Nans in 2020:')\n",
    "            print (n_nan_2020)\n",
    "            print('Number of Nans in 2021:')\n",
    "            print (n_nan_2021)           \n",
    "            print('The sum of type of features and Nans is OK to size')\n",
    "        else:\n",
    "            print('The sum is NOT OK, analyse more')          \n",
    "        "
   ]
  },
  {
   "cell_type": "code",
   "execution_count": 23,
   "id": "a4625c00",
   "metadata": {},
   "outputs": [
    {
     "name": "stdout",
     "output_type": "stream",
     "text": [
      "\n",
      "cod_distrito\n",
      "Different categories, lets see if it is because Nans\n",
      "Different categories because of Nans\n",
      "The feature has the following categories: \n",
      "           2019                        2020                        2021  \\\n",
      "   cod_distrito num_expediente cod_distrito num_expediente cod_distrito   \n",
      "0             1           2737          1.0           1518          1.0   \n",
      "1             2           2300          2.0           1351          2.0   \n",
      "2             3           2687          3.0           1530          3.0   \n",
      "3             4           4073          4.0           2486          4.0   \n",
      "4             5           3889          5.0           2084          5.0   \n",
      "5             6           2383          6.0           1598          6.0   \n",
      "6             7           2674          7.0           1491          7.0   \n",
      "7             8           2473          8.0           1786          8.0   \n",
      "8             9           2683          9.0           1756          9.0   \n",
      "9            10           2525         10.0           1505         10.0   \n",
      "10           11           3408         11.0           2076         11.0   \n",
      "11           12           1750         12.0           1217         12.0   \n",
      "12           13           4061         13.0           2635         13.0   \n",
      "13           14           1477         14.0            961         14.0   \n",
      "14           15           3371         15.0           2127         15.0   \n",
      "15           16           2029         16.0           1508         16.0   \n",
      "16           17           1443         17.0            971         17.0   \n",
      "17           18           1310         18.0            976         18.0   \n",
      "18           19            660         19.0            532         19.0   \n",
      "19           20           2799         20.0           1778         20.0   \n",
      "20           21           1079         21.0            545         21.0   \n",
      "\n",
      "                   \n",
      "   num_expediente  \n",
      "0            2165  \n",
      "1            1987  \n",
      "2            2192  \n",
      "3            3072  \n",
      "4            2707  \n",
      "5            1734  \n",
      "6            2036  \n",
      "7            2141  \n",
      "8            2305  \n",
      "9            2041  \n",
      "10           2713  \n",
      "11           1821  \n",
      "12           3326  \n",
      "13           1221  \n",
      "14           2838  \n",
      "15           1557  \n",
      "16           1385  \n",
      "17           1055  \n",
      "18            764  \n",
      "19           2049  \n",
      "20            671  \n",
      "Number of Nans in 2019:\n",
      "0\n",
      "Number of Nans in 2020:\n",
      "2\n",
      "Number of Nans in 2021:\n",
      "3\n",
      "The sum of type of features and Nans is OK to size\n",
      "\n",
      "tipo_accidente\n",
      "Different categories, lets see if it is because Nans\n",
      "Different categories because of Nans\n",
      "The feature has the following categories: \n",
      "                            2019                                         2020  \\\n",
      "                  tipo_accidente num_expediente                tipo_accidente   \n",
      "0                        Alcance          12220                       Alcance   \n",
      "1             Atropello a animal             76            Atropello a animal   \n",
      "2            Atropello a persona           3576           Atropello a persona   \n",
      "3                          Caída           3006                         Caída   \n",
      "4   Choque contra obstáculo fijo           5920  Choque contra obstáculo fijo   \n",
      "5               Colisión frontal           1050              Colisión frontal   \n",
      "6        Colisión fronto-lateral          12905       Colisión fronto-lateral   \n",
      "7               Colisión lateral           7511              Colisión lateral   \n",
      "8              Colisión múltiple           3757             Colisión múltiple   \n",
      "9                  Despeñamiento              6                 Despeñamiento   \n",
      "10                          Otro           1486                          Otro   \n",
      "11         Solo salida de la vía            146         Solo salida de la vía   \n",
      "12                        Vuelco            152                        Vuelco   \n",
      "\n",
      "                                           2021                 \n",
      "   num_expediente                tipo_accidente num_expediente  \n",
      "0            7294                       Alcance           9878  \n",
      "1              75            Atropello a animal             65  \n",
      "2            2129           Atropello a persona           2595  \n",
      "3            2118                         Caída           2784  \n",
      "4            4667  Choque contra obstáculo fijo           5565  \n",
      "5             899              Colisión frontal           1058  \n",
      "6            8085       Colisión fronto-lateral          10144  \n",
      "7            4386              Colisión lateral           5727  \n",
      "8            2231             Colisión múltiple           3141  \n",
      "9               2                 Despeñamiento              3  \n",
      "10            251                          Otro            540  \n",
      "11            151         Solo salida de la vía            153  \n",
      "12            145                        Vuelco            126  \n",
      "Number of Nans in 2019:\n",
      "0\n",
      "Number of Nans in 2020:\n",
      "0\n",
      "Number of Nans in 2021:\n",
      "4\n",
      "The sum of type of features and Nans is OK to size\n",
      "\n",
      "estado_meteorologico\n",
      "Same categories\n",
      "The feature has the following categories: \n",
      "                  2019                                2020                 \\\n",
      "  estado_meteorologico num_expediente estado_meteorologico num_expediente   \n",
      "0            Despejado          39987            Despejado          24515   \n",
      "1           Granizando             14           Granizando             10   \n",
      "2       LLuvia intensa            653       LLuvia intensa            317   \n",
      "3         Lluvia débil           3468         Lluvia débil           1930   \n",
      "4              Nevando              2              Nevando              2   \n",
      "5              Nublado           1861              Nublado           1965   \n",
      "6         Se desconoce            696         Se desconoce            498   \n",
      "\n",
      "                  2021                 \n",
      "  estado_meteorologico num_expediente  \n",
      "0            Despejado          31896  \n",
      "1           Granizando              8  \n",
      "2       LLuvia intensa            622  \n",
      "3         Lluvia débil           2089  \n",
      "4              Nevando            208  \n",
      "5              Nublado           2122  \n",
      "6         Se desconoce            410  \n",
      "Number of Nans in 2019:\n",
      "5130\n",
      "Number of Nans in 2020:\n",
      "3196\n",
      "Number of Nans in 2021:\n",
      "4428\n",
      "The sum of type of features and Nans is OK to size\n",
      "\n",
      "tipo_persona\n",
      "Different categories, lets see if it is because Nans\n",
      "Different categories because of Nans\n",
      "The feature has the following categories: \n",
      "          2019                        2020                        2021  \\\n",
      "  tipo_persona num_expediente tipo_persona num_expediente tipo_persona   \n",
      "0    Conductor          41609    Conductor          26528    Conductor   \n",
      "1     Pasajero           8384     Pasajero           4800     Pasajero   \n",
      "2       Peatón           1818       Peatón           1105       Peatón   \n",
      "\n",
      "                  \n",
      "  num_expediente  \n",
      "0          33796  \n",
      "1           6649  \n",
      "2           1335  \n",
      "Number of Nans in 2019:\n",
      "0\n",
      "Number of Nans in 2020:\n",
      "0\n",
      "Number of Nans in 2021:\n",
      "3\n",
      "The sum of type of features and Nans is OK to size\n",
      "\n",
      "rango_edad\n",
      "Same categories\n",
      "The feature has the following categories: \n",
      "               2019                            2020                 \\\n",
      "         rango_edad num_expediente       rango_edad num_expediente   \n",
      "0   De 10 a 14 años            493  De 10 a 14 años            305   \n",
      "1   De 15 a 17 años            344  De 15 a 17 años            251   \n",
      "2   De 18 a 20 años           1536  De 18 a 20 años            978   \n",
      "3   De 21 a 24 años           3353  De 21 a 24 años           2230   \n",
      "4   De 25 a 29 años           5618  De 25 a 29 años           3444   \n",
      "5   De 30 a 34 años           5468  De 30 a 34 años           3364   \n",
      "6   De 35 a 39 años           5583  De 35 a 39 años           3336   \n",
      "7   De 40 a 44 años           5744  De 40 a 44 años           3406   \n",
      "8   De 45 a 49 años           4958  De 45 a 49 años           3094   \n",
      "9   De 50 a 54 años           4256  De 50 a 54 años           2545   \n",
      "10  De 55 a 59 años           3265  De 55 a 59 años           2080   \n",
      "11    De 6 a 9 años            374    De 6 a 9 años            174   \n",
      "12  De 60 a 64 años           2037  De 60 a 64 años           1274   \n",
      "13  De 65 a 69 años           1033  De 65 a 69 años            640   \n",
      "14  De 70 a 74 años            732  De 70 a 74 años            429   \n",
      "15      Desconocido           5294      Desconocido           3934   \n",
      "16  Menor de 5 años            524  Menor de 5 años            291   \n",
      "17   Más de 74 años           1199   Más de 74 años            658   \n",
      "\n",
      "               2021                 \n",
      "         rango_edad num_expediente  \n",
      "0   De 10 a 14 años            427  \n",
      "1   De 15 a 17 años            355  \n",
      "2   De 18 a 20 años           1391  \n",
      "3   De 21 a 24 años           3043  \n",
      "4   De 25 a 29 años           4489  \n",
      "5   De 30 a 34 años           4290  \n",
      "6   De 35 a 39 años           4038  \n",
      "7   De 40 a 44 años           4291  \n",
      "8   De 45 a 49 años           4004  \n",
      "9   De 50 a 54 años           3413  \n",
      "10  De 55 a 59 años           2741  \n",
      "11    De 6 a 9 años            258  \n",
      "12  De 60 a 64 años           1775  \n",
      "13  De 65 a 69 años            791  \n",
      "14  De 70 a 74 años            578  \n",
      "15      Desconocido           4677  \n",
      "16  Menor de 5 años            422  \n",
      "17   Más de 74 años            800  \n",
      "Number of Nans in 2019:\n",
      "0\n",
      "Number of Nans in 2020:\n",
      "0\n",
      "Number of Nans in 2021:\n",
      "0\n",
      "The sum of type of features and Nans is OK to size\n",
      "\n",
      "sexo\n",
      "Same categories\n",
      "The feature has the following categories: \n",
      "          2019                        2020                        2021  \\\n",
      "          sexo num_expediente         sexo num_expediente         sexo   \n",
      "0  Desconocido           5043  Desconocido           3806  Desconocido   \n",
      "1       Hombre          31470       Hombre          19632       Hombre   \n",
      "2        Mujer          15298        Mujer           8995        Mujer   \n",
      "\n",
      "                  \n",
      "  num_expediente  \n",
      "0           4558  \n",
      "1          25161  \n",
      "2          12064  \n",
      "Number of Nans in 2019:\n",
      "0\n",
      "Number of Nans in 2020:\n",
      "0\n",
      "Number of Nans in 2021:\n",
      "0\n",
      "The sum of type of features and Nans is OK to size\n",
      "\n",
      "positiva_alcohol\n",
      "Same categories\n",
      "The feature has the following categories: \n",
      "              2019                            2020                 \\\n",
      "  positiva_alcohol num_expediente positiva_alcohol num_expediente   \n",
      "0                N          50405                N          31344   \n",
      "1                S           1297                S            987   \n",
      "\n",
      "              2021                 \n",
      "  positiva_alcohol num_expediente  \n",
      "0                N          40336  \n",
      "1                S           1280  \n",
      "Number of Nans in 2019:\n",
      "109\n",
      "Number of Nans in 2020:\n",
      "102\n",
      "Number of Nans in 2021:\n",
      "167\n",
      "The sum of type of features and Nans is OK to size\n",
      "\n",
      "tipo_vehiculo\n",
      "Different categories, lets see if it is because Nans\n",
      "Different categories\n",
      "\n",
      "cod_lesividad\n",
      "Different categories, lets see if it is because Nans\n",
      "Different categories\n",
      "\n",
      "positiva_droga\n",
      "Different categories, lets see if it is because Nans\n",
      "Different categories because of Nans\n",
      "The feature has the following categories: \n",
      "            2019                          2020                          2021  \\\n",
      "  positiva_droga num_expediente positiva_droga num_expediente positiva_droga   \n",
      "0            1.0            162            1.0             82            1.0   \n",
      "\n",
      "                  \n",
      "  num_expediente  \n",
      "0             89  \n",
      "Number of Nans in 2019:\n",
      "51649\n",
      "Number of Nans in 2020:\n",
      "32351\n",
      "Number of Nans in 2021:\n",
      "41694\n",
      "The sum of type of features and Nans is OK to size\n"
     ]
    }
   ],
   "source": [
    "for i in list_columns:\n",
    "    check_feature(i)"
   ]
  },
  {
   "cell_type": "markdown",
   "id": "2e271fd0",
   "metadata": {},
   "source": [
    "Del proceso de limpieza y analisis de las variables tenemos las siguientes ideas:\n",
    "\n",
    "- Hay variables con una **categoria indefinida**:\n",
    "    - 'tipo_accidente' ---> 'Otros' \n",
    "    - 'estado_meteorologico' ---> 'Se desconoce'  \n",
    "    - 'rango_edad' ---> 'Desconocido' \n",
    "    - 'sexo' ---> 'Desconocido'     \n",
    "    \n",
    "    \n",
    "- **Nans** existencia y tratamiento:\n",
    "    - 'tipo_accidente' ---> los incluimos a la categoria 'Otros'\n",
    "    - 'estado_meteorologico'---> los incluimos a la categoria 'Se desconoce' \n",
    "    - positiva_droga ---> Los Nans son una categoria , los cambiamos por 0\n",
    "    - debido a la baja cantidad de Nans y que no hay una categoria indefinida, vamos a eliminar las lineas con Nans de las siguientes variables:\n",
    "        - 'cod_distrito' \n",
    "        - 'tipo_persona' \n",
    "        - 'positiva_alcohol'\n",
    "        - 'coordenada_x_utm'\n",
    "        - 'coordenada_y_utm'\n",
    "    \n",
    "    \n",
    "- **'tipo_vehiculo' y 'cod_lesividad'** tienen diferentes categorias en funcion del dataset , tendremos que hacer los datasets homogeneos. \n",
    "\n",
    "\n",
    "- Adicionalmente, comprobaremos que el año en el numero identificativo y el de la fecha:\n",
    "    \n",
    "    Según la descripción del dataset, el numero identificativo tiene la siguiente estructura:\n",
    "    - AAAASNNNNNN\n",
    "    - AAAA: año\n",
    "    - S: expediente con siniestro \n",
    "    - NNNNNN: numero correlativo al año\n",
    "    - Hay numeros duplicados , al haber una linea por persona involucrada en el siniestro"
   ]
  },
  {
   "cell_type": "code",
   "execution_count": 24,
   "id": "0163607b",
   "metadata": {
    "scrolled": false
   },
   "outputs": [
    {
     "data": {
      "text/html": [
       "<div>\n",
       "<style scoped>\n",
       "    .dataframe tbody tr th:only-of-type {\n",
       "        vertical-align: middle;\n",
       "    }\n",
       "\n",
       "    .dataframe tbody tr th {\n",
       "        vertical-align: top;\n",
       "    }\n",
       "\n",
       "    .dataframe thead th {\n",
       "        text-align: right;\n",
       "    }\n",
       "</style>\n",
       "<table border=\"1\" class=\"dataframe\">\n",
       "  <thead>\n",
       "    <tr style=\"text-align: right;\">\n",
       "      <th></th>\n",
       "      <th>year_equal_cond</th>\n",
       "      <th>num_expediente</th>\n",
       "    </tr>\n",
       "  </thead>\n",
       "  <tbody>\n",
       "    <tr>\n",
       "      <th>0</th>\n",
       "      <td>-1</td>\n",
       "      <td>2</td>\n",
       "    </tr>\n",
       "    <tr>\n",
       "      <th>1</th>\n",
       "      <td>0</td>\n",
       "      <td>51809</td>\n",
       "    </tr>\n",
       "  </tbody>\n",
       "</table>\n",
       "</div>"
      ],
      "text/plain": [
       "   year_equal_cond  num_expediente\n",
       "0               -1               2\n",
       "1                0           51809"
      ]
     },
     "execution_count": 24,
     "metadata": {},
     "output_type": "execute_result"
    }
   ],
   "source": [
    "accidents_2019_df_clean['ano_fecha'] = pd.DatetimeIndex(accidents_2019_df_clean['fecha']).year.astype(int)\n",
    "accidents_2019_df_clean['year_exp'] = accidents_2019_df_clean['num_expediente'].str[:4].astype(int)\n",
    "accidents_2019_df_clean['year_equal_cond'] = accidents_2019_df_clean['year_exp']-(accidents_2019_df_clean['ano_fecha'])\n",
    "accidents_2019_df_clean.groupby('year_equal_cond')['num_expediente'].count().reset_index()"
   ]
  },
  {
   "cell_type": "code",
   "execution_count": 25,
   "id": "6cdaecc8",
   "metadata": {},
   "outputs": [
    {
     "data": {
      "text/html": [
       "<div>\n",
       "<style scoped>\n",
       "    .dataframe tbody tr th:only-of-type {\n",
       "        vertical-align: middle;\n",
       "    }\n",
       "\n",
       "    .dataframe tbody tr th {\n",
       "        vertical-align: top;\n",
       "    }\n",
       "\n",
       "    .dataframe thead th {\n",
       "        text-align: right;\n",
       "    }\n",
       "</style>\n",
       "<table border=\"1\" class=\"dataframe\">\n",
       "  <thead>\n",
       "    <tr style=\"text-align: right;\">\n",
       "      <th></th>\n",
       "      <th>year_equal_cond</th>\n",
       "      <th>num_expediente</th>\n",
       "    </tr>\n",
       "  </thead>\n",
       "  <tbody>\n",
       "    <tr>\n",
       "      <th>0</th>\n",
       "      <td>-1</td>\n",
       "      <td>2</td>\n",
       "    </tr>\n",
       "    <tr>\n",
       "      <th>1</th>\n",
       "      <td>0</td>\n",
       "      <td>32431</td>\n",
       "    </tr>\n",
       "  </tbody>\n",
       "</table>\n",
       "</div>"
      ],
      "text/plain": [
       "   year_equal_cond  num_expediente\n",
       "0               -1               2\n",
       "1                0           32431"
      ]
     },
     "execution_count": 25,
     "metadata": {},
     "output_type": "execute_result"
    }
   ],
   "source": [
    "accidents_2020_df_clean['ano_fecha'] = pd.DatetimeIndex(accidents_2020_df_clean['fecha']).year.astype(int)\n",
    "accidents_2020_df_clean['year_exp'] = accidents_2020_df_clean['num_expediente'].str[:4].astype(int)\n",
    "accidents_2020_df_clean['year_equal_cond'] =accidents_2020_df_clean['year_exp']-(accidents_2020_df_clean['ano_fecha'])\n",
    "accidents_2020_df_clean.groupby('year_equal_cond')['num_expediente'].count().reset_index()"
   ]
  },
  {
   "cell_type": "code",
   "execution_count": 26,
   "id": "d7a9fcb5",
   "metadata": {},
   "outputs": [
    {
     "data": {
      "text/html": [
       "<div>\n",
       "<style scoped>\n",
       "    .dataframe tbody tr th:only-of-type {\n",
       "        vertical-align: middle;\n",
       "    }\n",
       "\n",
       "    .dataframe tbody tr th {\n",
       "        vertical-align: top;\n",
       "    }\n",
       "\n",
       "    .dataframe thead th {\n",
       "        text-align: right;\n",
       "    }\n",
       "</style>\n",
       "<table border=\"1\" class=\"dataframe\">\n",
       "  <thead>\n",
       "    <tr style=\"text-align: right;\">\n",
       "      <th></th>\n",
       "      <th>year_equal_cond</th>\n",
       "      <th>num_expediente</th>\n",
       "    </tr>\n",
       "  </thead>\n",
       "  <tbody>\n",
       "    <tr>\n",
       "      <th>0</th>\n",
       "      <td>-1</td>\n",
       "      <td>5</td>\n",
       "    </tr>\n",
       "    <tr>\n",
       "      <th>1</th>\n",
       "      <td>0</td>\n",
       "      <td>41778</td>\n",
       "    </tr>\n",
       "  </tbody>\n",
       "</table>\n",
       "</div>"
      ],
      "text/plain": [
       "   year_equal_cond  num_expediente\n",
       "0               -1               5\n",
       "1                0           41778"
      ]
     },
     "execution_count": 26,
     "metadata": {},
     "output_type": "execute_result"
    }
   ],
   "source": [
    "accidents_2021_df_clean['ano_fecha'] = pd.DatetimeIndex(accidents_2021_df_clean['fecha']).year.astype(int)\n",
    "accidents_2021_df_clean['year_exp'] = accidents_2021_df_clean['num_expediente'].str[:4].astype(int)\n",
    "accidents_2021_df_clean['year_equal_cond'] =accidents_2021_df_clean['year_exp']-(accidents_2021_df_clean['ano_fecha'])\n",
    "accidents_2021_df_clean.groupby('year_equal_cond')['num_expediente'].count().reset_index()"
   ]
  },
  {
   "cell_type": "code",
   "execution_count": 27,
   "id": "18f418a2",
   "metadata": {},
   "outputs": [
    {
     "data": {
      "text/plain": [
       "Int64Index([0, 1], dtype='int64')"
      ]
     },
     "execution_count": 27,
     "metadata": {},
     "output_type": "execute_result"
    }
   ],
   "source": [
    "indexNames19 = accidents_2019_df_clean[ accidents_2019_df_clean['year_equal_cond'] == -1 ].index\n",
    "indexNames19"
   ]
  },
  {
   "cell_type": "code",
   "execution_count": 28,
   "id": "9c26ffa8",
   "metadata": {},
   "outputs": [],
   "source": [
    "accidents_2019_df_clean.drop(indexNames19,inplace=True)"
   ]
  },
  {
   "cell_type": "code",
   "execution_count": 29,
   "id": "aade1d03",
   "metadata": {},
   "outputs": [],
   "source": [
    "accidents_2019_df_clean.drop(['year_equal_cond','year_exp'],axis=1,inplace=True)"
   ]
  },
  {
   "cell_type": "code",
   "execution_count": 30,
   "id": "bcbb365f",
   "metadata": {},
   "outputs": [],
   "source": [
    "indexNames20 = accidents_2020_df_clean[accidents_2020_df_clean['year_equal_cond']==-1].index\n",
    "accidents_2020_df_clean.drop(indexNames20,inplace=True)\n",
    "accidents_2020_df_clean.drop(['year_equal_cond','year_exp'],axis=1,inplace=True)"
   ]
  },
  {
   "cell_type": "code",
   "execution_count": 31,
   "id": "66f735ca",
   "metadata": {},
   "outputs": [],
   "source": [
    "indexNames21 = accidents_2021_df_clean[accidents_2021_df_clean['year_equal_cond']==-1].index\n",
    "accidents_2021_df_clean.drop(indexNames21,inplace=True)\n",
    "accidents_2021_df_clean.drop(['year_equal_cond','year_exp'],axis=1,inplace=True)"
   ]
  },
  {
   "cell_type": "code",
   "execution_count": 32,
   "id": "8f8780dc",
   "metadata": {},
   "outputs": [],
   "source": [
    "acc_2019 = accidents_2019_df_clean.dropna(subset=['cod_distrito', 'tipo_persona', 'positiva_alcohol',\n",
    "                                                  'coordenada_x_utm', 'coordenada_y_utm'])\n",
    "acc_2020 = accidents_2020_df_clean.dropna(subset=['cod_distrito', 'tipo_persona', 'positiva_alcohol',\n",
    "                                                  'coordenada_x_utm', 'coordenada_y_utm'])\n",
    "acc_2021 = accidents_2021_df_clean.dropna(subset=['cod_distrito', 'tipo_persona', 'positiva_alcohol',\n",
    "                                                  'coordenada_x_utm', 'coordenada_y_utm'])"
   ]
  },
  {
   "cell_type": "code",
   "execution_count": 33,
   "id": "0f337bd3",
   "metadata": {},
   "outputs": [],
   "source": [
    "acc_2019 = acc_2019.fillna({'tipo_accidente': 'Otro', 'estado_meteorologico': 'Se desconoce'})\n",
    "acc_2020 = acc_2020.fillna({'tipo_accidente': 'Otro', 'estado_meteorologico': 'Se desconoce'})\n",
    "acc_2021 = acc_2021.fillna({'tipo_accidente': 'Otro', 'estado_meteorologico': 'Se desconoce'})"
   ]
  },
  {
   "cell_type": "code",
   "execution_count": 34,
   "id": "44cad20b",
   "metadata": {},
   "outputs": [],
   "source": [
    "acc_2019 = acc_2019.fillna({'positiva_droga': 0})\n",
    "acc_2020 = acc_2020.fillna({'positiva_droga': 0})\n",
    "acc_2021 = acc_2021.fillna({'positiva_droga': 0})"
   ]
  },
  {
   "cell_type": "markdown",
   "id": "4a4a3dae",
   "metadata": {},
   "source": [
    "Vamos a comprobar si aún hay algún Nan..."
   ]
  },
  {
   "cell_type": "code",
   "execution_count": 35,
   "id": "6af01a25",
   "metadata": {},
   "outputs": [],
   "source": [
    "columns_acc = acc_2019.columns.str.strip()"
   ]
  },
  {
   "cell_type": "code",
   "execution_count": 36,
   "id": "1d0fc876",
   "metadata": {},
   "outputs": [],
   "source": [
    "count_nan_2019_check = acc_2019[columns_acc].isna().sum().reset_index()\n",
    "count_nan_2020_check = acc_2020[columns_acc].isna().sum().reset_index()\n",
    "count_nan_2021_check = acc_2021[columns_acc].isna().sum().reset_index()"
   ]
  },
  {
   "cell_type": "code",
   "execution_count": 37,
   "id": "6d304964",
   "metadata": {},
   "outputs": [
    {
     "data": {
      "text/html": [
       "<div>\n",
       "<style scoped>\n",
       "    .dataframe tbody tr th:only-of-type {\n",
       "        vertical-align: middle;\n",
       "    }\n",
       "\n",
       "    .dataframe tbody tr th {\n",
       "        vertical-align: top;\n",
       "    }\n",
       "\n",
       "    .dataframe thead tr th {\n",
       "        text-align: left;\n",
       "    }\n",
       "</style>\n",
       "<table border=\"1\" class=\"dataframe\">\n",
       "  <thead>\n",
       "    <tr>\n",
       "      <th></th>\n",
       "      <th colspan=\"2\" halign=\"left\">Nan_2019</th>\n",
       "      <th colspan=\"2\" halign=\"left\">Nan_2020</th>\n",
       "      <th colspan=\"2\" halign=\"left\">Nan_2021</th>\n",
       "    </tr>\n",
       "    <tr>\n",
       "      <th></th>\n",
       "      <th>index</th>\n",
       "      <th>0</th>\n",
       "      <th>index</th>\n",
       "      <th>0</th>\n",
       "      <th>index</th>\n",
       "      <th>0</th>\n",
       "    </tr>\n",
       "  </thead>\n",
       "  <tbody>\n",
       "    <tr>\n",
       "      <th>0</th>\n",
       "      <td>num_expediente</td>\n",
       "      <td>0</td>\n",
       "      <td>num_expediente</td>\n",
       "      <td>0</td>\n",
       "      <td>num_expediente</td>\n",
       "      <td>0</td>\n",
       "    </tr>\n",
       "    <tr>\n",
       "      <th>1</th>\n",
       "      <td>fecha</td>\n",
       "      <td>0</td>\n",
       "      <td>fecha</td>\n",
       "      <td>0</td>\n",
       "      <td>fecha</td>\n",
       "      <td>0</td>\n",
       "    </tr>\n",
       "    <tr>\n",
       "      <th>2</th>\n",
       "      <td>hora</td>\n",
       "      <td>0</td>\n",
       "      <td>hora</td>\n",
       "      <td>0</td>\n",
       "      <td>hora</td>\n",
       "      <td>0</td>\n",
       "    </tr>\n",
       "    <tr>\n",
       "      <th>3</th>\n",
       "      <td>cod_distrito</td>\n",
       "      <td>0</td>\n",
       "      <td>cod_distrito</td>\n",
       "      <td>0</td>\n",
       "      <td>cod_distrito</td>\n",
       "      <td>0</td>\n",
       "    </tr>\n",
       "    <tr>\n",
       "      <th>4</th>\n",
       "      <td>tipo_accidente</td>\n",
       "      <td>0</td>\n",
       "      <td>tipo_accidente</td>\n",
       "      <td>0</td>\n",
       "      <td>tipo_accidente</td>\n",
       "      <td>0</td>\n",
       "    </tr>\n",
       "    <tr>\n",
       "      <th>5</th>\n",
       "      <td>estado_meteorologico</td>\n",
       "      <td>0</td>\n",
       "      <td>estado_meteorologico</td>\n",
       "      <td>0</td>\n",
       "      <td>estado_meteorologico</td>\n",
       "      <td>0</td>\n",
       "    </tr>\n",
       "    <tr>\n",
       "      <th>6</th>\n",
       "      <td>tipo_vehiculo</td>\n",
       "      <td>155</td>\n",
       "      <td>tipo_vehiculo</td>\n",
       "      <td>120</td>\n",
       "      <td>tipo_vehiculo</td>\n",
       "      <td>46</td>\n",
       "    </tr>\n",
       "    <tr>\n",
       "      <th>7</th>\n",
       "      <td>tipo_persona</td>\n",
       "      <td>0</td>\n",
       "      <td>tipo_persona</td>\n",
       "      <td>0</td>\n",
       "      <td>tipo_persona</td>\n",
       "      <td>0</td>\n",
       "    </tr>\n",
       "    <tr>\n",
       "      <th>8</th>\n",
       "      <td>rango_edad</td>\n",
       "      <td>0</td>\n",
       "      <td>rango_edad</td>\n",
       "      <td>0</td>\n",
       "      <td>rango_edad</td>\n",
       "      <td>0</td>\n",
       "    </tr>\n",
       "    <tr>\n",
       "      <th>9</th>\n",
       "      <td>sexo</td>\n",
       "      <td>0</td>\n",
       "      <td>sexo</td>\n",
       "      <td>0</td>\n",
       "      <td>sexo</td>\n",
       "      <td>0</td>\n",
       "    </tr>\n",
       "    <tr>\n",
       "      <th>10</th>\n",
       "      <td>cod_lesividad</td>\n",
       "      <td>21660</td>\n",
       "      <td>cod_lesividad</td>\n",
       "      <td>14696</td>\n",
       "      <td>cod_lesividad</td>\n",
       "      <td>18785</td>\n",
       "    </tr>\n",
       "    <tr>\n",
       "      <th>11</th>\n",
       "      <td>coordenada_x_utm</td>\n",
       "      <td>0</td>\n",
       "      <td>coordenada_x_utm</td>\n",
       "      <td>0</td>\n",
       "      <td>coordenada_x_utm</td>\n",
       "      <td>0</td>\n",
       "    </tr>\n",
       "    <tr>\n",
       "      <th>12</th>\n",
       "      <td>coordenada_y_utm</td>\n",
       "      <td>0</td>\n",
       "      <td>coordenada_y_utm</td>\n",
       "      <td>0</td>\n",
       "      <td>coordenada_y_utm</td>\n",
       "      <td>0</td>\n",
       "    </tr>\n",
       "    <tr>\n",
       "      <th>13</th>\n",
       "      <td>positiva_alcohol</td>\n",
       "      <td>0</td>\n",
       "      <td>positiva_alcohol</td>\n",
       "      <td>0</td>\n",
       "      <td>positiva_alcohol</td>\n",
       "      <td>0</td>\n",
       "    </tr>\n",
       "    <tr>\n",
       "      <th>14</th>\n",
       "      <td>positiva_droga</td>\n",
       "      <td>0</td>\n",
       "      <td>positiva_droga</td>\n",
       "      <td>0</td>\n",
       "      <td>positiva_droga</td>\n",
       "      <td>0</td>\n",
       "    </tr>\n",
       "    <tr>\n",
       "      <th>15</th>\n",
       "      <td>ano_fecha</td>\n",
       "      <td>0</td>\n",
       "      <td>ano_fecha</td>\n",
       "      <td>0</td>\n",
       "      <td>ano_fecha</td>\n",
       "      <td>0</td>\n",
       "    </tr>\n",
       "  </tbody>\n",
       "</table>\n",
       "</div>"
      ],
      "text/plain": [
       "                Nan_2019                     Nan_2020         \\\n",
       "                   index      0                 index      0   \n",
       "0         num_expediente      0        num_expediente      0   \n",
       "1                  fecha      0                 fecha      0   \n",
       "2                   hora      0                  hora      0   \n",
       "3           cod_distrito      0          cod_distrito      0   \n",
       "4         tipo_accidente      0        tipo_accidente      0   \n",
       "5   estado_meteorologico      0  estado_meteorologico      0   \n",
       "6          tipo_vehiculo    155         tipo_vehiculo    120   \n",
       "7           tipo_persona      0          tipo_persona      0   \n",
       "8             rango_edad      0            rango_edad      0   \n",
       "9                   sexo      0                  sexo      0   \n",
       "10         cod_lesividad  21660         cod_lesividad  14696   \n",
       "11      coordenada_x_utm      0      coordenada_x_utm      0   \n",
       "12      coordenada_y_utm      0      coordenada_y_utm      0   \n",
       "13      positiva_alcohol      0      positiva_alcohol      0   \n",
       "14        positiva_droga      0        positiva_droga      0   \n",
       "15             ano_fecha      0             ano_fecha      0   \n",
       "\n",
       "                Nan_2021         \n",
       "                   index      0  \n",
       "0         num_expediente      0  \n",
       "1                  fecha      0  \n",
       "2                   hora      0  \n",
       "3           cod_distrito      0  \n",
       "4         tipo_accidente      0  \n",
       "5   estado_meteorologico      0  \n",
       "6          tipo_vehiculo     46  \n",
       "7           tipo_persona      0  \n",
       "8             rango_edad      0  \n",
       "9                   sexo      0  \n",
       "10         cod_lesividad  18785  \n",
       "11      coordenada_x_utm      0  \n",
       "12      coordenada_y_utm      0  \n",
       "13      positiva_alcohol      0  \n",
       "14        positiva_droga      0  \n",
       "15             ano_fecha      0  "
      ]
     },
     "execution_count": 37,
     "metadata": {},
     "output_type": "execute_result"
    }
   ],
   "source": [
    "count_nan_acc_check = pd.concat([count_nan_2019_check,count_nan_2020_check,count_nan_2021_check],axis=1,\n",
    "                             keys=['Nan_2019','Nan_2020','Nan_2021']) \n",
    "count_nan_acc_check"
   ]
  },
  {
   "cell_type": "markdown",
   "id": "6ae22247",
   "metadata": {},
   "source": [
    "Ahora solo tendremos Nans en las categorias 'tipo_vehiculo', 'cod_lesividad' y 'tipo_lesividad', pero antes de eliminarlas, vamos a analizar sus categorias."
   ]
  },
  {
   "cell_type": "code",
   "execution_count": 38,
   "id": "0a64707f",
   "metadata": {},
   "outputs": [],
   "source": [
    "veh_type_2019 = acc_2019['tipo_vehiculo'].unique().tolist()\n",
    "veh_type_2020 = acc_2020['tipo_vehiculo'].unique().tolist()\n",
    "veh_type_2021 = acc_2021['tipo_vehiculo'].unique().tolist()"
   ]
  },
  {
   "cell_type": "code",
   "execution_count": 39,
   "id": "c006ac42",
   "metadata": {},
   "outputs": [],
   "source": [
    "veh_type_2019_df = pd.DataFrame(veh_type_2019, columns=['Type_2019'])\n",
    "veh_type_2020_df = pd.DataFrame(veh_type_2020, columns=['Type_2020'])\n",
    "veh_type_2021_df = pd.DataFrame(veh_type_2021, columns=['Type_2021'])"
   ]
  },
  {
   "cell_type": "code",
   "execution_count": 40,
   "id": "bf96320d",
   "metadata": {},
   "outputs": [
    {
     "data": {
      "text/html": [
       "<div>\n",
       "<style scoped>\n",
       "    .dataframe tbody tr th:only-of-type {\n",
       "        vertical-align: middle;\n",
       "    }\n",
       "\n",
       "    .dataframe tbody tr th {\n",
       "        vertical-align: top;\n",
       "    }\n",
       "\n",
       "    .dataframe thead th {\n",
       "        text-align: right;\n",
       "    }\n",
       "</style>\n",
       "<table border=\"1\" class=\"dataframe\">\n",
       "  <thead>\n",
       "    <tr style=\"text-align: right;\">\n",
       "      <th></th>\n",
       "      <th>Type_2019</th>\n",
       "      <th>Type_2020</th>\n",
       "      <th>Type_2021</th>\n",
       "    </tr>\n",
       "  </thead>\n",
       "  <tbody>\n",
       "    <tr>\n",
       "      <th>0</th>\n",
       "      <td>Furgoneta</td>\n",
       "      <td>Furgoneta</td>\n",
       "      <td>Furgoneta</td>\n",
       "    </tr>\n",
       "    <tr>\n",
       "      <th>1</th>\n",
       "      <td>Turismo</td>\n",
       "      <td>Turismo</td>\n",
       "      <td>Turismo</td>\n",
       "    </tr>\n",
       "    <tr>\n",
       "      <th>2</th>\n",
       "      <td>Autobús</td>\n",
       "      <td>Autobús</td>\n",
       "      <td>Autobús</td>\n",
       "    </tr>\n",
       "    <tr>\n",
       "      <th>3</th>\n",
       "      <td>Ciclomotor</td>\n",
       "      <td>Ciclomotor</td>\n",
       "      <td>Ciclomotor</td>\n",
       "    </tr>\n",
       "    <tr>\n",
       "      <th>4</th>\n",
       "      <td>Motocicleta &gt; 125cc</td>\n",
       "      <td>Motocicleta &gt; 125cc</td>\n",
       "      <td>Motocicleta &gt; 125cc</td>\n",
       "    </tr>\n",
       "    <tr>\n",
       "      <th>5</th>\n",
       "      <td>Motocicleta hasta 125cc</td>\n",
       "      <td>Motocicleta hasta 125cc</td>\n",
       "      <td>Motocicleta hasta 125cc</td>\n",
       "    </tr>\n",
       "    <tr>\n",
       "      <th>6</th>\n",
       "      <td>Todo terreno</td>\n",
       "      <td>Todo terreno</td>\n",
       "      <td>Todo terreno</td>\n",
       "    </tr>\n",
       "    <tr>\n",
       "      <th>7</th>\n",
       "      <td>Bicicleta</td>\n",
       "      <td>Bicicleta</td>\n",
       "      <td>Bicicleta</td>\n",
       "    </tr>\n",
       "    <tr>\n",
       "      <th>8</th>\n",
       "      <td>Camión rígido</td>\n",
       "      <td>Camión rígido</td>\n",
       "      <td>Camión rígido</td>\n",
       "    </tr>\n",
       "    <tr>\n",
       "      <th>9</th>\n",
       "      <td>Maquinaria de obras</td>\n",
       "      <td>Maquinaria de obras</td>\n",
       "      <td>Maquinaria de obras</td>\n",
       "    </tr>\n",
       "    <tr>\n",
       "      <th>10</th>\n",
       "      <td>Tractocamión</td>\n",
       "      <td>Tractocamión</td>\n",
       "      <td>Tractocamión</td>\n",
       "    </tr>\n",
       "    <tr>\n",
       "      <th>11</th>\n",
       "      <td>NaN</td>\n",
       "      <td>NaN</td>\n",
       "      <td>NaN</td>\n",
       "    </tr>\n",
       "    <tr>\n",
       "      <th>12</th>\n",
       "      <td>Microbús &lt;= 17 plazas</td>\n",
       "      <td>NaN</td>\n",
       "      <td>NaN</td>\n",
       "    </tr>\n",
       "    <tr>\n",
       "      <th>13</th>\n",
       "      <td>Tranvía</td>\n",
       "      <td>NaN</td>\n",
       "      <td>NaN</td>\n",
       "    </tr>\n",
       "    <tr>\n",
       "      <th>14</th>\n",
       "      <td>Caravana</td>\n",
       "      <td>NaN</td>\n",
       "      <td>NaN</td>\n",
       "    </tr>\n",
       "    <tr>\n",
       "      <th>15</th>\n",
       "      <td>Cuadriciclo no ligero</td>\n",
       "      <td>Cuadriciclo no ligero</td>\n",
       "      <td>Cuadriciclo no ligero</td>\n",
       "    </tr>\n",
       "    <tr>\n",
       "      <th>16</th>\n",
       "      <td>Vehículo articulado</td>\n",
       "      <td>Vehículo articulado</td>\n",
       "      <td>Vehículo articulado</td>\n",
       "    </tr>\n",
       "    <tr>\n",
       "      <th>17</th>\n",
       "      <td>Autobús articulado</td>\n",
       "      <td>Autobús articulado</td>\n",
       "      <td>Autobús articulado</td>\n",
       "    </tr>\n",
       "    <tr>\n",
       "      <th>18</th>\n",
       "      <td>Otros vehículos con motor</td>\n",
       "      <td>Otros vehículos con motor</td>\n",
       "      <td>Otros vehículos con motor</td>\n",
       "    </tr>\n",
       "    <tr>\n",
       "      <th>19</th>\n",
       "      <td>Autocaravana</td>\n",
       "      <td>Autocaravana</td>\n",
       "      <td>Autocaravana</td>\n",
       "    </tr>\n",
       "    <tr>\n",
       "      <th>20</th>\n",
       "      <td>Patinete</td>\n",
       "      <td>Patinete</td>\n",
       "      <td>Patinete</td>\n",
       "    </tr>\n",
       "    <tr>\n",
       "      <th>21</th>\n",
       "      <td>Ciclo</td>\n",
       "      <td>Ciclo</td>\n",
       "      <td>Ciclo</td>\n",
       "    </tr>\n",
       "    <tr>\n",
       "      <th>22</th>\n",
       "      <td>Cuadriciclo ligero</td>\n",
       "      <td>Cuadriciclo ligero</td>\n",
       "      <td>Cuadriciclo ligero</td>\n",
       "    </tr>\n",
       "    <tr>\n",
       "      <th>23</th>\n",
       "      <td>VMU eléctrico</td>\n",
       "      <td>VMU eléctrico</td>\n",
       "      <td>VMU eléctrico</td>\n",
       "    </tr>\n",
       "    <tr>\n",
       "      <th>24</th>\n",
       "      <td>Semiremolque</td>\n",
       "      <td>Semiremolque</td>\n",
       "      <td>Semiremolque</td>\n",
       "    </tr>\n",
       "    <tr>\n",
       "      <th>25</th>\n",
       "      <td>Sin especificar</td>\n",
       "      <td>Sin especificar</td>\n",
       "      <td>Sin especificar</td>\n",
       "    </tr>\n",
       "    <tr>\n",
       "      <th>26</th>\n",
       "      <td>Autobus EMT</td>\n",
       "      <td>Autobus EMT</td>\n",
       "      <td>Autobus EMT</td>\n",
       "    </tr>\n",
       "    <tr>\n",
       "      <th>27</th>\n",
       "      <td>Remolque</td>\n",
       "      <td>Remolque</td>\n",
       "      <td>Remolque</td>\n",
       "    </tr>\n",
       "    <tr>\n",
       "      <th>28</th>\n",
       "      <td>Camión de bomberos</td>\n",
       "      <td>Camión de bomberos</td>\n",
       "      <td>Camión de bomberos</td>\n",
       "    </tr>\n",
       "    <tr>\n",
       "      <th>29</th>\n",
       "      <td>Otros vehículos sin motor</td>\n",
       "      <td>Otros vehículos sin motor</td>\n",
       "      <td>Otros vehículos sin motor</td>\n",
       "    </tr>\n",
       "    <tr>\n",
       "      <th>30</th>\n",
       "      <td>Bicicleta EPAC (pedaleo asistido)</td>\n",
       "      <td>Bicicleta EPAC (pedaleo asistido)</td>\n",
       "      <td>Bicicleta EPAC (pedaleo asistido)</td>\n",
       "    </tr>\n",
       "    <tr>\n",
       "      <th>31</th>\n",
       "      <td>NaN</td>\n",
       "      <td>Moto de tres ruedas &gt; 125cc</td>\n",
       "      <td>Moto de tres ruedas &gt; 125cc</td>\n",
       "    </tr>\n",
       "    <tr>\n",
       "      <th>32</th>\n",
       "      <td>NaN</td>\n",
       "      <td>Tren/metro</td>\n",
       "      <td>Tren/metro</td>\n",
       "    </tr>\n",
       "    <tr>\n",
       "      <th>33</th>\n",
       "      <td>NaN</td>\n",
       "      <td>Ambulancia SAMUR</td>\n",
       "      <td>Ambulancia SAMUR</td>\n",
       "    </tr>\n",
       "    <tr>\n",
       "      <th>34</th>\n",
       "      <td>NaN</td>\n",
       "      <td>Moto de tres ruedas hasta 125cc</td>\n",
       "      <td>Moto de tres ruedas hasta 125cc</td>\n",
       "    </tr>\n",
       "    <tr>\n",
       "      <th>35</th>\n",
       "      <td>NaN</td>\n",
       "      <td>Ciclomotor de dos ruedas L1e-B</td>\n",
       "      <td>Ciclomotor de dos ruedas L1e-B</td>\n",
       "    </tr>\n",
       "    <tr>\n",
       "      <th>36</th>\n",
       "      <td>NaN</td>\n",
       "      <td>Maquinaria agrícola</td>\n",
       "      <td>Maquinaria agrícola</td>\n",
       "    </tr>\n",
       "    <tr>\n",
       "      <th>37</th>\n",
       "      <td>NaN</td>\n",
       "      <td>Autobús articulado EMT</td>\n",
       "      <td>Autobús articulado EMT</td>\n",
       "    </tr>\n",
       "    <tr>\n",
       "      <th>38</th>\n",
       "      <td>NaN</td>\n",
       "      <td>Ciclomotor de tres ruedas</td>\n",
       "      <td>Ciclomotor de tres ruedas</td>\n",
       "    </tr>\n",
       "    <tr>\n",
       "      <th>39</th>\n",
       "      <td>NaN</td>\n",
       "      <td>NaN</td>\n",
       "      <td>Ciclo de motor L1e-A</td>\n",
       "    </tr>\n",
       "    <tr>\n",
       "      <th>40</th>\n",
       "      <td>NaN</td>\n",
       "      <td>NaN</td>\n",
       "      <td>Tranvía</td>\n",
       "    </tr>\n",
       "  </tbody>\n",
       "</table>\n",
       "</div>"
      ],
      "text/plain": [
       "                            Type_2019                          Type_2020  \\\n",
       "0                           Furgoneta                          Furgoneta   \n",
       "1                             Turismo                            Turismo   \n",
       "2                             Autobús                            Autobús   \n",
       "3                          Ciclomotor                         Ciclomotor   \n",
       "4                 Motocicleta > 125cc                Motocicleta > 125cc   \n",
       "5             Motocicleta hasta 125cc            Motocicleta hasta 125cc   \n",
       "6                        Todo terreno                       Todo terreno   \n",
       "7                           Bicicleta                          Bicicleta   \n",
       "8                       Camión rígido                      Camión rígido   \n",
       "9                 Maquinaria de obras                Maquinaria de obras   \n",
       "10                       Tractocamión                       Tractocamión   \n",
       "11                                NaN                                NaN   \n",
       "12              Microbús <= 17 plazas                                NaN   \n",
       "13                            Tranvía                                NaN   \n",
       "14                           Caravana                                NaN   \n",
       "15              Cuadriciclo no ligero              Cuadriciclo no ligero   \n",
       "16                Vehículo articulado                Vehículo articulado   \n",
       "17                 Autobús articulado                 Autobús articulado   \n",
       "18          Otros vehículos con motor          Otros vehículos con motor   \n",
       "19                       Autocaravana                       Autocaravana   \n",
       "20                           Patinete                           Patinete   \n",
       "21                              Ciclo                              Ciclo   \n",
       "22                 Cuadriciclo ligero                 Cuadriciclo ligero   \n",
       "23                      VMU eléctrico                      VMU eléctrico   \n",
       "24                       Semiremolque                       Semiremolque   \n",
       "25                    Sin especificar                    Sin especificar   \n",
       "26                        Autobus EMT                        Autobus EMT   \n",
       "27                           Remolque                           Remolque   \n",
       "28                 Camión de bomberos                 Camión de bomberos   \n",
       "29          Otros vehículos sin motor          Otros vehículos sin motor   \n",
       "30  Bicicleta EPAC (pedaleo asistido)  Bicicleta EPAC (pedaleo asistido)   \n",
       "31                                NaN        Moto de tres ruedas > 125cc   \n",
       "32                                NaN                         Tren/metro   \n",
       "33                                NaN                   Ambulancia SAMUR   \n",
       "34                                NaN    Moto de tres ruedas hasta 125cc   \n",
       "35                                NaN     Ciclomotor de dos ruedas L1e-B   \n",
       "36                                NaN                Maquinaria agrícola   \n",
       "37                                NaN             Autobús articulado EMT   \n",
       "38                                NaN          Ciclomotor de tres ruedas   \n",
       "39                                NaN                                NaN   \n",
       "40                                NaN                                NaN   \n",
       "\n",
       "                            Type_2021  \n",
       "0                           Furgoneta  \n",
       "1                             Turismo  \n",
       "2                             Autobús  \n",
       "3                          Ciclomotor  \n",
       "4                 Motocicleta > 125cc  \n",
       "5             Motocicleta hasta 125cc  \n",
       "6                        Todo terreno  \n",
       "7                           Bicicleta  \n",
       "8                       Camión rígido  \n",
       "9                 Maquinaria de obras  \n",
       "10                       Tractocamión  \n",
       "11                                NaN  \n",
       "12                                NaN  \n",
       "13                                NaN  \n",
       "14                                NaN  \n",
       "15              Cuadriciclo no ligero  \n",
       "16                Vehículo articulado  \n",
       "17                 Autobús articulado  \n",
       "18          Otros vehículos con motor  \n",
       "19                       Autocaravana  \n",
       "20                           Patinete  \n",
       "21                              Ciclo  \n",
       "22                 Cuadriciclo ligero  \n",
       "23                      VMU eléctrico  \n",
       "24                       Semiremolque  \n",
       "25                    Sin especificar  \n",
       "26                        Autobus EMT  \n",
       "27                           Remolque  \n",
       "28                 Camión de bomberos  \n",
       "29          Otros vehículos sin motor  \n",
       "30  Bicicleta EPAC (pedaleo asistido)  \n",
       "31        Moto de tres ruedas > 125cc  \n",
       "32                         Tren/metro  \n",
       "33                   Ambulancia SAMUR  \n",
       "34    Moto de tres ruedas hasta 125cc  \n",
       "35     Ciclomotor de dos ruedas L1e-B  \n",
       "36                Maquinaria agrícola  \n",
       "37             Autobús articulado EMT  \n",
       "38          Ciclomotor de tres ruedas  \n",
       "39               Ciclo de motor L1e-A  \n",
       "40                            Tranvía  "
      ]
     },
     "execution_count": 40,
     "metadata": {},
     "output_type": "execute_result"
    }
   ],
   "source": [
    "type_veh_19_20 = pd.merge(left=veh_type_2019_df,right=veh_type_2020_df, left_on='Type_2019', right_on='Type_2020',\n",
    "                         how='outer')\n",
    "type_veh_19_20_21 = pd.merge(left=type_veh_19_20,right=veh_type_2021_df, left_on='Type_2020', right_on='Type_2021',\n",
    "                            how='outer')\n",
    "type_veh_19_20_21"
   ]
  },
  {
   "cell_type": "markdown",
   "id": "045163b9",
   "metadata": {},
   "source": [
    "Como vemos , hay una categoria indefinida a la que asignaremos todos los Nans."
   ]
  },
  {
   "cell_type": "code",
   "execution_count": 41,
   "id": "2dc03a01",
   "metadata": {},
   "outputs": [],
   "source": [
    "acc_2019 = acc_2019.fillna({'tipo_vehiculo': 'Sin especificar'})\n",
    "acc_2020 = acc_2020.fillna({'tipo_vehiculo': 'Sin especificar'})\n",
    "acc_2021 = acc_2021.fillna({'tipo_vehiculo': 'Sin especificar'})"
   ]
  },
  {
   "cell_type": "markdown",
   "id": "71468aa4",
   "metadata": {},
   "source": [
    "Vemos que los tres datasets tienen ahora las mismas categorias, pero no todos tienen todas. Con la finalidad de crear un unico dataset, todos tienen que ser comparables y compartir las mismas categorias, por lo que para aquellas categorias que no esten incluidas en todos los datasets procederemos a eliminarlas, al entender que los accidentes acontecidos con dichos tipos de vehiculos no fueron recogidos en aquellos años donde no han sido incluidos."
   ]
  },
  {
   "cell_type": "code",
   "execution_count": 42,
   "id": "bfbd7aeb",
   "metadata": {},
   "outputs": [],
   "source": [
    "veh_type_2019 = acc_2019['tipo_vehiculo'].unique().tolist()\n",
    "veh_type_2020 = acc_2020['tipo_vehiculo'].unique().tolist()\n",
    "veh_type_2021 = acc_2021['tipo_vehiculo'].unique().tolist()"
   ]
  },
  {
   "cell_type": "code",
   "execution_count": 43,
   "id": "77c84cb9",
   "metadata": {},
   "outputs": [],
   "source": [
    "veh_type = veh_type_2019 + veh_type_2020 + veh_type_2021"
   ]
  },
  {
   "cell_type": "code",
   "execution_count": 44,
   "id": "4d3ff4dd",
   "metadata": {},
   "outputs": [],
   "source": [
    "def mycounter(series):\n",
    "    return Counter(list(series))"
   ]
  },
  {
   "cell_type": "code",
   "execution_count": 45,
   "id": "15d9e21a",
   "metadata": {},
   "outputs": [],
   "source": [
    "veh_type_freq = mycounter(veh_type)"
   ]
  },
  {
   "cell_type": "code",
   "execution_count": 46,
   "id": "3674ec23",
   "metadata": {},
   "outputs": [],
   "source": [
    "type_veh_del = list({x: count for x, count in veh_type_freq.items() if count < 3})"
   ]
  },
  {
   "cell_type": "code",
   "execution_count": 47,
   "id": "e2fecbe1",
   "metadata": {},
   "outputs": [],
   "source": [
    "type_veh_ok = list({x: count for x, count in veh_type_freq.items() if count == 3})"
   ]
  },
  {
   "cell_type": "code",
   "execution_count": 48,
   "id": "f6aa60e6",
   "metadata": {},
   "outputs": [],
   "source": [
    "vehicle = pd.DataFrame(type_veh_ok, columns = ['Type'])"
   ]
  },
  {
   "cell_type": "code",
   "execution_count": 49,
   "id": "62b7f0bd",
   "metadata": {},
   "outputs": [
    {
     "data": {
      "text/plain": [
       "['Microbús <= 17 plazas',\n",
       " 'Tranvía',\n",
       " 'Caravana',\n",
       " 'Moto de tres ruedas > 125cc',\n",
       " 'Tren/metro',\n",
       " 'Ambulancia SAMUR',\n",
       " 'Moto de tres ruedas hasta 125cc',\n",
       " 'Ciclomotor de dos ruedas L1e-B',\n",
       " 'Maquinaria agrícola',\n",
       " 'Autobús articulado EMT',\n",
       " 'Ciclomotor de tres ruedas',\n",
       " 'Ciclo de motor L1e-A']"
      ]
     },
     "execution_count": 49,
     "metadata": {},
     "output_type": "execute_result"
    }
   ],
   "source": [
    "type_veh_del"
   ]
  },
  {
   "cell_type": "code",
   "execution_count": 50,
   "id": "a99f7fbd",
   "metadata": {},
   "outputs": [],
   "source": [
    "veh_type_del_2019 = [x for x in veh_type_2019 if x in type_veh_del]\n",
    "veh_type_del_2020 = [x for x in veh_type_2020 if x in type_veh_del]\n",
    "veh_type_del_2021 = [x for x in veh_type_2021 if x in type_veh_del]"
   ]
  },
  {
   "cell_type": "code",
   "execution_count": 51,
   "id": "fc2fd560",
   "metadata": {},
   "outputs": [],
   "source": [
    "acc_veh_2019 = acc_2019.copy()\n",
    "acc_veh_2020 = acc_2020.copy()\n",
    "acc_veh_2021 = acc_2021.copy()"
   ]
  },
  {
   "cell_type": "code",
   "execution_count": 52,
   "id": "56736e1c",
   "metadata": {},
   "outputs": [],
   "source": [
    "acc_veh_2019['is_in_2019'] = acc_veh_2019['tipo_vehiculo'].isin(veh_type_del_2019)\n",
    "acc_veh_2020['is_in_2020'] = acc_veh_2020['tipo_vehiculo'].isin(veh_type_del_2020)\n",
    "acc_veh_2021['is_in_2021'] = acc_veh_2021['tipo_vehiculo'].isin(veh_type_del_2021)"
   ]
  },
  {
   "cell_type": "code",
   "execution_count": 53,
   "id": "8cbce23b",
   "metadata": {},
   "outputs": [],
   "source": [
    "index_is_in_19 = acc_veh_2019[acc_veh_2019['is_in_2019']==True].index\n",
    "acc_veh_2019.drop(index_is_in_19,inplace=True)\n",
    "acc_veh_2019.drop(['is_in_2019'],axis=1,inplace=True)"
   ]
  },
  {
   "cell_type": "code",
   "execution_count": 54,
   "id": "011b961a",
   "metadata": {},
   "outputs": [],
   "source": [
    "index_is_in_20 = acc_veh_2020[acc_veh_2020['is_in_2020']==True].index\n",
    "acc_veh_2020.drop(index_is_in_20,inplace=True)\n",
    "acc_veh_2020.drop(['is_in_2020'],axis=1,inplace=True)"
   ]
  },
  {
   "cell_type": "code",
   "execution_count": 55,
   "id": "863e8394",
   "metadata": {},
   "outputs": [],
   "source": [
    "index_is_in_21 = acc_veh_2021[acc_veh_2021['is_in_2021']==True].index\n",
    "acc_veh_2021.drop(index_is_in_21,inplace=True)\n",
    "acc_veh_2021.drop(['is_in_2021'],axis=1,inplace=True)"
   ]
  },
  {
   "cell_type": "markdown",
   "id": "fb3ffa93",
   "metadata": {},
   "source": [
    "Vamos a comprobar que todas las categorias son coincidentes..."
   ]
  },
  {
   "cell_type": "code",
   "execution_count": 56,
   "id": "0d07e6b2",
   "metadata": {},
   "outputs": [],
   "source": [
    "veh_type_2019 = acc_veh_2019['tipo_vehiculo'].unique().tolist()\n",
    "veh_type_2020 = acc_veh_2020['tipo_vehiculo'].unique().tolist()\n",
    "veh_type_2021 = acc_veh_2021['tipo_vehiculo'].unique().tolist()"
   ]
  },
  {
   "cell_type": "code",
   "execution_count": 57,
   "id": "83bf3fbc",
   "metadata": {},
   "outputs": [],
   "source": [
    "veh_type_2019_df = pd.DataFrame(veh_type_2019, columns=['Type_2019'])\n",
    "veh_type_2020_df = pd.DataFrame(veh_type_2020, columns=['Type_2020'])\n",
    "veh_type_2021_df = pd.DataFrame(veh_type_2021, columns=['Type_2021'])"
   ]
  },
  {
   "cell_type": "code",
   "execution_count": 58,
   "id": "021ed1ce",
   "metadata": {},
   "outputs": [
    {
     "data": {
      "text/html": [
       "<div>\n",
       "<style scoped>\n",
       "    .dataframe tbody tr th:only-of-type {\n",
       "        vertical-align: middle;\n",
       "    }\n",
       "\n",
       "    .dataframe tbody tr th {\n",
       "        vertical-align: top;\n",
       "    }\n",
       "\n",
       "    .dataframe thead th {\n",
       "        text-align: right;\n",
       "    }\n",
       "</style>\n",
       "<table border=\"1\" class=\"dataframe\">\n",
       "  <thead>\n",
       "    <tr style=\"text-align: right;\">\n",
       "      <th></th>\n",
       "      <th>Type_2019</th>\n",
       "      <th>Type_2020</th>\n",
       "      <th>Type_2021</th>\n",
       "      <th>Type</th>\n",
       "    </tr>\n",
       "  </thead>\n",
       "  <tbody>\n",
       "    <tr>\n",
       "      <th>0</th>\n",
       "      <td>Furgoneta</td>\n",
       "      <td>Furgoneta</td>\n",
       "      <td>Furgoneta</td>\n",
       "      <td>Furgoneta</td>\n",
       "    </tr>\n",
       "    <tr>\n",
       "      <th>1</th>\n",
       "      <td>Turismo</td>\n",
       "      <td>Turismo</td>\n",
       "      <td>Turismo</td>\n",
       "      <td>Turismo</td>\n",
       "    </tr>\n",
       "    <tr>\n",
       "      <th>2</th>\n",
       "      <td>Autobús</td>\n",
       "      <td>Autobús</td>\n",
       "      <td>Autobús</td>\n",
       "      <td>Autobús</td>\n",
       "    </tr>\n",
       "    <tr>\n",
       "      <th>3</th>\n",
       "      <td>Ciclomotor</td>\n",
       "      <td>Ciclomotor</td>\n",
       "      <td>Ciclomotor</td>\n",
       "      <td>Ciclomotor</td>\n",
       "    </tr>\n",
       "    <tr>\n",
       "      <th>4</th>\n",
       "      <td>Motocicleta &gt; 125cc</td>\n",
       "      <td>Motocicleta &gt; 125cc</td>\n",
       "      <td>Motocicleta &gt; 125cc</td>\n",
       "      <td>Motocicleta &gt; 125cc</td>\n",
       "    </tr>\n",
       "    <tr>\n",
       "      <th>5</th>\n",
       "      <td>Motocicleta hasta 125cc</td>\n",
       "      <td>Motocicleta hasta 125cc</td>\n",
       "      <td>Motocicleta hasta 125cc</td>\n",
       "      <td>Motocicleta hasta 125cc</td>\n",
       "    </tr>\n",
       "    <tr>\n",
       "      <th>6</th>\n",
       "      <td>Todo terreno</td>\n",
       "      <td>Todo terreno</td>\n",
       "      <td>Todo terreno</td>\n",
       "      <td>Todo terreno</td>\n",
       "    </tr>\n",
       "    <tr>\n",
       "      <th>7</th>\n",
       "      <td>Bicicleta</td>\n",
       "      <td>Bicicleta</td>\n",
       "      <td>Bicicleta</td>\n",
       "      <td>Bicicleta</td>\n",
       "    </tr>\n",
       "    <tr>\n",
       "      <th>8</th>\n",
       "      <td>Camión rígido</td>\n",
       "      <td>Camión rígido</td>\n",
       "      <td>Camión rígido</td>\n",
       "      <td>Camión rígido</td>\n",
       "    </tr>\n",
       "    <tr>\n",
       "      <th>9</th>\n",
       "      <td>Maquinaria de obras</td>\n",
       "      <td>Maquinaria de obras</td>\n",
       "      <td>Maquinaria de obras</td>\n",
       "      <td>Maquinaria de obras</td>\n",
       "    </tr>\n",
       "    <tr>\n",
       "      <th>10</th>\n",
       "      <td>Tractocamión</td>\n",
       "      <td>Tractocamión</td>\n",
       "      <td>Tractocamión</td>\n",
       "      <td>Tractocamión</td>\n",
       "    </tr>\n",
       "    <tr>\n",
       "      <th>11</th>\n",
       "      <td>Sin especificar</td>\n",
       "      <td>Sin especificar</td>\n",
       "      <td>Sin especificar</td>\n",
       "      <td>Sin especificar</td>\n",
       "    </tr>\n",
       "    <tr>\n",
       "      <th>12</th>\n",
       "      <td>Cuadriciclo no ligero</td>\n",
       "      <td>Cuadriciclo no ligero</td>\n",
       "      <td>Cuadriciclo no ligero</td>\n",
       "      <td>Cuadriciclo no ligero</td>\n",
       "    </tr>\n",
       "    <tr>\n",
       "      <th>13</th>\n",
       "      <td>Vehículo articulado</td>\n",
       "      <td>Vehículo articulado</td>\n",
       "      <td>Vehículo articulado</td>\n",
       "      <td>Vehículo articulado</td>\n",
       "    </tr>\n",
       "    <tr>\n",
       "      <th>14</th>\n",
       "      <td>Autobús articulado</td>\n",
       "      <td>Autobús articulado</td>\n",
       "      <td>Autobús articulado</td>\n",
       "      <td>Autobús articulado</td>\n",
       "    </tr>\n",
       "    <tr>\n",
       "      <th>15</th>\n",
       "      <td>Otros vehículos con motor</td>\n",
       "      <td>Otros vehículos con motor</td>\n",
       "      <td>Otros vehículos con motor</td>\n",
       "      <td>Otros vehículos con motor</td>\n",
       "    </tr>\n",
       "    <tr>\n",
       "      <th>16</th>\n",
       "      <td>Autocaravana</td>\n",
       "      <td>Autocaravana</td>\n",
       "      <td>Autocaravana</td>\n",
       "      <td>Autocaravana</td>\n",
       "    </tr>\n",
       "    <tr>\n",
       "      <th>17</th>\n",
       "      <td>Patinete</td>\n",
       "      <td>Patinete</td>\n",
       "      <td>Patinete</td>\n",
       "      <td>Patinete</td>\n",
       "    </tr>\n",
       "    <tr>\n",
       "      <th>18</th>\n",
       "      <td>Ciclo</td>\n",
       "      <td>Ciclo</td>\n",
       "      <td>Ciclo</td>\n",
       "      <td>Ciclo</td>\n",
       "    </tr>\n",
       "    <tr>\n",
       "      <th>19</th>\n",
       "      <td>Cuadriciclo ligero</td>\n",
       "      <td>Cuadriciclo ligero</td>\n",
       "      <td>Cuadriciclo ligero</td>\n",
       "      <td>Cuadriciclo ligero</td>\n",
       "    </tr>\n",
       "    <tr>\n",
       "      <th>20</th>\n",
       "      <td>VMU eléctrico</td>\n",
       "      <td>VMU eléctrico</td>\n",
       "      <td>VMU eléctrico</td>\n",
       "      <td>VMU eléctrico</td>\n",
       "    </tr>\n",
       "    <tr>\n",
       "      <th>21</th>\n",
       "      <td>Semiremolque</td>\n",
       "      <td>Semiremolque</td>\n",
       "      <td>Semiremolque</td>\n",
       "      <td>Semiremolque</td>\n",
       "    </tr>\n",
       "    <tr>\n",
       "      <th>22</th>\n",
       "      <td>Autobus EMT</td>\n",
       "      <td>Autobus EMT</td>\n",
       "      <td>Autobus EMT</td>\n",
       "      <td>Autobus EMT</td>\n",
       "    </tr>\n",
       "    <tr>\n",
       "      <th>23</th>\n",
       "      <td>Remolque</td>\n",
       "      <td>Remolque</td>\n",
       "      <td>Remolque</td>\n",
       "      <td>Remolque</td>\n",
       "    </tr>\n",
       "    <tr>\n",
       "      <th>24</th>\n",
       "      <td>Camión de bomberos</td>\n",
       "      <td>Camión de bomberos</td>\n",
       "      <td>Camión de bomberos</td>\n",
       "      <td>Camión de bomberos</td>\n",
       "    </tr>\n",
       "    <tr>\n",
       "      <th>25</th>\n",
       "      <td>Otros vehículos sin motor</td>\n",
       "      <td>Otros vehículos sin motor</td>\n",
       "      <td>Otros vehículos sin motor</td>\n",
       "      <td>Otros vehículos sin motor</td>\n",
       "    </tr>\n",
       "    <tr>\n",
       "      <th>26</th>\n",
       "      <td>Bicicleta EPAC (pedaleo asistido)</td>\n",
       "      <td>Bicicleta EPAC (pedaleo asistido)</td>\n",
       "      <td>Bicicleta EPAC (pedaleo asistido)</td>\n",
       "      <td>Bicicleta EPAC (pedaleo asistido)</td>\n",
       "    </tr>\n",
       "  </tbody>\n",
       "</table>\n",
       "</div>"
      ],
      "text/plain": [
       "                            Type_2019                          Type_2020  \\\n",
       "0                           Furgoneta                          Furgoneta   \n",
       "1                             Turismo                            Turismo   \n",
       "2                             Autobús                            Autobús   \n",
       "3                          Ciclomotor                         Ciclomotor   \n",
       "4                 Motocicleta > 125cc                Motocicleta > 125cc   \n",
       "5             Motocicleta hasta 125cc            Motocicleta hasta 125cc   \n",
       "6                        Todo terreno                       Todo terreno   \n",
       "7                           Bicicleta                          Bicicleta   \n",
       "8                       Camión rígido                      Camión rígido   \n",
       "9                 Maquinaria de obras                Maquinaria de obras   \n",
       "10                       Tractocamión                       Tractocamión   \n",
       "11                    Sin especificar                    Sin especificar   \n",
       "12              Cuadriciclo no ligero              Cuadriciclo no ligero   \n",
       "13                Vehículo articulado                Vehículo articulado   \n",
       "14                 Autobús articulado                 Autobús articulado   \n",
       "15          Otros vehículos con motor          Otros vehículos con motor   \n",
       "16                       Autocaravana                       Autocaravana   \n",
       "17                           Patinete                           Patinete   \n",
       "18                              Ciclo                              Ciclo   \n",
       "19                 Cuadriciclo ligero                 Cuadriciclo ligero   \n",
       "20                      VMU eléctrico                      VMU eléctrico   \n",
       "21                       Semiremolque                       Semiremolque   \n",
       "22                        Autobus EMT                        Autobus EMT   \n",
       "23                           Remolque                           Remolque   \n",
       "24                 Camión de bomberos                 Camión de bomberos   \n",
       "25          Otros vehículos sin motor          Otros vehículos sin motor   \n",
       "26  Bicicleta EPAC (pedaleo asistido)  Bicicleta EPAC (pedaleo asistido)   \n",
       "\n",
       "                            Type_2021                               Type  \n",
       "0                           Furgoneta                          Furgoneta  \n",
       "1                             Turismo                            Turismo  \n",
       "2                             Autobús                            Autobús  \n",
       "3                          Ciclomotor                         Ciclomotor  \n",
       "4                 Motocicleta > 125cc                Motocicleta > 125cc  \n",
       "5             Motocicleta hasta 125cc            Motocicleta hasta 125cc  \n",
       "6                        Todo terreno                       Todo terreno  \n",
       "7                           Bicicleta                          Bicicleta  \n",
       "8                       Camión rígido                      Camión rígido  \n",
       "9                 Maquinaria de obras                Maquinaria de obras  \n",
       "10                       Tractocamión                       Tractocamión  \n",
       "11                    Sin especificar                    Sin especificar  \n",
       "12              Cuadriciclo no ligero              Cuadriciclo no ligero  \n",
       "13                Vehículo articulado                Vehículo articulado  \n",
       "14                 Autobús articulado                 Autobús articulado  \n",
       "15          Otros vehículos con motor          Otros vehículos con motor  \n",
       "16                       Autocaravana                       Autocaravana  \n",
       "17                           Patinete                           Patinete  \n",
       "18                              Ciclo                              Ciclo  \n",
       "19                 Cuadriciclo ligero                 Cuadriciclo ligero  \n",
       "20                      VMU eléctrico                      VMU eléctrico  \n",
       "21                       Semiremolque                       Semiremolque  \n",
       "22                        Autobus EMT                        Autobus EMT  \n",
       "23                           Remolque                           Remolque  \n",
       "24                 Camión de bomberos                 Camión de bomberos  \n",
       "25          Otros vehículos sin motor          Otros vehículos sin motor  \n",
       "26  Bicicleta EPAC (pedaleo asistido)  Bicicleta EPAC (pedaleo asistido)  "
      ]
     },
     "execution_count": 58,
     "metadata": {},
     "output_type": "execute_result"
    }
   ],
   "source": [
    "type_veh_19_20 = pd.merge(left=veh_type_2019_df,right=veh_type_2020_df, left_on='Type_2019', right_on='Type_2020',\n",
    "                         how='outer')\n",
    "type_veh_19_20_21 = pd.merge(left=type_veh_19_20,right=veh_type_2021_df, left_on='Type_2020', right_on='Type_2021',\n",
    "                            how='outer')\n",
    "type_veh_19_20_21_type = pd.merge(left=type_veh_19_20_21,right=vehicle, left_on='Type_2021', right_on='Type',\n",
    "                            how='outer')\n",
    "type_veh_19_20_21_type"
   ]
  },
  {
   "cell_type": "markdown",
   "id": "fdc03204",
   "metadata": {},
   "source": [
    "Ahora vamos a hacer lo mismo con la variable 'cod_lesividad':"
   ]
  },
  {
   "cell_type": "code",
   "execution_count": 59,
   "id": "dc9069bf",
   "metadata": {},
   "outputs": [],
   "source": [
    "cod_lesividad_2019 = acc_2019['cod_lesividad'].unique().tolist()\n",
    "cod_lesividad_2020 = acc_2020['cod_lesividad'].unique().tolist()\n",
    "cod_lesividad_2021 = acc_2021['cod_lesividad'].unique().tolist()"
   ]
  },
  {
   "cell_type": "code",
   "execution_count": 60,
   "id": "b104c1f8",
   "metadata": {},
   "outputs": [],
   "source": [
    "cod_lesividad_2019_df = pd.DataFrame(cod_lesividad_2019, columns=['Type_2019'])\n",
    "cod_lesividad_2020_df = pd.DataFrame(cod_lesividad_2020, columns=['Type_2020'])\n",
    "cod_lesividad_2021_df = pd.DataFrame(cod_lesividad_2021, columns=['Type_2021'])"
   ]
  },
  {
   "cell_type": "code",
   "execution_count": 61,
   "id": "123f1800",
   "metadata": {},
   "outputs": [
    {
     "data": {
      "text/html": [
       "<div>\n",
       "<style scoped>\n",
       "    .dataframe tbody tr th:only-of-type {\n",
       "        vertical-align: middle;\n",
       "    }\n",
       "\n",
       "    .dataframe tbody tr th {\n",
       "        vertical-align: top;\n",
       "    }\n",
       "\n",
       "    .dataframe thead th {\n",
       "        text-align: right;\n",
       "    }\n",
       "</style>\n",
       "<table border=\"1\" class=\"dataframe\">\n",
       "  <thead>\n",
       "    <tr style=\"text-align: right;\">\n",
       "      <th></th>\n",
       "      <th>Type_2019</th>\n",
       "      <th>Type_2020</th>\n",
       "      <th>Type_2021</th>\n",
       "    </tr>\n",
       "  </thead>\n",
       "  <tbody>\n",
       "    <tr>\n",
       "      <th>0</th>\n",
       "      <td>NaN</td>\n",
       "      <td>NaN</td>\n",
       "      <td>NaN</td>\n",
       "    </tr>\n",
       "    <tr>\n",
       "      <th>1</th>\n",
       "      <td>2.0</td>\n",
       "      <td>2.0</td>\n",
       "      <td>2.0</td>\n",
       "    </tr>\n",
       "    <tr>\n",
       "      <th>2</th>\n",
       "      <td>14.0</td>\n",
       "      <td>14.0</td>\n",
       "      <td>14.0</td>\n",
       "    </tr>\n",
       "    <tr>\n",
       "      <th>3</th>\n",
       "      <td>5.0</td>\n",
       "      <td>5.0</td>\n",
       "      <td>5.0</td>\n",
       "    </tr>\n",
       "    <tr>\n",
       "      <th>4</th>\n",
       "      <td>7.0</td>\n",
       "      <td>7.0</td>\n",
       "      <td>7.0</td>\n",
       "    </tr>\n",
       "    <tr>\n",
       "      <th>5</th>\n",
       "      <td>3.0</td>\n",
       "      <td>3.0</td>\n",
       "      <td>3.0</td>\n",
       "    </tr>\n",
       "    <tr>\n",
       "      <th>6</th>\n",
       "      <td>1.0</td>\n",
       "      <td>1.0</td>\n",
       "      <td>1.0</td>\n",
       "    </tr>\n",
       "    <tr>\n",
       "      <th>7</th>\n",
       "      <td>6.0</td>\n",
       "      <td>6.0</td>\n",
       "      <td>6.0</td>\n",
       "    </tr>\n",
       "    <tr>\n",
       "      <th>8</th>\n",
       "      <td>4.0</td>\n",
       "      <td>4.0</td>\n",
       "      <td>4.0</td>\n",
       "    </tr>\n",
       "    <tr>\n",
       "      <th>9</th>\n",
       "      <td>77.0</td>\n",
       "      <td>77.0</td>\n",
       "      <td>NaN</td>\n",
       "    </tr>\n",
       "  </tbody>\n",
       "</table>\n",
       "</div>"
      ],
      "text/plain": [
       "   Type_2019  Type_2020  Type_2021\n",
       "0        NaN        NaN        NaN\n",
       "1        2.0        2.0        2.0\n",
       "2       14.0       14.0       14.0\n",
       "3        5.0        5.0        5.0\n",
       "4        7.0        7.0        7.0\n",
       "5        3.0        3.0        3.0\n",
       "6        1.0        1.0        1.0\n",
       "7        6.0        6.0        6.0\n",
       "8        4.0        4.0        4.0\n",
       "9       77.0       77.0        NaN"
      ]
     },
     "execution_count": 61,
     "metadata": {},
     "output_type": "execute_result"
    }
   ],
   "source": [
    "cod_lesividad_19_20 = pd.merge(left=cod_lesividad_2019_df,right=cod_lesividad_2020_df, left_on='Type_2019',\\\n",
    "                               right_on='Type_2020',how='outer')\n",
    "cod_lesividad_19_20_21 = pd.merge(left=cod_lesividad_19_20,right=cod_lesividad_2021_df, left_on='Type_2020',\\\n",
    "                                  right_on='Type_2021', how='outer')\n",
    "cod_lesividad_19_20_21"
   ]
  },
  {
   "cell_type": "markdown",
   "id": "575d9f84",
   "metadata": {},
   "source": [
    "Por la descripción del dataset sabemos que los datos en los que no se ha incluido informacion significa que coinciden con la categoria '14' - Sin asistencia sanitaria', por lo que cambiaremos los Nans a dicha categoria."
   ]
  },
  {
   "cell_type": "code",
   "execution_count": 62,
   "id": "c4d9ca83",
   "metadata": {},
   "outputs": [],
   "source": [
    "acc_veh_2019_df = acc_veh_2019.fillna({'cod_lesividad': 14})\n",
    "acc_veh_2020_df = acc_veh_2020.fillna({'cod_lesividad': 14})\n",
    "acc_veh_2021_df = acc_veh_2021.fillna({'cod_lesividad': 14})"
   ]
  },
  {
   "cell_type": "markdown",
   "id": "b31cd476",
   "metadata": {},
   "source": [
    "**3. UNIÓN DE LOS DATASETS**\n"
   ]
  },
  {
   "cell_type": "code",
   "execution_count": 63,
   "id": "89611c8c",
   "metadata": {},
   "outputs": [],
   "source": [
    "acc_veh = pd.concat([acc_veh_2019_df,acc_veh_2020_df,acc_veh_2021_df]) "
   ]
  },
  {
   "cell_type": "markdown",
   "id": "70daaa46",
   "metadata": {},
   "source": [
    "**4. REDUCCIÓN DEL TAMAÑO** - punto de control"
   ]
  },
  {
   "cell_type": "code",
   "execution_count": 64,
   "id": "977cc9b6",
   "metadata": {},
   "outputs": [
    {
     "name": "stdout",
     "output_type": "stream",
     "text": [
      "ORIGINAL DS:\n",
      "(51811, 19)\n",
      "RENAME COL.:\n",
      "(51811, 19)\n",
      "ELIM. COL + ELIM. DIF. YEAR + INCLU. COL. YEAR:\n",
      "(51809, 16)\n",
      "PROCESS. & ELIM. NANS:\n",
      "(51700, 16)\n",
      "ELIM. DIF VEH.:\n",
      "(51696, 16)\n",
      "ELIM. DIF cod_les & tipo_les.:\n",
      "(51696, 16)\n"
     ]
    }
   ],
   "source": [
    "print('ORIGINAL DS:')\n",
    "print(accidents_2019.shape)\n",
    "print('RENAME COL.:')\n",
    "print(accidents_2019_df.shape)\n",
    "print('ELIM. COL + ELIM. DIF. YEAR + INCLU. COL. YEAR:')\n",
    "print(accidents_2019_df_clean.shape)\n",
    "print('PROCESS. & ELIM. NANS:')\n",
    "print(acc_2019.shape)\n",
    "print('ELIM. DIF VEH.:')\n",
    "print(acc_veh_2019.shape)\n",
    "print('ELIM. DIF cod_les & tipo_les.:')\n",
    "print(acc_veh_2019_df.shape)"
   ]
  },
  {
   "cell_type": "code",
   "execution_count": 65,
   "id": "569b5452",
   "metadata": {},
   "outputs": [
    {
     "name": "stdout",
     "output_type": "stream",
     "text": [
      "ORIGINAL DS:\n",
      "(32433, 19)\n",
      "RENAME COL.:\n",
      "(32433, 19)\n",
      "ELIM. COL + ELIM. DIF. YEAR + INCLU. COL. YEAR:\n",
      "(32431, 16)\n",
      "PROCESS. & ELIM. NANS:\n",
      "(32325, 16)\n",
      "ELIM. DIF VEH.:\n",
      "(32296, 16)\n",
      "ELIM. DIF cod_les & tipo_les.:\n",
      "(32296, 16)\n"
     ]
    }
   ],
   "source": [
    "print('ORIGINAL DS:')\n",
    "print(accidents_2020.shape)\n",
    "print('RENAME COL.:')\n",
    "print(accidents_2020_df.shape)\n",
    "print('ELIM. COL + ELIM. DIF. YEAR + INCLU. COL. YEAR:')\n",
    "print(accidents_2020_df_clean.shape)\n",
    "print('PROCESS. & ELIM. NANS:')\n",
    "print(acc_2020.shape)\n",
    "print('ELIM. DIF VEH.:')\n",
    "print(acc_veh_2020.shape)\n",
    "print('ELIM. DIF cod_les & tipo_les.:')\n",
    "print(acc_veh_2020_df.shape)"
   ]
  },
  {
   "cell_type": "code",
   "execution_count": 66,
   "id": "72f31799",
   "metadata": {},
   "outputs": [
    {
     "name": "stdout",
     "output_type": "stream",
     "text": [
      "ORIGINAL DS:\n",
      "(41783, 19)\n",
      "RENAME COL.:\n",
      "(41783, 19)\n",
      "ELIM. COL + ELIM. DIF. YEAR + INCLU. COL. YEAR:\n",
      "(41778, 16)\n",
      "PROCESS. & ELIM. NANS:\n",
      "(41596, 16)\n",
      "ELIM. DIF VEH.:\n",
      "(41557, 16)\n",
      "ELIM. DIF cod_les & tipo_les.:\n",
      "(41557, 16)\n"
     ]
    }
   ],
   "source": [
    "print('ORIGINAL DS:')\n",
    "print(accidents_2021.shape)\n",
    "print('RENAME COL.:')\n",
    "print(accidents_2021_df.shape)\n",
    "print('ELIM. COL + ELIM. DIF. YEAR + INCLU. COL. YEAR:')\n",
    "print(accidents_2021_df_clean.shape)\n",
    "print('PROCESS. & ELIM. NANS:')\n",
    "print(acc_2021.shape)\n",
    "print('ELIM. DIF VEH.:')\n",
    "print(acc_veh_2021.shape)\n",
    "print('ELIM. DIF cod_les & tipo_les.:')\n",
    "print(acc_veh_2021_df.shape)"
   ]
  },
  {
   "cell_type": "markdown",
   "id": "6a7b743e",
   "metadata": {},
   "source": [
    "**5. NUEVAS VARIABLES** - Vamos a incluir las siguientes columnas:\n",
    "- dia de la semana (dia_sem)\n",
    "- mes (mes)\n",
    "- nº de partes por accidente (num_exp)\n",
    "- hora (hora_H)\n",
    "- fin de semana (es_finde)\n",
    "- festivo (es_fest)\n",
    "- fecha en formatro datetime (fecha_datetime)"
   ]
  },
  {
   "cell_type": "code",
   "execution_count": 67,
   "id": "4808e894",
   "metadata": {},
   "outputs": [],
   "source": [
    "def findDay(date): \n",
    "    date_x = datetime.datetime.strptime(date, '%d/%m/%Y').weekday() \n",
    "    return (calendar.day_name[date_x]) "
   ]
  },
  {
   "cell_type": "code",
   "execution_count": 68,
   "id": "f78038f1",
   "metadata": {},
   "outputs": [],
   "source": [
    "acc_veh['dia_sem']=acc_veh['fecha'].apply(findDay) \n",
    "acc_veh['mes']=acc_veh['fecha'].str[3:5].astype(int)\n",
    "count_exp = acc_veh.groupby('num_expediente')['fecha'].count().reset_index()\n",
    "count_exp = count_exp.rename(columns={'fecha':'num_exp'})\n",
    "acc_veh_final = pd.merge(acc_veh,count_exp )"
   ]
  },
  {
   "cell_type": "code",
   "execution_count": 69,
   "id": "1b88d3c8",
   "metadata": {},
   "outputs": [],
   "source": [
    "acc_veh_final['hora_H'] =acc_veh_final['hora'].str[:-6].astype(int)"
   ]
  },
  {
   "cell_type": "markdown",
   "id": "331dcdf4",
   "metadata": {},
   "source": [
    "Vamos a aplicar un label encoder para transformar la columna dia de la semana a número"
   ]
  },
  {
   "cell_type": "code",
   "execution_count": 70,
   "id": "99e8c3be",
   "metadata": {},
   "outputs": [],
   "source": [
    "dia_sem_dic = {'Monday':1,\n",
    "                'Tuesday':2,\n",
    "                'Wednesday':3,\n",
    "                'Thursday':4,\n",
    "                'Friday':5,\n",
    "                'Saturday':6,\n",
    "                'Sunday':7}"
   ]
  },
  {
   "cell_type": "code",
   "execution_count": 71,
   "id": "cc5537ef",
   "metadata": {},
   "outputs": [],
   "source": [
    "acc_veh_final['dia_sem_code'] = acc_veh_final.dia_sem.map(dia_sem_dic)"
   ]
  },
  {
   "cell_type": "markdown",
   "id": "5d28dc72",
   "metadata": {},
   "source": [
    "Vamos a incluir el dataset de festivos en la ciudad de Madrid"
   ]
  },
  {
   "cell_type": "code",
   "execution_count": 72,
   "id": "d46b6803",
   "metadata": {},
   "outputs": [],
   "source": [
    "path_bank_holidays = '/home/dsc/Master DS/TFM/GIT/DATOS_BRUTOS/calendario.csv'"
   ]
  },
  {
   "cell_type": "code",
   "execution_count": 73,
   "id": "8b1f4714",
   "metadata": {},
   "outputs": [],
   "source": [
    "bank_holidays = pd.read_csv(path_bank_holidays, sep = ';' )"
   ]
  },
  {
   "cell_type": "code",
   "execution_count": 74,
   "id": "7ec44ffd",
   "metadata": {},
   "outputs": [],
   "source": [
    "bank_holidays['fecha_datetime'] = pd.to_datetime(bank_holidays['Día'], dayfirst=True)"
   ]
  },
  {
   "cell_type": "code",
   "execution_count": 75,
   "id": "c775582e",
   "metadata": {},
   "outputs": [],
   "source": [
    "filtered_df =bank_holidays.loc[bank_holidays[\"fecha_datetime\"].between('2019-01-01', '2021-12-31')]"
   ]
  },
  {
   "cell_type": "code",
   "execution_count": 76,
   "id": "f0a1864a",
   "metadata": {},
   "outputs": [
    {
     "data": {
      "text/plain": [
       "array(['festivo', 'laborable', 'sábado', 'domingo', nan, 'Festivo'],\n",
       "      dtype=object)"
      ]
     },
     "execution_count": 76,
     "metadata": {},
     "output_type": "execute_result"
    }
   ],
   "source": [
    "filtered_df['laborable / festivo / domingo festivo'].unique()"
   ]
  },
  {
   "cell_type": "code",
   "execution_count": 77,
   "id": "b8ec637f",
   "metadata": {},
   "outputs": [],
   "source": [
    "bank_holidays_df = filtered_df[(filtered_df['laborable / festivo / domingo festivo'] == 'festivo')|\\\n",
    "                           (filtered_df['laborable / festivo / domingo festivo'] == 'Festivo')]"
   ]
  },
  {
   "cell_type": "code",
   "execution_count": 78,
   "id": "01e2c434",
   "metadata": {},
   "outputs": [],
   "source": [
    "bank_holidays_list = list(bank_holidays_df['Día'])"
   ]
  },
  {
   "cell_type": "code",
   "execution_count": 79,
   "id": "f2e6ae00",
   "metadata": {},
   "outputs": [],
   "source": [
    "acc_veh_final['es_finde'] = (acc_veh_final['dia_sem'] == 'Saturday') |\\\n",
    "                                    (acc_veh_final['dia_sem'] == 'Sunday')"
   ]
  },
  {
   "cell_type": "code",
   "execution_count": 80,
   "id": "7215c5f5",
   "metadata": {},
   "outputs": [],
   "source": [
    "acc_veh_final['es_fest'] = (acc_veh_final['fecha']).isin(bank_holidays_list)"
   ]
  },
  {
   "cell_type": "code",
   "execution_count": 81,
   "id": "39e6884d",
   "metadata": {},
   "outputs": [],
   "source": [
    "acc_veh_final['fecha_datetime'] = pd.to_datetime(acc_veh_final['fecha'], format='%d/%m/%Y')"
   ]
  },
  {
   "cell_type": "markdown",
   "id": "61c9673f",
   "metadata": {},
   "source": [
    "**6. UTMs** - Transformamos la columna de UTMs a numeros y los corregimos en unidad de medida:"
   ]
  },
  {
   "cell_type": "code",
   "execution_count": 82,
   "id": "4093adb8",
   "metadata": {},
   "outputs": [],
   "source": [
    "acc = acc_veh_final.copy()"
   ]
  },
  {
   "cell_type": "code",
   "execution_count": 83,
   "id": "a1d652ec",
   "metadata": {},
   "outputs": [
    {
     "name": "stderr",
     "output_type": "stream",
     "text": [
      "/tmp/ipykernel_10582/3111570593.py:1: FutureWarning: The default value of regex will change from True to False in a future version. In addition, single character regular expressions will *not* be treated as literal strings when regex=True.\n",
      "  acc[\"coordenada_x_utm\"] = acc['coordenada_x_utm'].str.replace('.','')\n",
      "/tmp/ipykernel_10582/3111570593.py:2: FutureWarning: The default value of regex will change from True to False in a future version. In addition, single character regular expressions will *not* be treated as literal strings when regex=True.\n",
      "  acc[\"coordenada_y_utm\"] = acc['coordenada_y_utm'].str.replace('.','')\n"
     ]
    }
   ],
   "source": [
    "acc[\"coordenada_x_utm\"] = acc['coordenada_x_utm'].str.replace('.','')\n",
    "acc[\"coordenada_y_utm\"] = acc['coordenada_y_utm'].str.replace('.','')"
   ]
  },
  {
   "cell_type": "code",
   "execution_count": 84,
   "id": "806d2551",
   "metadata": {},
   "outputs": [],
   "source": [
    "acc['coordenada_x_utm'] = pd.to_numeric(acc['coordenada_x_utm'],errors = 'coerce')\n",
    "acc['coordenada_y_utm'] = pd.to_numeric(acc['coordenada_y_utm'],errors = 'coerce')"
   ]
  },
  {
   "cell_type": "code",
   "execution_count": 85,
   "id": "7f3b4ce3",
   "metadata": {},
   "outputs": [],
   "source": [
    "def divide_1000(x):\n",
    "    return x/1000"
   ]
  },
  {
   "cell_type": "code",
   "execution_count": 86,
   "id": "034e690f",
   "metadata": {},
   "outputs": [],
   "source": [
    "acc['coordenada_x_utm'] = acc['coordenada_x_utm'].apply(divide_1000)\n",
    "acc['coordenada_y_utm'] = acc['coordenada_y_utm'].apply(divide_1000)"
   ]
  },
  {
   "cell_type": "markdown",
   "id": "8927483e",
   "metadata": {},
   "source": [
    "Al comprobar los valores de 'coordenada_x_utm' y 'coordenada_y_utm' vemos que algunos faltan al asignarles el valor 0. Eliminamos esas lineas."
   ]
  },
  {
   "cell_type": "code",
   "execution_count": 87,
   "id": "810dd9ab",
   "metadata": {},
   "outputs": [],
   "source": [
    "acc.drop(acc[acc['coordenada_x_utm']==0].index,axis=0, inplace = True)"
   ]
  },
  {
   "cell_type": "markdown",
   "id": "d49e90da",
   "metadata": {},
   "source": [
    "Incluimos dos columnas con la latitud y la longitud."
   ]
  },
  {
   "cell_type": "code",
   "execution_count": 88,
   "id": "ad36f2ca",
   "metadata": {},
   "outputs": [
    {
     "name": "stdout",
     "output_type": "stream",
     "text": [
      "Requirement already satisfied: utm in /home/dsc/anaconda3/lib/python3.8/site-packages (0.7.0)\r\n"
     ]
    }
   ],
   "source": [
    "!pip install utm"
   ]
  },
  {
   "cell_type": "code",
   "execution_count": 89,
   "id": "d12a35a6",
   "metadata": {},
   "outputs": [],
   "source": [
    "import utm"
   ]
  },
  {
   "cell_type": "code",
   "execution_count": 90,
   "id": "9e3285f7",
   "metadata": {},
   "outputs": [],
   "source": [
    "def getLATLONG(row):\n",
    "    tup = utm.to_latlon(row[0],row[1],30,'N')\n",
    "    return pd.Series(tup[:2])"
   ]
  },
  {
   "cell_type": "code",
   "execution_count": 91,
   "id": "ec0632d2",
   "metadata": {},
   "outputs": [],
   "source": [
    "acc[['lat','lon']] = acc[['coordenada_x_utm','coordenada_y_utm']].apply(getLATLONG , axis=1)\n"
   ]
  },
  {
   "cell_type": "markdown",
   "id": "2b2e28ae",
   "metadata": {},
   "source": [
    "**7. Estado Meteorológico Desconocido**"
   ]
  },
  {
   "cell_type": "markdown",
   "id": "e3db5fba",
   "metadata": {},
   "source": [
    "Vamos a intentar eliminar los 'Se desconoce' al considerar que para dichos dias en otros siniestros sí habrá sido notificado el 'estado_meteorologico' y pondremos el estado más frecuente de los comunicados para dicho día"
   ]
  },
  {
   "cell_type": "code",
   "execution_count": 92,
   "id": "053d9ffc",
   "metadata": {},
   "outputs": [],
   "source": [
    "meteo_desc = acc[acc['estado_meteorologico']=='Se desconoce']"
   ]
  },
  {
   "cell_type": "code",
   "execution_count": 93,
   "id": "81362f00",
   "metadata": {},
   "outputs": [],
   "source": [
    "meteo_conoc = acc[acc['estado_meteorologico']!='Se desconoce']"
   ]
  },
  {
   "cell_type": "code",
   "execution_count": 94,
   "id": "fa82b545",
   "metadata": {},
   "outputs": [
    {
     "name": "stderr",
     "output_type": "stream",
     "text": [
      "/tmp/ipykernel_10582/435545685.py:1: SettingWithCopyWarning: \n",
      "A value is trying to be set on a copy of a slice from a DataFrame.\n",
      "Try using .loc[row_indexer,col_indexer] = value instead\n",
      "\n",
      "See the caveats in the documentation: https://pandas.pydata.org/pandas-docs/stable/user_guide/indexing.html#returning-a-view-versus-a-copy\n",
      "  meteo_conoc['estado_meteorologico_sin_desc']=meteo_conoc['estado_meteorologico']\n"
     ]
    }
   ],
   "source": [
    "meteo_conoc['estado_meteorologico_sin_desc']=meteo_conoc['estado_meteorologico']"
   ]
  },
  {
   "cell_type": "code",
   "execution_count": 95,
   "id": "940b4fc1",
   "metadata": {},
   "outputs": [],
   "source": [
    "est_meteo_freq = meteo_conoc.groupby(['fecha_datetime'])['estado_meteorologico']\\\n",
    "                            .apply(lambda x: x.value_counts().index[0]).reset_index()"
   ]
  },
  {
   "cell_type": "code",
   "execution_count": 96,
   "id": "e7e7853f",
   "metadata": {},
   "outputs": [],
   "source": [
    "meteo_desc_trans = pd.merge(meteo_desc, est_meteo_freq, left_on ='fecha_datetime', right_on ='fecha_datetime')"
   ]
  },
  {
   "cell_type": "code",
   "execution_count": 97,
   "id": "b3537a2a",
   "metadata": {},
   "outputs": [],
   "source": [
    "meteo_desc_trans_df = meteo_desc_trans.drop(['estado_meteorologico_x'], axis=1)"
   ]
  },
  {
   "cell_type": "code",
   "execution_count": 98,
   "id": "b883acff",
   "metadata": {},
   "outputs": [],
   "source": [
    "meteo_desc_trans_df = meteo_desc_trans_df.rename(columns={'estado_meteorologico_y':'estado_meteorologico_sin_desc'})"
   ]
  },
  {
   "cell_type": "code",
   "execution_count": 99,
   "id": "36325cf4",
   "metadata": {},
   "outputs": [],
   "source": [
    "acc = pd.concat([meteo_conoc,meteo_desc_trans_df])"
   ]
  },
  {
   "cell_type": "code",
   "execution_count": 100,
   "id": "3e31fcd3",
   "metadata": {},
   "outputs": [],
   "source": [
    "acc['estado_meteorologico'].fillna('Se desconoce', inplace = True)"
   ]
  },
  {
   "cell_type": "markdown",
   "id": "bfa5aaaf",
   "metadata": {},
   "source": [
    "**8. Pasar codigo de distrito a formato string para la visualización**"
   ]
  },
  {
   "cell_type": "code",
   "execution_count": 101,
   "id": "5fa4957e",
   "metadata": {},
   "outputs": [],
   "source": [
    "acc['cod_dist_string']=acc['cod_distrito'].astype(int).astype(str)"
   ]
  },
  {
   "cell_type": "markdown",
   "id": "4624efed",
   "metadata": {},
   "source": [
    "## DATASET DEL NUMERO DE ACCIDENTES"
   ]
  },
  {
   "cell_type": "markdown",
   "id": "6743c916",
   "metadata": {},
   "source": [
    "En este punto del proceso, una vez que hemos creado un dataset unico donde toda la informacion ha sido unificada, vamos a tomar dos rutas, cada una con un dataset distinto:\n",
    "\n",
    "**A) accidentes.csv**\n",
    "\n",
    "Sabemos por la descripcion del dataset original que para un mismo 'num_expediente' que tendremos una linea por persona involucrada en el accidente, es por ello por lo que hemos creado la variable 'num_exp'. Con esta variable tendremos la información de la escala del siniestro en terminos de numero de personas involucradas en el mismo, lo veremos como el numero de recursos que tendrán que acudir al accidente.\n",
    "\n",
    "Como nostros solo queremos conocer el numero de siniestros que han ocurrido en un intervalo de tiempo, vamos a crear un dataframe que incluya los valores unicos de 'num_expediente'.  \n",
    "\n",
    "Este dataset mantendrá las columnas para aquellas lineas (con el mismo 'num_expediente') que sean iguales, al describir el accidente:\n",
    "- num_expediente\n",
    "- fecha\n",
    "- fecha_datetime\n",
    "- hora\n",
    "- cod_distrito\n",
    "- tipo_accidente\n",
    "- estado_meteorologico\n",
    "- estado_meteorologico_sin_desc\n",
    "- coordenada_x_utm\n",
    "- coordenada_y_utm\n",
    "- lat\n",
    "- lon\n",
    "- ano_fecha\n",
    "- dia_sem\n",
    "- mes\n",
    "- hora\n",
    "- num_exp\n",
    "- es_finde\n",
    "- es_fest\n",
    "\n",
    "**B) accidentes_total.csv**\n",
    "\n",
    "Como nosotros también queremos un dataset en el que se describan las personas involucradas en el accidente, vamos a mantener el dataset completo.\n",
    "\n",
    "Adicionalmente al dataset anterior, incluiremos las siguientes variables:\n",
    "- tipo_vehiculo\n",
    "- tipo_persona\n",
    "- rango_edad\n",
    "- cod_lesividad\n",
    "- tipo_lesividad\n",
    "- positiva_alcohol\n",
    "- positiva_droga\n",
    "- sexo"
   ]
  },
  {
   "cell_type": "code",
   "execution_count": 102,
   "id": "d2e30db9",
   "metadata": {},
   "outputs": [],
   "source": [
    "fea_to_drop = ['tipo_vehiculo','tipo_persona', 'rango_edad', 'sexo','positiva_alcohol','positiva_droga',\\\n",
    "               'cod_lesividad']"
   ]
  },
  {
   "cell_type": "code",
   "execution_count": 103,
   "id": "60793f6a",
   "metadata": {},
   "outputs": [],
   "source": [
    "acc_pre = acc.drop(fea_to_drop, axis=1)"
   ]
  },
  {
   "cell_type": "code",
   "execution_count": 104,
   "id": "a3141fe1",
   "metadata": {},
   "outputs": [],
   "source": [
    "acc_unique = acc_pre.drop_duplicates(subset = None) "
   ]
  },
  {
   "cell_type": "code",
   "execution_count": 105,
   "id": "be1efce2",
   "metadata": {},
   "outputs": [],
   "source": [
    "lista = acc_unique['num_expediente'].unique()"
   ]
  },
  {
   "cell_type": "markdown",
   "id": "d0de3c20",
   "metadata": {},
   "source": [
    "Vamos a comprobar que no hay duplicados en 'num_expediente'..."
   ]
  },
  {
   "cell_type": "code",
   "execution_count": 106,
   "id": "5d8ec460",
   "metadata": {},
   "outputs": [
    {
     "data": {
      "text/plain": [
       "0"
      ]
     },
     "execution_count": 106,
     "metadata": {},
     "output_type": "execute_result"
    }
   ],
   "source": [
    "acc_unique.shape[0] - len(lista)"
   ]
  },
  {
   "cell_type": "markdown",
   "id": "6e6f6258",
   "metadata": {},
   "source": [
    "## GUARDAMOS LOS DATOS PROCESADOS EN ARCHIVOS"
   ]
  },
  {
   "cell_type": "markdown",
   "id": "099a2332",
   "metadata": {},
   "source": [
    "Guardaremos los datasets en archivos csv para futuros análisis."
   ]
  },
  {
   "cell_type": "markdown",
   "id": "7d49f728",
   "metadata": {},
   "source": [
    "**1. 'accidentes.csv':** Dataset de siniestros únicos"
   ]
  },
  {
   "cell_type": "code",
   "execution_count": 107,
   "id": "e89bbf80",
   "metadata": {},
   "outputs": [],
   "source": [
    "acc_unique.to_csv(r'/home/dsc/Master DS/TFM/GIT/DATOS_PROCESADOS/accidentes.csv',sep='^',\\\n",
    "                  index = False, header = True)"
   ]
  },
  {
   "cell_type": "markdown",
   "id": "5b5ab9d3",
   "metadata": {},
   "source": [
    "**2. 'accidentes_total.csv':** Dataset completo"
   ]
  },
  {
   "cell_type": "code",
   "execution_count": 108,
   "id": "10e1942d",
   "metadata": {},
   "outputs": [],
   "source": [
    "acc.to_csv(r'/home/dsc/Master DS/TFM/GIT/DATOS_PROCESADOS/accidentes_total.csv',sep='^',\\\n",
    "                  index = False, header = True)"
   ]
  },
  {
   "cell_type": "markdown",
   "id": "f017ff53",
   "metadata": {},
   "source": [
    "**3. 'cod_distrito.csv':** Tabla normalizada de información de distritos"
   ]
  },
  {
   "cell_type": "code",
   "execution_count": 109,
   "id": "7a7c14e3",
   "metadata": {},
   "outputs": [],
   "source": [
    "dist_cod.to_csv(r'/home/dsc/Master DS/TFM/GIT/DATOS_PROCESADOS/cod_distrito.csv',sep='^',\\\n",
    "                  index = False, header = True)"
   ]
  },
  {
   "cell_type": "markdown",
   "id": "206fd382",
   "metadata": {},
   "source": [
    "**4. 'cod_lesiv.csv':** Tabla normalizada de la lesividad de los siniestros"
   ]
  },
  {
   "cell_type": "code",
   "execution_count": 110,
   "id": "70f555dc",
   "metadata": {},
   "outputs": [],
   "source": [
    "lesiv_cod_type.to_csv(r'/home/dsc/Master DS/TFM/GIT/DATOS_PROCESADOS/cod_lesiv.csv',sep='^',\\\n",
    "                  index = False, header = True)"
   ]
  }
 ],
 "metadata": {
  "kernelspec": {
   "display_name": "Python 3 (ipykernel)",
   "language": "python",
   "name": "python3"
  },
  "language_info": {
   "codemirror_mode": {
    "name": "ipython",
    "version": 3
   },
   "file_extension": ".py",
   "mimetype": "text/x-python",
   "name": "python",
   "nbconvert_exporter": "python",
   "pygments_lexer": "ipython3",
   "version": "3.8.2"
  }
 },
 "nbformat": 4,
 "nbformat_minor": 5
}
