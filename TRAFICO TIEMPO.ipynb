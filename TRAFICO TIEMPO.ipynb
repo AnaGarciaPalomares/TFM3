{
 "cells": [
  {
   "cell_type": "markdown",
   "id": "ac2ba643",
   "metadata": {},
   "source": [
    "# CRUCE CON INTENSIDAD DEL TRAFICO"
   ]
  },
  {
   "cell_type": "code",
   "execution_count": 1,
   "id": "d1756011",
   "metadata": {},
   "outputs": [],
   "source": [
    "import pandas as pd\n",
    "import numpy as np"
   ]
  },
  {
   "cell_type": "code",
   "execution_count": 2,
   "id": "5cccb963",
   "metadata": {},
   "outputs": [],
   "source": [
    "path_traff_may_2019 = '/home/dsc/Master DS/TFM/TFM INFO/traffic/2019/05-2019.csv'"
   ]
  },
  {
   "cell_type": "code",
   "execution_count": 3,
   "id": "0a6e233d",
   "metadata": {},
   "outputs": [],
   "source": [
    "traff_may_2019 = pd.read_csv(path_traff_may_2019, sep = ';' )"
   ]
  },
  {
   "cell_type": "code",
   "execution_count": 4,
   "id": "e78f8ada",
   "metadata": {},
   "outputs": [
    {
     "data": {
      "text/html": [
       "<div>\n",
       "<style scoped>\n",
       "    .dataframe tbody tr th:only-of-type {\n",
       "        vertical-align: middle;\n",
       "    }\n",
       "\n",
       "    .dataframe tbody tr th {\n",
       "        vertical-align: top;\n",
       "    }\n",
       "\n",
       "    .dataframe thead th {\n",
       "        text-align: right;\n",
       "    }\n",
       "</style>\n",
       "<table border=\"1\" class=\"dataframe\">\n",
       "  <thead>\n",
       "    <tr style=\"text-align: right;\">\n",
       "      <th></th>\n",
       "      <th>id</th>\n",
       "      <th>fecha</th>\n",
       "      <th>tipo_elem</th>\n",
       "      <th>intensidad</th>\n",
       "      <th>ocupacion</th>\n",
       "      <th>carga</th>\n",
       "      <th>vmed</th>\n",
       "      <th>error</th>\n",
       "      <th>periodo_integracion</th>\n",
       "    </tr>\n",
       "  </thead>\n",
       "  <tbody>\n",
       "    <tr>\n",
       "      <th>0</th>\n",
       "      <td>1001</td>\n",
       "      <td>2019-05-01 00:00:00</td>\n",
       "      <td>M30</td>\n",
       "      <td>732</td>\n",
       "      <td>2.0</td>\n",
       "      <td>0</td>\n",
       "      <td>60.0</td>\n",
       "      <td>N</td>\n",
       "      <td>5</td>\n",
       "    </tr>\n",
       "    <tr>\n",
       "      <th>1</th>\n",
       "      <td>1001</td>\n",
       "      <td>2019-05-01 00:15:00</td>\n",
       "      <td>M30</td>\n",
       "      <td>804</td>\n",
       "      <td>3.0</td>\n",
       "      <td>0</td>\n",
       "      <td>63.0</td>\n",
       "      <td>N</td>\n",
       "      <td>5</td>\n",
       "    </tr>\n",
       "    <tr>\n",
       "      <th>2</th>\n",
       "      <td>1001</td>\n",
       "      <td>2019-05-01 00:30:00</td>\n",
       "      <td>M30</td>\n",
       "      <td>516</td>\n",
       "      <td>1.0</td>\n",
       "      <td>0</td>\n",
       "      <td>60.0</td>\n",
       "      <td>N</td>\n",
       "      <td>5</td>\n",
       "    </tr>\n",
       "    <tr>\n",
       "      <th>3</th>\n",
       "      <td>1001</td>\n",
       "      <td>2019-05-01 00:45:00</td>\n",
       "      <td>M30</td>\n",
       "      <td>780</td>\n",
       "      <td>2.0</td>\n",
       "      <td>0</td>\n",
       "      <td>58.0</td>\n",
       "      <td>N</td>\n",
       "      <td>5</td>\n",
       "    </tr>\n",
       "    <tr>\n",
       "      <th>4</th>\n",
       "      <td>1001</td>\n",
       "      <td>2019-05-01 01:00:00</td>\n",
       "      <td>M30</td>\n",
       "      <td>780</td>\n",
       "      <td>2.0</td>\n",
       "      <td>0</td>\n",
       "      <td>59.0</td>\n",
       "      <td>N</td>\n",
       "      <td>5</td>\n",
       "    </tr>\n",
       "  </tbody>\n",
       "</table>\n",
       "</div>"
      ],
      "text/plain": [
       "     id                fecha tipo_elem  intensidad  ocupacion  carga  vmed  \\\n",
       "0  1001  2019-05-01 00:00:00       M30         732        2.0      0  60.0   \n",
       "1  1001  2019-05-01 00:15:00       M30         804        3.0      0  63.0   \n",
       "2  1001  2019-05-01 00:30:00       M30         516        1.0      0  60.0   \n",
       "3  1001  2019-05-01 00:45:00       M30         780        2.0      0  58.0   \n",
       "4  1001  2019-05-01 01:00:00       M30         780        2.0      0  59.0   \n",
       "\n",
       "  error  periodo_integracion  \n",
       "0     N                    5  \n",
       "1     N                    5  \n",
       "2     N                    5  \n",
       "3     N                    5  \n",
       "4     N                    5  "
      ]
     },
     "execution_count": 4,
     "metadata": {},
     "output_type": "execute_result"
    }
   ],
   "source": [
    "traff_may_2019.head()"
   ]
  },
  {
   "cell_type": "markdown",
   "id": "5d561abb",
   "metadata": {},
   "source": [
    "Del dataset eliminamos las siguientes partes:\n",
    "- periodo_integracion\n",
    "- vmed \n",
    "- tipo_elem: las mediciones referidas a identificativos de medición en la M30"
   ]
  },
  {
   "cell_type": "code",
   "execution_count": 5,
   "id": "95aee04e",
   "metadata": {},
   "outputs": [],
   "source": [
    "traff_may_2019_clean = traff_may_2019.drop(['periodo_integracion','vmed'], axis=1)\n"
   ]
  },
  {
   "cell_type": "code",
   "execution_count": 6,
   "id": "f8eff101",
   "metadata": {},
   "outputs": [],
   "source": [
    "cond_M30 = traff_may_2019_clean[traff_may_2019_clean['tipo_elem']=='M30'].index\n",
    "traff_may_2019_clean.drop(cond_M30,inplace=True)"
   ]
  },
  {
   "cell_type": "code",
   "execution_count": 52,
   "id": "46ea82fc",
   "metadata": {},
   "outputs": [
    {
     "name": "stdout",
     "output_type": "stream",
     "text": [
      "(11060255, 9)\n",
      "(9837607, 7)\n"
     ]
    }
   ],
   "source": [
    "print(traff_may_2019.shape)\n",
    "print(traff_may_2019_clean.shape)"
   ]
  },
  {
   "cell_type": "markdown",
   "id": "5611f527",
   "metadata": {},
   "source": [
    "Vamos a comprobar la existencia de Nans en el dataset"
   ]
  },
  {
   "cell_type": "code",
   "execution_count": 7,
   "id": "f71c4714",
   "metadata": {},
   "outputs": [
    {
     "data": {
      "text/plain": [
       "Index(['id', 'fecha', 'tipo_elem', 'intensidad', 'ocupacion', 'carga',\n",
       "       'error'],\n",
       "      dtype='object')"
      ]
     },
     "execution_count": 7,
     "metadata": {},
     "output_type": "execute_result"
    }
   ],
   "source": [
    "traff_may_2019_columns = traff_may_2019_clean.columns.str.strip()\n",
    "traff_may_2019_columns"
   ]
  },
  {
   "cell_type": "code",
   "execution_count": 11,
   "id": "d213f6f3",
   "metadata": {},
   "outputs": [],
   "source": [
    "traff_may_2019_df=pd.DataFrame(traff_may_2019_clean,columns=traff_may_2019_columns )"
   ]
  },
  {
   "cell_type": "code",
   "execution_count": 12,
   "id": "441c83ed",
   "metadata": {},
   "outputs": [
    {
     "data": {
      "text/html": [
       "<div>\n",
       "<style scoped>\n",
       "    .dataframe tbody tr th:only-of-type {\n",
       "        vertical-align: middle;\n",
       "    }\n",
       "\n",
       "    .dataframe tbody tr th {\n",
       "        vertical-align: top;\n",
       "    }\n",
       "\n",
       "    .dataframe thead th {\n",
       "        text-align: right;\n",
       "    }\n",
       "</style>\n",
       "<table border=\"1\" class=\"dataframe\">\n",
       "  <thead>\n",
       "    <tr style=\"text-align: right;\">\n",
       "      <th></th>\n",
       "      <th>index</th>\n",
       "      <th>0</th>\n",
       "    </tr>\n",
       "  </thead>\n",
       "  <tbody>\n",
       "    <tr>\n",
       "      <th>0</th>\n",
       "      <td>id</td>\n",
       "      <td>0</td>\n",
       "    </tr>\n",
       "    <tr>\n",
       "      <th>1</th>\n",
       "      <td>fecha</td>\n",
       "      <td>0</td>\n",
       "    </tr>\n",
       "    <tr>\n",
       "      <th>2</th>\n",
       "      <td>tipo_elem</td>\n",
       "      <td>0</td>\n",
       "    </tr>\n",
       "    <tr>\n",
       "      <th>3</th>\n",
       "      <td>intensidad</td>\n",
       "      <td>0</td>\n",
       "    </tr>\n",
       "    <tr>\n",
       "      <th>4</th>\n",
       "      <td>ocupacion</td>\n",
       "      <td>0</td>\n",
       "    </tr>\n",
       "    <tr>\n",
       "      <th>5</th>\n",
       "      <td>carga</td>\n",
       "      <td>0</td>\n",
       "    </tr>\n",
       "    <tr>\n",
       "      <th>6</th>\n",
       "      <td>error</td>\n",
       "      <td>0</td>\n",
       "    </tr>\n",
       "  </tbody>\n",
       "</table>\n",
       "</div>"
      ],
      "text/plain": [
       "        index  0\n",
       "0          id  0\n",
       "1       fecha  0\n",
       "2   tipo_elem  0\n",
       "3  intensidad  0\n",
       "4   ocupacion  0\n",
       "5       carga  0\n",
       "6       error  0"
      ]
     },
     "execution_count": 12,
     "metadata": {},
     "output_type": "execute_result"
    }
   ],
   "source": [
    "traff_may_2019_Nan = traff_may_2019_df[traff_may_2019_columns].isna().sum().reset_index()\n",
    "traff_may_2019_Nan\n"
   ]
  },
  {
   "cell_type": "markdown",
   "id": "584b8d8d",
   "metadata": {},
   "source": [
    "El tráfico lo vamos a categorizar entre los siguientes estados:\n",
    "- tráfico fluido (nivel 0)\n",
    "- tráfico lento (nivel 1)\n",
    "- retenciones (nivel 2)\n",
    "- congestión (nivel 3)"
   ]
  },
  {
   "cell_type": "markdown",
   "id": "3d6a96a6",
   "metadata": {},
   "source": [
    "La “carga” es un dato calculado a partir de una fórmula polinómica que tiene en cuenta datos de la intensidad real, ocupación, intensidad de saturación y otros parámetros. En cuanto al término “intensidad de saturación”, es el número máximo de vehículos que pueden pasar en una hora por un punto de la vía, teniendo en cuenta todos los carriles de circulación de la sección de la vía"
   ]
  },
  {
   "cell_type": "code",
   "execution_count": null,
   "id": "dcedb7c2",
   "metadata": {},
   "outputs": [],
   "source": []
  },
  {
   "cell_type": "code",
   "execution_count": null,
   "id": "26f1b619",
   "metadata": {},
   "outputs": [],
   "source": []
  },
  {
   "cell_type": "code",
   "execution_count": null,
   "id": "9963f659",
   "metadata": {},
   "outputs": [],
   "source": []
  },
  {
   "cell_type": "markdown",
   "id": "41719708",
   "metadata": {},
   "source": [
    "Hacemos con la fecha las siguientes columnas:\n",
    "- hora\n",
    "- día de la semana\n",
    "- fecha"
   ]
  },
  {
   "cell_type": "code",
   "execution_count": 18,
   "id": "4b32405b",
   "metadata": {},
   "outputs": [],
   "source": [
    "aaa=traff_may_2019_df.head(50)"
   ]
  },
  {
   "cell_type": "code",
   "execution_count": 21,
   "id": "e573f242",
   "metadata": {},
   "outputs": [],
   "source": [
    "separado=aaa[\"fecha\"].str.split(\" \", n=1, expand=True)"
   ]
  },
  {
   "cell_type": "code",
   "execution_count": 22,
   "id": "19dbc308",
   "metadata": {},
   "outputs": [
    {
     "name": "stderr",
     "output_type": "stream",
     "text": [
      "/tmp/ipykernel_3672/2344899064.py:1: SettingWithCopyWarning: \n",
      "A value is trying to be set on a copy of a slice from a DataFrame.\n",
      "Try using .loc[row_indexer,col_indexer] = value instead\n",
      "\n",
      "See the caveats in the documentation: https://pandas.pydata.org/pandas-docs/stable/user_guide/indexing.html#returning-a-view-versus-a-copy\n",
      "  aaa[\"date\"]= separado[0]\n"
     ]
    }
   ],
   "source": [
    "aaa[\"date\"]= separado[0]"
   ]
  },
  {
   "cell_type": "code",
   "execution_count": 24,
   "id": "04da7c09",
   "metadata": {},
   "outputs": [
    {
     "name": "stderr",
     "output_type": "stream",
     "text": [
      "/tmp/ipykernel_3672/3372768314.py:1: SettingWithCopyWarning: \n",
      "A value is trying to be set on a copy of a slice from a DataFrame.\n",
      "Try using .loc[row_indexer,col_indexer] = value instead\n",
      "\n",
      "See the caveats in the documentation: https://pandas.pydata.org/pandas-docs/stable/user_guide/indexing.html#returning-a-view-versus-a-copy\n",
      "  aaa['hour']=separado[1]\n"
     ]
    }
   ],
   "source": [
    "aaa['hour']=separado[1]"
   ]
  },
  {
   "cell_type": "code",
   "execution_count": 26,
   "id": "faf42b40",
   "metadata": {},
   "outputs": [
    {
     "data": {
      "text/html": [
       "<div>\n",
       "<style scoped>\n",
       "    .dataframe tbody tr th:only-of-type {\n",
       "        vertical-align: middle;\n",
       "    }\n",
       "\n",
       "    .dataframe tbody tr th {\n",
       "        vertical-align: top;\n",
       "    }\n",
       "\n",
       "    .dataframe thead th {\n",
       "        text-align: right;\n",
       "    }\n",
       "</style>\n",
       "<table border=\"1\" class=\"dataframe\">\n",
       "  <thead>\n",
       "    <tr style=\"text-align: right;\">\n",
       "      <th></th>\n",
       "      <th>id</th>\n",
       "      <th>fecha</th>\n",
       "      <th>tipo_elem</th>\n",
       "      <th>intensidad</th>\n",
       "      <th>ocupacion</th>\n",
       "      <th>carga</th>\n",
       "      <th>error</th>\n",
       "      <th>date</th>\n",
       "      <th>hour</th>\n",
       "    </tr>\n",
       "  </thead>\n",
       "  <tbody>\n",
       "    <tr>\n",
       "      <th>139872</th>\n",
       "      <td>3395</td>\n",
       "      <td>2019-05-01 00:00:00</td>\n",
       "      <td>URB</td>\n",
       "      <td>207</td>\n",
       "      <td>2.0</td>\n",
       "      <td>13</td>\n",
       "      <td>N</td>\n",
       "      <td>2019-05-01</td>\n",
       "      <td>00:00:00</td>\n",
       "    </tr>\n",
       "    <tr>\n",
       "      <th>139873</th>\n",
       "      <td>3395</td>\n",
       "      <td>2019-05-01 00:15:00</td>\n",
       "      <td>URB</td>\n",
       "      <td>220</td>\n",
       "      <td>2.0</td>\n",
       "      <td>14</td>\n",
       "      <td>N</td>\n",
       "      <td>2019-05-01</td>\n",
       "      <td>00:15:00</td>\n",
       "    </tr>\n",
       "    <tr>\n",
       "      <th>139874</th>\n",
       "      <td>3395</td>\n",
       "      <td>2019-05-01 00:30:00</td>\n",
       "      <td>URB</td>\n",
       "      <td>196</td>\n",
       "      <td>2.0</td>\n",
       "      <td>13</td>\n",
       "      <td>N</td>\n",
       "      <td>2019-05-01</td>\n",
       "      <td>00:30:00</td>\n",
       "    </tr>\n",
       "    <tr>\n",
       "      <th>139875</th>\n",
       "      <td>3395</td>\n",
       "      <td>2019-05-01 00:45:00</td>\n",
       "      <td>URB</td>\n",
       "      <td>169</td>\n",
       "      <td>2.0</td>\n",
       "      <td>12</td>\n",
       "      <td>N</td>\n",
       "      <td>2019-05-01</td>\n",
       "      <td>00:45:00</td>\n",
       "    </tr>\n",
       "    <tr>\n",
       "      <th>139876</th>\n",
       "      <td>3395</td>\n",
       "      <td>2019-05-01 01:00:00</td>\n",
       "      <td>URB</td>\n",
       "      <td>176</td>\n",
       "      <td>4.0</td>\n",
       "      <td>13</td>\n",
       "      <td>N</td>\n",
       "      <td>2019-05-01</td>\n",
       "      <td>01:00:00</td>\n",
       "    </tr>\n",
       "  </tbody>\n",
       "</table>\n",
       "</div>"
      ],
      "text/plain": [
       "          id                fecha tipo_elem  intensidad  ocupacion  carga  \\\n",
       "139872  3395  2019-05-01 00:00:00       URB         207        2.0     13   \n",
       "139873  3395  2019-05-01 00:15:00       URB         220        2.0     14   \n",
       "139874  3395  2019-05-01 00:30:00       URB         196        2.0     13   \n",
       "139875  3395  2019-05-01 00:45:00       URB         169        2.0     12   \n",
       "139876  3395  2019-05-01 01:00:00       URB         176        4.0     13   \n",
       "\n",
       "       error        date      hour  \n",
       "139872     N  2019-05-01  00:00:00  \n",
       "139873     N  2019-05-01  00:15:00  \n",
       "139874     N  2019-05-01  00:30:00  \n",
       "139875     N  2019-05-01  00:45:00  \n",
       "139876     N  2019-05-01  01:00:00  "
      ]
     },
     "execution_count": 26,
     "metadata": {},
     "output_type": "execute_result"
    }
   ],
   "source": [
    "aaa.head()"
   ]
  },
  {
   "cell_type": "code",
   "execution_count": 37,
   "id": "b6942dbe",
   "metadata": {},
   "outputs": [],
   "source": [
    "import datetime \n",
    "import calendar"
   ]
  },
  {
   "cell_type": "code",
   "execution_count": 46,
   "id": "a28d2f30",
   "metadata": {},
   "outputs": [],
   "source": [
    "def findDay(date): \n",
    "    born = datetime.datetime.strptime(date, '%Y-%m-%d').weekday() \n",
    "    return (calendar.day_name[born]) "
   ]
  },
  {
   "cell_type": "code",
   "execution_count": 47,
   "id": "bac59c63",
   "metadata": {},
   "outputs": [
    {
     "data": {
      "text/plain": [
       "'Wednesday'"
      ]
     },
     "execution_count": 47,
     "metadata": {},
     "output_type": "execute_result"
    }
   ],
   "source": [
    "findDay('2019-05-01')"
   ]
  },
  {
   "cell_type": "code",
   "execution_count": null,
   "id": "154d29d0",
   "metadata": {},
   "outputs": [],
   "source": []
  },
  {
   "cell_type": "code",
   "execution_count": 48,
   "id": "47a2f5a2",
   "metadata": {},
   "outputs": [
    {
     "name": "stderr",
     "output_type": "stream",
     "text": [
      "/tmp/ipykernel_3672/3834324745.py:1: SettingWithCopyWarning: \n",
      "A value is trying to be set on a copy of a slice from a DataFrame.\n",
      "Try using .loc[row_indexer,col_indexer] = value instead\n",
      "\n",
      "See the caveats in the documentation: https://pandas.pydata.org/pandas-docs/stable/user_guide/indexing.html#returning-a-view-versus-a-copy\n",
      "  aaa['weak_day']=aaa['date'].apply(findDay)\n"
     ]
    }
   ],
   "source": [
    "aaa['weak_day']=aaa['date'].apply(findDay) "
   ]
  },
  {
   "cell_type": "code",
   "execution_count": 49,
   "id": "12dab0f4",
   "metadata": {},
   "outputs": [
    {
     "data": {
      "text/html": [
       "<div>\n",
       "<style scoped>\n",
       "    .dataframe tbody tr th:only-of-type {\n",
       "        vertical-align: middle;\n",
       "    }\n",
       "\n",
       "    .dataframe tbody tr th {\n",
       "        vertical-align: top;\n",
       "    }\n",
       "\n",
       "    .dataframe thead th {\n",
       "        text-align: right;\n",
       "    }\n",
       "</style>\n",
       "<table border=\"1\" class=\"dataframe\">\n",
       "  <thead>\n",
       "    <tr style=\"text-align: right;\">\n",
       "      <th></th>\n",
       "      <th>id</th>\n",
       "      <th>fecha</th>\n",
       "      <th>tipo_elem</th>\n",
       "      <th>intensidad</th>\n",
       "      <th>ocupacion</th>\n",
       "      <th>carga</th>\n",
       "      <th>error</th>\n",
       "      <th>date</th>\n",
       "      <th>hour</th>\n",
       "      <th>weak_day</th>\n",
       "    </tr>\n",
       "  </thead>\n",
       "  <tbody>\n",
       "    <tr>\n",
       "      <th>139872</th>\n",
       "      <td>3395</td>\n",
       "      <td>2019-05-01 00:00:00</td>\n",
       "      <td>URB</td>\n",
       "      <td>207</td>\n",
       "      <td>2.0</td>\n",
       "      <td>13</td>\n",
       "      <td>N</td>\n",
       "      <td>2019-05-01</td>\n",
       "      <td>00:00:00</td>\n",
       "      <td>Wednesday</td>\n",
       "    </tr>\n",
       "    <tr>\n",
       "      <th>139873</th>\n",
       "      <td>3395</td>\n",
       "      <td>2019-05-01 00:15:00</td>\n",
       "      <td>URB</td>\n",
       "      <td>220</td>\n",
       "      <td>2.0</td>\n",
       "      <td>14</td>\n",
       "      <td>N</td>\n",
       "      <td>2019-05-01</td>\n",
       "      <td>00:15:00</td>\n",
       "      <td>Wednesday</td>\n",
       "    </tr>\n",
       "    <tr>\n",
       "      <th>139874</th>\n",
       "      <td>3395</td>\n",
       "      <td>2019-05-01 00:30:00</td>\n",
       "      <td>URB</td>\n",
       "      <td>196</td>\n",
       "      <td>2.0</td>\n",
       "      <td>13</td>\n",
       "      <td>N</td>\n",
       "      <td>2019-05-01</td>\n",
       "      <td>00:30:00</td>\n",
       "      <td>Wednesday</td>\n",
       "    </tr>\n",
       "    <tr>\n",
       "      <th>139875</th>\n",
       "      <td>3395</td>\n",
       "      <td>2019-05-01 00:45:00</td>\n",
       "      <td>URB</td>\n",
       "      <td>169</td>\n",
       "      <td>2.0</td>\n",
       "      <td>12</td>\n",
       "      <td>N</td>\n",
       "      <td>2019-05-01</td>\n",
       "      <td>00:45:00</td>\n",
       "      <td>Wednesday</td>\n",
       "    </tr>\n",
       "    <tr>\n",
       "      <th>139876</th>\n",
       "      <td>3395</td>\n",
       "      <td>2019-05-01 01:00:00</td>\n",
       "      <td>URB</td>\n",
       "      <td>176</td>\n",
       "      <td>4.0</td>\n",
       "      <td>13</td>\n",
       "      <td>N</td>\n",
       "      <td>2019-05-01</td>\n",
       "      <td>01:00:00</td>\n",
       "      <td>Wednesday</td>\n",
       "    </tr>\n",
       "  </tbody>\n",
       "</table>\n",
       "</div>"
      ],
      "text/plain": [
       "          id                fecha tipo_elem  intensidad  ocupacion  carga  \\\n",
       "139872  3395  2019-05-01 00:00:00       URB         207        2.0     13   \n",
       "139873  3395  2019-05-01 00:15:00       URB         220        2.0     14   \n",
       "139874  3395  2019-05-01 00:30:00       URB         196        2.0     13   \n",
       "139875  3395  2019-05-01 00:45:00       URB         169        2.0     12   \n",
       "139876  3395  2019-05-01 01:00:00       URB         176        4.0     13   \n",
       "\n",
       "       error        date      hour   weak_day  \n",
       "139872     N  2019-05-01  00:00:00  Wednesday  \n",
       "139873     N  2019-05-01  00:15:00  Wednesday  \n",
       "139874     N  2019-05-01  00:30:00  Wednesday  \n",
       "139875     N  2019-05-01  00:45:00  Wednesday  \n",
       "139876     N  2019-05-01  01:00:00  Wednesday  "
      ]
     },
     "execution_count": 49,
     "metadata": {},
     "output_type": "execute_result"
    }
   ],
   "source": [
    "aaa.head()"
   ]
  },
  {
   "cell_type": "code",
   "execution_count": null,
   "id": "bf712a1a",
   "metadata": {},
   "outputs": [],
   "source": []
  },
  {
   "cell_type": "code",
   "execution_count": null,
   "id": "84bd7abb",
   "metadata": {},
   "outputs": [],
   "source": []
  },
  {
   "cell_type": "code",
   "execution_count": null,
   "id": "0e015d5e",
   "metadata": {},
   "outputs": [],
   "source": []
  },
  {
   "cell_type": "code",
   "execution_count": null,
   "id": "612cd75e",
   "metadata": {},
   "outputs": [],
   "source": []
  },
  {
   "cell_type": "code",
   "execution_count": null,
   "id": "050a161e",
   "metadata": {},
   "outputs": [],
   "source": []
  },
  {
   "cell_type": "code",
   "execution_count": null,
   "id": "992d8711",
   "metadata": {},
   "outputs": [],
   "source": []
  },
  {
   "cell_type": "code",
   "execution_count": 29,
   "id": "4f44a051",
   "metadata": {},
   "outputs": [
    {
     "data": {
      "text/html": [
       "<div>\n",
       "<style scoped>\n",
       "    .dataframe tbody tr th:only-of-type {\n",
       "        vertical-align: middle;\n",
       "    }\n",
       "\n",
       "    .dataframe tbody tr th {\n",
       "        vertical-align: top;\n",
       "    }\n",
       "\n",
       "    .dataframe thead th {\n",
       "        text-align: right;\n",
       "    }\n",
       "</style>\n",
       "<table border=\"1\" class=\"dataframe\">\n",
       "  <thead>\n",
       "    <tr style=\"text-align: right;\">\n",
       "      <th></th>\n",
       "      <th>fecha</th>\n",
       "      <th>tipo_elem</th>\n",
       "      <th>intensidad</th>\n",
       "      <th>ocupacion</th>\n",
       "      <th>carga</th>\n",
       "      <th>error</th>\n",
       "    </tr>\n",
       "    <tr>\n",
       "      <th>id</th>\n",
       "      <th></th>\n",
       "      <th></th>\n",
       "      <th></th>\n",
       "      <th></th>\n",
       "      <th></th>\n",
       "      <th></th>\n",
       "    </tr>\n",
       "  </thead>\n",
       "  <tbody>\n",
       "    <tr>\n",
       "      <th>3395</th>\n",
       "      <td>2878</td>\n",
       "      <td>2878</td>\n",
       "      <td>2878</td>\n",
       "      <td>2878</td>\n",
       "      <td>2878</td>\n",
       "      <td>2878</td>\n",
       "    </tr>\n",
       "    <tr>\n",
       "      <th>3396</th>\n",
       "      <td>2877</td>\n",
       "      <td>2877</td>\n",
       "      <td>2877</td>\n",
       "      <td>2877</td>\n",
       "      <td>2877</td>\n",
       "      <td>2877</td>\n",
       "    </tr>\n",
       "    <tr>\n",
       "      <th>3397</th>\n",
       "      <td>2898</td>\n",
       "      <td>2898</td>\n",
       "      <td>2898</td>\n",
       "      <td>2898</td>\n",
       "      <td>2898</td>\n",
       "      <td>2898</td>\n",
       "    </tr>\n",
       "    <tr>\n",
       "      <th>3398</th>\n",
       "      <td>2784</td>\n",
       "      <td>2784</td>\n",
       "      <td>2784</td>\n",
       "      <td>2784</td>\n",
       "      <td>2784</td>\n",
       "      <td>2784</td>\n",
       "    </tr>\n",
       "    <tr>\n",
       "      <th>3399</th>\n",
       "      <td>2578</td>\n",
       "      <td>2578</td>\n",
       "      <td>2578</td>\n",
       "      <td>2578</td>\n",
       "      <td>2578</td>\n",
       "      <td>2578</td>\n",
       "    </tr>\n",
       "    <tr>\n",
       "      <th>...</th>\n",
       "      <td>...</td>\n",
       "      <td>...</td>\n",
       "      <td>...</td>\n",
       "      <td>...</td>\n",
       "      <td>...</td>\n",
       "      <td>...</td>\n",
       "    </tr>\n",
       "    <tr>\n",
       "      <th>10409</th>\n",
       "      <td>2880</td>\n",
       "      <td>2880</td>\n",
       "      <td>2880</td>\n",
       "      <td>2880</td>\n",
       "      <td>2880</td>\n",
       "      <td>2880</td>\n",
       "    </tr>\n",
       "    <tr>\n",
       "      <th>10410</th>\n",
       "      <td>1102</td>\n",
       "      <td>1102</td>\n",
       "      <td>1102</td>\n",
       "      <td>1102</td>\n",
       "      <td>1102</td>\n",
       "      <td>1102</td>\n",
       "    </tr>\n",
       "    <tr>\n",
       "      <th>10412</th>\n",
       "      <td>45</td>\n",
       "      <td>45</td>\n",
       "      <td>45</td>\n",
       "      <td>45</td>\n",
       "      <td>45</td>\n",
       "      <td>45</td>\n",
       "    </tr>\n",
       "    <tr>\n",
       "      <th>10413</th>\n",
       "      <td>45</td>\n",
       "      <td>45</td>\n",
       "      <td>45</td>\n",
       "      <td>45</td>\n",
       "      <td>45</td>\n",
       "      <td>45</td>\n",
       "    </tr>\n",
       "    <tr>\n",
       "      <th>10414</th>\n",
       "      <td>45</td>\n",
       "      <td>45</td>\n",
       "      <td>45</td>\n",
       "      <td>45</td>\n",
       "      <td>45</td>\n",
       "      <td>45</td>\n",
       "    </tr>\n",
       "  </tbody>\n",
       "</table>\n",
       "<p>3551 rows × 6 columns</p>\n",
       "</div>"
      ],
      "text/plain": [
       "       fecha  tipo_elem  intensidad  ocupacion  carga  error\n",
       "id                                                          \n",
       "3395    2878       2878        2878       2878   2878   2878\n",
       "3396    2877       2877        2877       2877   2877   2877\n",
       "3397    2898       2898        2898       2898   2898   2898\n",
       "3398    2784       2784        2784       2784   2784   2784\n",
       "3399    2578       2578        2578       2578   2578   2578\n",
       "...      ...        ...         ...        ...    ...    ...\n",
       "10409   2880       2880        2880       2880   2880   2880\n",
       "10410   1102       1102        1102       1102   1102   1102\n",
       "10412     45         45          45         45     45     45\n",
       "10413     45         45          45         45     45     45\n",
       "10414     45         45          45         45     45     45\n",
       "\n",
       "[3551 rows x 6 columns]"
      ]
     },
     "execution_count": 29,
     "metadata": {},
     "output_type": "execute_result"
    }
   ],
   "source": [
    "num_id=traff_may_2019_clean_df.groupby('id').count()\n",
    "num_id"
   ]
  },
  {
   "cell_type": "code",
   "execution_count": null,
   "id": "370d3541",
   "metadata": {},
   "outputs": [],
   "source": []
  },
  {
   "cell_type": "code",
   "execution_count": null,
   "id": "4ee0d11a",
   "metadata": {},
   "outputs": [],
   "source": []
  },
  {
   "cell_type": "code",
   "execution_count": null,
   "id": "68c7c326",
   "metadata": {},
   "outputs": [],
   "source": []
  },
  {
   "cell_type": "markdown",
   "id": "3e9f5cbc",
   "metadata": {},
   "source": [
    "Criterios de filtrado:\n",
    "- tipo_elem: URB"
   ]
  },
  {
   "cell_type": "code",
   "execution_count": null,
   "id": "3dc29c98",
   "metadata": {},
   "outputs": [],
   "source": []
  },
  {
   "cell_type": "code",
   "execution_count": null,
   "id": "3f6e0527",
   "metadata": {},
   "outputs": [],
   "source": []
  },
  {
   "cell_type": "code",
   "execution_count": null,
   "id": "8f262d38",
   "metadata": {},
   "outputs": [],
   "source": []
  },
  {
   "cell_type": "code",
   "execution_count": null,
   "id": "68d49c5a",
   "metadata": {},
   "outputs": [],
   "source": []
  },
  {
   "cell_type": "code",
   "execution_count": null,
   "id": "cada16bb",
   "metadata": {},
   "outputs": [],
   "source": []
  },
  {
   "cell_type": "code",
   "execution_count": null,
   "id": "c5243fbf",
   "metadata": {},
   "outputs": [],
   "source": []
  }
 ],
 "metadata": {
  "kernelspec": {
   "display_name": "Python 3 (ipykernel)",
   "language": "python",
   "name": "python3"
  },
  "language_info": {
   "codemirror_mode": {
    "name": "ipython",
    "version": 3
   },
   "file_extension": ".py",
   "mimetype": "text/x-python",
   "name": "python",
   "nbconvert_exporter": "python",
   "pygments_lexer": "ipython3",
   "version": "3.8.2"
  }
 },
 "nbformat": 4,
 "nbformat_minor": 5
}
