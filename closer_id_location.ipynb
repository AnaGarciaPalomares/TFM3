{
 "cells": [
  {
   "cell_type": "code",
   "execution_count": null,
   "id": "de409901",
   "metadata": {},
   "outputs": [],
   "source": [
    "import numpy as np\n",
    "import pandas as pd"
   ]
  },
  {
   "cell_type": "markdown",
   "id": "29d2cd5f",
   "metadata": {},
   "source": [
    "Vamos a generar un archivo en el que se le asigne a cada siniestro su identificador de tráfico más cercano. \n",
    "\n",
    "Para ello tendremos que importar dos archivos de datos:\n",
    "- Fichero de la fuente de datos, donde se enumeran los identificativos y sus ubicaciones\n",
    "- Archivo de accidentes"
   ]
  },
  {
   "cell_type": "code",
   "execution_count": null,
   "id": "829a371d",
   "metadata": {},
   "outputs": [],
   "source": [
    "path_acc_wea = '/home/dsc/Master DS/TFM/GIT/acc_wea.csv'"
   ]
  },
  {
   "cell_type": "code",
   "execution_count": null,
   "id": "ca7488ab",
   "metadata": {},
   "outputs": [],
   "source": [
    "path_locations = '/home/dsc/Master DS/TFM/TFM INFO/measure_points/pmed_ubicacion_12-2021.csv'"
   ]
  },
  {
   "cell_type": "code",
   "execution_count": null,
   "id": "7408e465",
   "metadata": {},
   "outputs": [],
   "source": [
    "locations = pd.read_csv(path_locations, sep = ';' )"
   ]
  },
  {
   "cell_type": "code",
   "execution_count": null,
   "id": "b06b12e2",
   "metadata": {},
   "outputs": [],
   "source": [
    "accidents_wea = pd.read_csv(path_acc_wea, sep = '^' )"
   ]
  },
  {
   "cell_type": "code",
   "execution_count": null,
   "id": "e2cb0b93",
   "metadata": {},
   "outputs": [],
   "source": [
    "!cat acc_wea.csv"
   ]
  },
  {
   "cell_type": "markdown",
   "id": "fc390fa4",
   "metadata": {},
   "source": [
    "Para poder trabajar con las coordenadas debe haber uniformidad entres los dos ficheros.\n",
    "\n",
    "De la previsualizacion del documento de 'acc_wea' observamos que las coordenadas incluyen \".\" y no tienen decimales. Por ello debemos procesarlas, eliminando los '.' y divididiendo por 1000 ambas columnas, para que sea comparable con el otro fichero.\n",
    "\n",
    "Además para este paso unicamente necesitaremos del archivo de 'acc_wea' las columnas 'num_expediente', 'coordenada_x_utm' y 'coordenada_y_utm'. "
   ]
  },
  {
   "cell_type": "code",
   "execution_count": null,
   "id": "6bff9ddc",
   "metadata": {},
   "outputs": [],
   "source": [
    "num_acc_wea = accidents_wea[['num_expediente', 'coordenada_x_utm','coordenada_y_utm']]\n",
    "num_acc_wea_clean = num_acc_wea.drop_duplicates()\n",
    "acc_list = num_acc_wea_clean.copy()"
   ]
  },
  {
   "cell_type": "code",
   "execution_count": null,
   "id": "fc9e2d23",
   "metadata": {},
   "outputs": [],
   "source": [
    "acc_list[\"coordenada_x_utm\"] = acc_list['coordenada_x_utm'].str.replace('.','')\n",
    "acc_list[\"coordenada_y_utm\"] = acc_list['coordenada_y_utm'].str.replace('.','')"
   ]
  },
  {
   "cell_type": "code",
   "execution_count": null,
   "id": "c94d7514",
   "metadata": {},
   "outputs": [],
   "source": [
    "acc_list['coordenada_x_utm'] = pd.to_numeric(acc_list['coordenada_x_utm'],errors = 'coerce')\n",
    "acc_list['coordenada_y_utm'] = pd.to_numeric(acc_list['coordenada_y_utm'],errors = 'coerce')"
   ]
  },
  {
   "cell_type": "code",
   "execution_count": null,
   "id": "f9c06681",
   "metadata": {},
   "outputs": [],
   "source": [
    "def divide_1000(x):\n",
    "    return x/1000"
   ]
  },
  {
   "cell_type": "code",
   "execution_count": null,
   "id": "ee100f67",
   "metadata": {},
   "outputs": [],
   "source": [
    "acc_list['coordenada_x_utm'] = acc_list['coordenada_x_utm'].apply(divide_1000)\n",
    "acc_list['coordenada_y_utm'] = acc_list['coordenada_y_utm'].apply(divide_1000)"
   ]
  },
  {
   "cell_type": "code",
   "execution_count": null,
   "id": "861cf993",
   "metadata": {},
   "outputs": [],
   "source": [
    "acc_list.head()"
   ]
  },
  {
   "cell_type": "code",
   "execution_count": null,
   "id": "19fc8d98",
   "metadata": {},
   "outputs": [],
   "source": [
    "acc_list.reset_index()"
   ]
  },
  {
   "cell_type": "markdown",
   "id": "db2bbdc0",
   "metadata": {},
   "source": [
    "Del fichero de localizaciones unicamente nos quedaremos con aquellos que están ubicados dentro de la M30. Y del total del dataset solo nos serán útiles las columnas de 'id', 'utm_x' y 'utm_y'."
   ]
  },
  {
   "cell_type": "code",
   "execution_count": null,
   "id": "335db30e",
   "metadata": {},
   "outputs": [],
   "source": [
    "cond_M30 = locations[locations['tipo_elem']=='M30'].index\n",
    "locations_M30 = locations.drop(cond_M30,inplace=False)"
   ]
  },
  {
   "cell_type": "code",
   "execution_count": null,
   "id": "6d543662",
   "metadata": {},
   "outputs": [],
   "source": [
    "columns_id = ['id','utm_x','utm_y']"
   ]
  },
  {
   "cell_type": "code",
   "execution_count": null,
   "id": "133ca91c",
   "metadata": {},
   "outputs": [],
   "source": [
    "df_locations_M30 = locations_M30[columns_id]"
   ]
  },
  {
   "cell_type": "markdown",
   "id": "ad7cdda9",
   "metadata": {},
   "source": [
    "Ahora vamos a ver como le asignamos el identificativo mas cercano.\n",
    "\n",
    "Para calcular la distancia entre dos puntos con coordenadas UTM usaremos la siguiente formula:\n",
    "\n",
    "(x^2 + y^2)^0.5 "
   ]
  },
  {
   "cell_type": "code",
   "execution_count": null,
   "id": "20063653",
   "metadata": {},
   "outputs": [],
   "source": [
    "m30_id_list = df_locations_M30.to_numpy().tolist()"
   ]
  },
  {
   "cell_type": "code",
   "execution_count": null,
   "id": "c8975c2e",
   "metadata": {},
   "outputs": [],
   "source": [
    "m30_id_list"
   ]
  },
  {
   "cell_type": "raw",
   "id": "8f77482c",
   "metadata": {},
   "source": [
    "Esto a continuacion lo borraremos aunque por ahora lo mantenemos"
   ]
  },
  {
   "cell_type": "code",
   "execution_count": null,
   "id": "4994a408",
   "metadata": {},
   "outputs": [],
   "source": [
    "num_exp = ['2019S000001', 441454.558170417, 4475270.02564628]"
   ]
  },
  {
   "cell_type": "code",
   "execution_count": null,
   "id": "1b602c6e",
   "metadata": {},
   "outputs": [],
   "source": [
    "#no tocar\n",
    "def fun_closer_id(num_exp):\n",
    "    \n",
    "    distances = []\n",
    "    result = []\n",
    "    \n",
    "    for i in m30_id_list:\n",
    "        distances.append((((num_exp[2]-i[2])**2)-((num_exp[1]-i[1])**2))**0.5)\n",
    "        distances_list = list(map(abs, distances))\n",
    "        closer = min((distances_list))\n",
    "        index = distances_list.index(closer)\n",
    "        closer_id = pd.to_numeric(m30_id_list[index][0])\n",
    "        aa = str(num_exp[0])\n",
    "    \n",
    "    result.append(aa)\n",
    "    result.append(closer_id)\n",
    "    \n",
    "    print(result)"
   ]
  },
  {
   "cell_type": "code",
   "execution_count": null,
   "id": "b1a5e214",
   "metadata": {},
   "outputs": [],
   "source": [
    "fun_closer_id(num_exp)"
   ]
  },
  {
   "cell_type": "code",
   "execution_count": null,
   "id": "ba04f6b0",
   "metadata": {},
   "outputs": [],
   "source": [
    "import math"
   ]
  },
  {
   "cell_type": "raw",
   "id": "b530804e",
   "metadata": {},
   "source": [
    "Esta es la funcion definitiva\n",
    "EMOCIóN MÁxima"
   ]
  },
  {
   "cell_type": "code",
   "execution_count": null,
   "id": "8d7fb58f",
   "metadata": {},
   "outputs": [],
   "source": [
    "def fun_closer_id_DF(df):\n",
    "    \n",
    "    lista = []\n",
    "    \n",
    "    for t in range(len(df.index)):\n",
    "        num_exp = []\n",
    "        num_exp.append(df['num_expediente'][t])\n",
    "        num_exp.append(df['coordenada_x_utm'][t])\n",
    "        num_exp.append(df['coordenada_y_utm'][t])\n",
    "        #print(num_exp)\n",
    "        \n",
    "        num_exp_esp = []\n",
    "        num_exp_esp.append(df['coordenada_x_utm'][t])\n",
    "        num_exp_esp.append(df['coordenada_y_utm'][t])\n",
    "        #print(num_exp_esp)\n",
    "        \n",
    "        distances = []\n",
    "        result = []\n",
    "\n",
    "        for i in m30_id_list:\n",
    "            i_esp = [i[1],i[2]]\n",
    "            distances.append(math.dist(num_exp_esp,i_esp))\n",
    "            distances_list = list(map(abs, distances))\n",
    "            closer = min((distances_list))\n",
    "            index = distances_list.index(closer)\n",
    "            closer_id = pd.to_numeric(m30_id_list[index][0])\n",
    "            aa = str(num_exp[0])\n",
    "\n",
    "        result.append(aa)\n",
    "        result.append(closer_id)\n",
    "\n",
    "        #print(result)\n",
    "        lista.append(result)\n",
    "    #lista.append(result)\n",
    "    print(lista)\n",
    "    "
   ]
  },
  {
   "cell_type": "code",
   "execution_count": null,
   "id": "b52c1647",
   "metadata": {},
   "outputs": [],
   "source": [
    "bbb = acc_list.iloc [:100] \n",
    "bbb.columns"
   ]
  },
  {
   "cell_type": "code",
   "execution_count": null,
   "id": "3ee9476a",
   "metadata": {},
   "outputs": [],
   "source": [
    "sss = bbb.reset_index()\n",
    "sss"
   ]
  },
  {
   "cell_type": "code",
   "execution_count": null,
   "id": "9d4ebdaf",
   "metadata": {},
   "outputs": [],
   "source": [
    "sss = acc_list.reset_index()"
   ]
  },
  {
   "cell_type": "code",
   "execution_count": null,
   "id": "32dcdd16",
   "metadata": {},
   "outputs": [],
   "source": [
    "jjj = fun_closer_id_DF(sss)"
   ]
  },
  {
   "cell_type": "code",
   "execution_count": null,
   "id": "5c83b6b4",
   "metadata": {},
   "outputs": [],
   "source": [
    "list(jjj)"
   ]
  },
  {
   "cell_type": "code",
   "execution_count": null,
   "id": "fb877d47",
   "metadata": {},
   "outputs": [],
   "source": [
    "jjj"
   ]
  },
  {
   "cell_type": "code",
   "execution_count": null,
   "id": "1ac907d6",
   "metadata": {},
   "outputs": [],
   "source": []
  },
  {
   "cell_type": "code",
   "execution_count": null,
   "id": "4e4d6347",
   "metadata": {},
   "outputs": [],
   "source": []
  }
 ],
 "metadata": {
  "kernelspec": {
   "display_name": "Python 3 (ipykernel)",
   "language": "python",
   "name": "python3"
  },
  "language_info": {
   "codemirror_mode": {
    "name": "ipython",
    "version": 3
   },
   "file_extension": ".py",
   "mimetype": "text/x-python",
   "name": "python",
   "nbconvert_exporter": "python",
   "pygments_lexer": "ipython3",
   "version": "3.8.2"
  }
 },
 "nbformat": 4,
 "nbformat_minor": 5
}
